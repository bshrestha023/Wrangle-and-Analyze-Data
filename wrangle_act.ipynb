{
 "cells": [
  {
   "cell_type": "markdown",
   "metadata": {},
   "source": [
    "# Data Wrangling"
   ]
  },
  {
   "cell_type": "markdown",
   "metadata": {},
   "source": [
    "## Introduction\n",
    "The dataset that has been wrangled in this project is sourced from the twitter archive associated with tweets from various twitter users @dog_rates, also known as WeRateDogs. WeRateDogs is a twitter account that has received a huge amount of international media attention as users rate dogs with a humorous comment. There are three datasets in this project: twitter archive data, image predition data, and tweet json data. The datasets need to be laoded, assessed and cleaned utilizing various analytics methodologies of pandas framework. One of the datasets consist of 2356 tweets in total that range from Nov 2015 to Aug 2017. Additionally, visualizations need to be created to understand and display the meaning of the data."
   ]
  },
  {
   "cell_type": "markdown",
   "metadata": {},
   "source": [
    "### Project Details\n",
    "Below is the outline of the project\n",
    "* Data wrangling that consists of\n",
    "    - Gathering Data\n",
    "    - Assessing Data\n",
    "    - Cleaning Data\n",
    "* Storing, Analyzing, and Visualizing the wrangled data\n",
    "* Reporting on 1) the data wrangling efforts and 2) the data analysis and visualization\n"
   ]
  },
  {
   "cell_type": "markdown",
   "metadata": {},
   "source": [
    "## Gathering Data\n",
    "### 1. Twitter data"
   ]
  },
  {
   "cell_type": "code",
   "execution_count": 19,
   "metadata": {},
   "outputs": [],
   "source": [
    "#Import all packages needed\n",
    "import pandas as pd\n",
    "import numpy as np\n",
    "import matplotlib.pyplot as plt\n",
    "%matplotlib inline\n",
    "import requests\n",
    "import tweepy\n",
    "import re\n",
    "import json\n",
    "import seaborn as sns"
   ]
  },
  {
   "cell_type": "code",
   "execution_count": 20,
   "metadata": {},
   "outputs": [],
   "source": [
    "#Read CSV file \n",
    "twitter_df = pd.read_csv('twitter-archive-enhanced-2.csv')"
   ]
  },
  {
   "cell_type": "code",
   "execution_count": 21,
   "metadata": {},
   "outputs": [
    {
     "data": {
      "text/html": [
       "<div>\n",
       "<style scoped>\n",
       "    .dataframe tbody tr th:only-of-type {\n",
       "        vertical-align: middle;\n",
       "    }\n",
       "\n",
       "    .dataframe tbody tr th {\n",
       "        vertical-align: top;\n",
       "    }\n",
       "\n",
       "    .dataframe thead th {\n",
       "        text-align: right;\n",
       "    }\n",
       "</style>\n",
       "<table border=\"1\" class=\"dataframe\">\n",
       "  <thead>\n",
       "    <tr style=\"text-align: right;\">\n",
       "      <th></th>\n",
       "      <th>tweet_id</th>\n",
       "      <th>in_reply_to_status_id</th>\n",
       "      <th>in_reply_to_user_id</th>\n",
       "      <th>timestamp</th>\n",
       "      <th>source</th>\n",
       "      <th>text</th>\n",
       "      <th>retweeted_status_id</th>\n",
       "      <th>retweeted_status_user_id</th>\n",
       "      <th>retweeted_status_timestamp</th>\n",
       "      <th>expanded_urls</th>\n",
       "      <th>rating_numerator</th>\n",
       "      <th>rating_denominator</th>\n",
       "      <th>name</th>\n",
       "      <th>doggo</th>\n",
       "      <th>floofer</th>\n",
       "      <th>pupper</th>\n",
       "      <th>puppo</th>\n",
       "    </tr>\n",
       "  </thead>\n",
       "  <tbody>\n",
       "    <tr>\n",
       "      <th>0</th>\n",
       "      <td>892420643555336193</td>\n",
       "      <td>NaN</td>\n",
       "      <td>NaN</td>\n",
       "      <td>2017-08-01 16:23:56 +0000</td>\n",
       "      <td>&lt;a href=\"http://twitter.com/download/iphone\" r...</td>\n",
       "      <td>This is Phineas. He's a mystical boy. Only eve...</td>\n",
       "      <td>NaN</td>\n",
       "      <td>NaN</td>\n",
       "      <td>NaN</td>\n",
       "      <td>https://twitter.com/dog_rates/status/892420643...</td>\n",
       "      <td>13</td>\n",
       "      <td>10</td>\n",
       "      <td>Phineas</td>\n",
       "      <td>None</td>\n",
       "      <td>None</td>\n",
       "      <td>None</td>\n",
       "      <td>None</td>\n",
       "    </tr>\n",
       "    <tr>\n",
       "      <th>1</th>\n",
       "      <td>892177421306343426</td>\n",
       "      <td>NaN</td>\n",
       "      <td>NaN</td>\n",
       "      <td>2017-08-01 00:17:27 +0000</td>\n",
       "      <td>&lt;a href=\"http://twitter.com/download/iphone\" r...</td>\n",
       "      <td>This is Tilly. She's just checking pup on you....</td>\n",
       "      <td>NaN</td>\n",
       "      <td>NaN</td>\n",
       "      <td>NaN</td>\n",
       "      <td>https://twitter.com/dog_rates/status/892177421...</td>\n",
       "      <td>13</td>\n",
       "      <td>10</td>\n",
       "      <td>Tilly</td>\n",
       "      <td>None</td>\n",
       "      <td>None</td>\n",
       "      <td>None</td>\n",
       "      <td>None</td>\n",
       "    </tr>\n",
       "    <tr>\n",
       "      <th>2</th>\n",
       "      <td>891815181378084864</td>\n",
       "      <td>NaN</td>\n",
       "      <td>NaN</td>\n",
       "      <td>2017-07-31 00:18:03 +0000</td>\n",
       "      <td>&lt;a href=\"http://twitter.com/download/iphone\" r...</td>\n",
       "      <td>This is Archie. He is a rare Norwegian Pouncin...</td>\n",
       "      <td>NaN</td>\n",
       "      <td>NaN</td>\n",
       "      <td>NaN</td>\n",
       "      <td>https://twitter.com/dog_rates/status/891815181...</td>\n",
       "      <td>12</td>\n",
       "      <td>10</td>\n",
       "      <td>Archie</td>\n",
       "      <td>None</td>\n",
       "      <td>None</td>\n",
       "      <td>None</td>\n",
       "      <td>None</td>\n",
       "    </tr>\n",
       "    <tr>\n",
       "      <th>3</th>\n",
       "      <td>891689557279858688</td>\n",
       "      <td>NaN</td>\n",
       "      <td>NaN</td>\n",
       "      <td>2017-07-30 15:58:51 +0000</td>\n",
       "      <td>&lt;a href=\"http://twitter.com/download/iphone\" r...</td>\n",
       "      <td>This is Darla. She commenced a snooze mid meal...</td>\n",
       "      <td>NaN</td>\n",
       "      <td>NaN</td>\n",
       "      <td>NaN</td>\n",
       "      <td>https://twitter.com/dog_rates/status/891689557...</td>\n",
       "      <td>13</td>\n",
       "      <td>10</td>\n",
       "      <td>Darla</td>\n",
       "      <td>None</td>\n",
       "      <td>None</td>\n",
       "      <td>None</td>\n",
       "      <td>None</td>\n",
       "    </tr>\n",
       "    <tr>\n",
       "      <th>4</th>\n",
       "      <td>891327558926688256</td>\n",
       "      <td>NaN</td>\n",
       "      <td>NaN</td>\n",
       "      <td>2017-07-29 16:00:24 +0000</td>\n",
       "      <td>&lt;a href=\"http://twitter.com/download/iphone\" r...</td>\n",
       "      <td>This is Franklin. He would like you to stop ca...</td>\n",
       "      <td>NaN</td>\n",
       "      <td>NaN</td>\n",
       "      <td>NaN</td>\n",
       "      <td>https://twitter.com/dog_rates/status/891327558...</td>\n",
       "      <td>12</td>\n",
       "      <td>10</td>\n",
       "      <td>Franklin</td>\n",
       "      <td>None</td>\n",
       "      <td>None</td>\n",
       "      <td>None</td>\n",
       "      <td>None</td>\n",
       "    </tr>\n",
       "  </tbody>\n",
       "</table>\n",
       "</div>"
      ],
      "text/plain": [
       "             tweet_id  in_reply_to_status_id  in_reply_to_user_id  \\\n",
       "0  892420643555336193                    NaN                  NaN   \n",
       "1  892177421306343426                    NaN                  NaN   \n",
       "2  891815181378084864                    NaN                  NaN   \n",
       "3  891689557279858688                    NaN                  NaN   \n",
       "4  891327558926688256                    NaN                  NaN   \n",
       "\n",
       "                   timestamp  \\\n",
       "0  2017-08-01 16:23:56 +0000   \n",
       "1  2017-08-01 00:17:27 +0000   \n",
       "2  2017-07-31 00:18:03 +0000   \n",
       "3  2017-07-30 15:58:51 +0000   \n",
       "4  2017-07-29 16:00:24 +0000   \n",
       "\n",
       "                                              source  \\\n",
       "0  <a href=\"http://twitter.com/download/iphone\" r...   \n",
       "1  <a href=\"http://twitter.com/download/iphone\" r...   \n",
       "2  <a href=\"http://twitter.com/download/iphone\" r...   \n",
       "3  <a href=\"http://twitter.com/download/iphone\" r...   \n",
       "4  <a href=\"http://twitter.com/download/iphone\" r...   \n",
       "\n",
       "                                                text  retweeted_status_id  \\\n",
       "0  This is Phineas. He's a mystical boy. Only eve...                  NaN   \n",
       "1  This is Tilly. She's just checking pup on you....                  NaN   \n",
       "2  This is Archie. He is a rare Norwegian Pouncin...                  NaN   \n",
       "3  This is Darla. She commenced a snooze mid meal...                  NaN   \n",
       "4  This is Franklin. He would like you to stop ca...                  NaN   \n",
       "\n",
       "   retweeted_status_user_id retweeted_status_timestamp  \\\n",
       "0                       NaN                        NaN   \n",
       "1                       NaN                        NaN   \n",
       "2                       NaN                        NaN   \n",
       "3                       NaN                        NaN   \n",
       "4                       NaN                        NaN   \n",
       "\n",
       "                                       expanded_urls  rating_numerator  \\\n",
       "0  https://twitter.com/dog_rates/status/892420643...                13   \n",
       "1  https://twitter.com/dog_rates/status/892177421...                13   \n",
       "2  https://twitter.com/dog_rates/status/891815181...                12   \n",
       "3  https://twitter.com/dog_rates/status/891689557...                13   \n",
       "4  https://twitter.com/dog_rates/status/891327558...                12   \n",
       "\n",
       "   rating_denominator      name doggo floofer pupper puppo  \n",
       "0                  10   Phineas  None    None   None  None  \n",
       "1                  10     Tilly  None    None   None  None  \n",
       "2                  10    Archie  None    None   None  None  \n",
       "3                  10     Darla  None    None   None  None  \n",
       "4                  10  Franklin  None    None   None  None  "
      ]
     },
     "execution_count": 21,
     "metadata": {},
     "output_type": "execute_result"
    }
   ],
   "source": [
    "twitter_df.sort_values('timestamp')\n",
    "twitter_df.head()"
   ]
  },
  {
   "cell_type": "code",
   "execution_count": 22,
   "metadata": {},
   "outputs": [
    {
     "name": "stdout",
     "output_type": "stream",
     "text": [
      "<class 'pandas.core.frame.DataFrame'>\n",
      "RangeIndex: 2356 entries, 0 to 2355\n",
      "Data columns (total 17 columns):\n",
      " #   Column                      Non-Null Count  Dtype  \n",
      "---  ------                      --------------  -----  \n",
      " 0   tweet_id                    2356 non-null   int64  \n",
      " 1   in_reply_to_status_id       78 non-null     float64\n",
      " 2   in_reply_to_user_id         78 non-null     float64\n",
      " 3   timestamp                   2356 non-null   object \n",
      " 4   source                      2356 non-null   object \n",
      " 5   text                        2356 non-null   object \n",
      " 6   retweeted_status_id         181 non-null    float64\n",
      " 7   retweeted_status_user_id    181 non-null    float64\n",
      " 8   retweeted_status_timestamp  181 non-null    object \n",
      " 9   expanded_urls               2297 non-null   object \n",
      " 10  rating_numerator            2356 non-null   int64  \n",
      " 11  rating_denominator          2356 non-null   int64  \n",
      " 12  name                        2356 non-null   object \n",
      " 13  doggo                       2356 non-null   object \n",
      " 14  floofer                     2356 non-null   object \n",
      " 15  pupper                      2356 non-null   object \n",
      " 16  puppo                       2356 non-null   object \n",
      "dtypes: float64(4), int64(3), object(10)\n",
      "memory usage: 313.0+ KB\n"
     ]
    }
   ],
   "source": [
    "twitter_df.info()"
   ]
  },
  {
   "cell_type": "markdown",
   "metadata": {},
   "source": [
    "### 2. Tweet Image Prediction"
   ]
  },
  {
   "cell_type": "code",
   "execution_count": 23,
   "metadata": {},
   "outputs": [],
   "source": [
    "# Loading the image prediction file from udacity programitcally\n",
    "url = \"https://d17h27t6h515a5.cloudfront.net/topher/2017/August/599fd2ad_image-predictions/image-predictions.tsv\"\n",
    "response = requests.get(url)\n",
    "\n",
    "with open('image-predictions-3.tsv', mode ='wb') as file:\n",
    "    file.write(response.content)\n",
    "    \n",
    "#Read TSV file\n",
    "image_prediction = pd.read_csv('image-predictions-3.tsv', sep='\\t' )"
   ]
  },
  {
   "cell_type": "code",
   "execution_count": 24,
   "metadata": {},
   "outputs": [],
   "source": [
    "# Setting up the Twitter API with authentication\n",
    "consumer_api_key = 'hidden'\n",
    "consumer_api_secret = 'hidden'\n",
    "access_token = 'hidden'\n",
    "access_token_secret = 'hidden'\n",
    "\n",
    "auth = tweepy.OAuthHandler(consumer_api_key, consumer_api_secret)\n",
    "auth.set_access_token(access_token, access_token_secret)\n",
    "\n",
    "api = tweepy.API(auth, \n",
    "                 parser = tweepy.parsers.JSONParser(), \n",
    "                 wait_on_rate_limit = True, \n",
    "                 wait_on_rate_limit_notify = True)"
   ]
  },
  {
   "cell_type": "markdown",
   "metadata": {},
   "source": [
    "### 3. Twitter API and JSON"
   ]
  },
  {
   "cell_type": "code",
   "execution_count": 18,
   "metadata": {},
   "outputs": [
    {
     "name": "stdout",
     "output_type": "stream",
     "text": [
      "888202515573088257\n",
      "873697596434513921\n",
      "872668790621863937\n",
      "872261713294495745\n",
      "869988702071779329\n",
      "866816280283807744\n",
      "861769973181624320\n",
      "856602993587888130\n",
      "851953902622658560\n",
      "845459076796616705\n",
      "844704788403113984\n",
      "842892208864923648\n",
      "837366284874571778\n",
      "837012587749474308\n",
      "829374341691346946\n",
      "827228250799742977\n",
      "812747805718642688\n",
      "802247111496568832\n",
      "779123168116150273\n",
      "775096608509886464\n",
      "771004394259247104\n",
      "770743923962707968\n",
      "759566828574212096\n"
     ]
    },
    {
     "name": "stderr",
     "output_type": "stream",
     "text": [
      "Rate limit reached. Sleeping for: 712\n"
     ]
    },
    {
     "name": "stdout",
     "output_type": "stream",
     "text": [
      "754011816964026368\n",
      "680055455951884288\n"
     ]
    },
    {
     "name": "stderr",
     "output_type": "stream",
     "text": [
      "Rate limit reached. Sleeping for: 705\n"
     ]
    }
   ],
   "source": [
    "#Download Tweepy status object based on Tweet ID and store in list\n",
    "     \n",
    "tweet_ids = list(twitter_df['tweet_id'])\n",
    "\n",
    "tweet_data = []\n",
    "tweets_success = []\n",
    "tweets_missing = []\n",
    "for tweet_id in tweet_ids:\n",
    "    try:\n",
    "        data = api.get_status(tweet_id, \n",
    "                              tweet_mode='extended',\n",
    "                              wait_on_rate_limit = True,\n",
    "                              wait_on_rate_limit_notify = True)\n",
    "        tweet_data.append(data)\n",
    "        tweets_success.append(tweet_id)\n",
    "    except:\n",
    "        tweets_missing.append(tweet_id)\n",
    "        print(tweet_id)"
   ]
  },
  {
   "cell_type": "code",
   "execution_count": 25,
   "metadata": {},
   "outputs": [],
   "source": [
    "# Write tweet data to json file\n",
    "with open('tweet_json.txt', mode = 'w') as file:\n",
    "    json.dump(tweet_data, file)"
   ]
  },
  {
   "cell_type": "code",
   "execution_count": 26,
   "metadata": {},
   "outputs": [],
   "source": [
    "# Load the Twitter API data\n",
    "twitter2 = pd.read_json('tweet_json.txt')\n",
    "twitter2.head()\n",
    "twitter2['tweet_id'] = tweets_success\n",
    "twitter2 = twitter2[['tweet_id','favorited','favorite_count','retweeted','retweet_count','retweeted_status']]"
   ]
  },
  {
   "cell_type": "code",
   "execution_count": 27,
   "metadata": {},
   "outputs": [],
   "source": [
    "twitter2.to_csv('tweet_json.txt', index = False)"
   ]
  },
  {
   "cell_type": "code",
   "execution_count": 28,
   "metadata": {},
   "outputs": [
    {
     "name": "stdout",
     "output_type": "stream",
     "text": [
      "<class 'pandas.core.frame.DataFrame'>\n",
      "RangeIndex: 2331 entries, 0 to 2330\n",
      "Data columns (total 6 columns):\n",
      " #   Column            Non-Null Count  Dtype \n",
      "---  ------            --------------  ----- \n",
      " 0   tweet_id          2331 non-null   int64 \n",
      " 1   favorited         2331 non-null   bool  \n",
      " 2   favorite_count    2331 non-null   int64 \n",
      " 3   retweeted         2331 non-null   bool  \n",
      " 4   retweet_count     2331 non-null   int64 \n",
      " 5   retweeted_status  163 non-null    object\n",
      "dtypes: bool(2), int64(3), object(1)\n",
      "memory usage: 77.5+ KB\n"
     ]
    }
   ],
   "source": [
    "twitter2.info()"
   ]
  },
  {
   "cell_type": "markdown",
   "metadata": {},
   "source": [
    "## Assessing Data"
   ]
  },
  {
   "cell_type": "markdown",
   "metadata": {},
   "source": [
    "### 1. Twitter Archived Enhanced Data"
   ]
  },
  {
   "cell_type": "code",
   "execution_count": 29,
   "metadata": {},
   "outputs": [
    {
     "data": {
      "text/html": [
       "<div>\n",
       "<style scoped>\n",
       "    .dataframe tbody tr th:only-of-type {\n",
       "        vertical-align: middle;\n",
       "    }\n",
       "\n",
       "    .dataframe tbody tr th {\n",
       "        vertical-align: top;\n",
       "    }\n",
       "\n",
       "    .dataframe thead th {\n",
       "        text-align: right;\n",
       "    }\n",
       "</style>\n",
       "<table border=\"1\" class=\"dataframe\">\n",
       "  <thead>\n",
       "    <tr style=\"text-align: right;\">\n",
       "      <th></th>\n",
       "      <th>tweet_id</th>\n",
       "      <th>in_reply_to_status_id</th>\n",
       "      <th>in_reply_to_user_id</th>\n",
       "      <th>timestamp</th>\n",
       "      <th>source</th>\n",
       "      <th>text</th>\n",
       "      <th>retweeted_status_id</th>\n",
       "      <th>retweeted_status_user_id</th>\n",
       "      <th>retweeted_status_timestamp</th>\n",
       "      <th>expanded_urls</th>\n",
       "      <th>rating_numerator</th>\n",
       "      <th>rating_denominator</th>\n",
       "      <th>name</th>\n",
       "      <th>doggo</th>\n",
       "      <th>floofer</th>\n",
       "      <th>pupper</th>\n",
       "      <th>puppo</th>\n",
       "    </tr>\n",
       "  </thead>\n",
       "  <tbody>\n",
       "    <tr>\n",
       "      <th>128</th>\n",
       "      <td>867774946302451713</td>\n",
       "      <td>NaN</td>\n",
       "      <td>NaN</td>\n",
       "      <td>2017-05-25 16:10:44 +0000</td>\n",
       "      <td>&lt;a href=\"http://twitter.com/download/iphone\" r...</td>\n",
       "      <td>Meet Harold.  He's h*ckin cooperative. 13/10 g...</td>\n",
       "      <td>NaN</td>\n",
       "      <td>NaN</td>\n",
       "      <td>NaN</td>\n",
       "      <td>https://twitter.com/dog_rates/status/867774946...</td>\n",
       "      <td>13</td>\n",
       "      <td>10</td>\n",
       "      <td>Harold</td>\n",
       "      <td>None</td>\n",
       "      <td>None</td>\n",
       "      <td>None</td>\n",
       "      <td>None</td>\n",
       "    </tr>\n",
       "    <tr>\n",
       "      <th>1693</th>\n",
       "      <td>681297372102656000</td>\n",
       "      <td>NaN</td>\n",
       "      <td>NaN</td>\n",
       "      <td>2015-12-28 02:15:26 +0000</td>\n",
       "      <td>&lt;a href=\"http://twitter.com/download/iphone\" r...</td>\n",
       "      <td>This is actually a lion. We only rate dogs. Fo...</td>\n",
       "      <td>NaN</td>\n",
       "      <td>NaN</td>\n",
       "      <td>NaN</td>\n",
       "      <td>https://twitter.com/dog_rates/status/681297372...</td>\n",
       "      <td>12</td>\n",
       "      <td>10</td>\n",
       "      <td>actually</td>\n",
       "      <td>None</td>\n",
       "      <td>None</td>\n",
       "      <td>None</td>\n",
       "      <td>None</td>\n",
       "    </tr>\n",
       "    <tr>\n",
       "      <th>1531</th>\n",
       "      <td>690015576308211712</td>\n",
       "      <td>NaN</td>\n",
       "      <td>NaN</td>\n",
       "      <td>2016-01-21 03:38:27 +0000</td>\n",
       "      <td>&lt;a href=\"http://twitter.com/download/iphone\" r...</td>\n",
       "      <td>This pupper can only sleep on shoes. It's a cr...</td>\n",
       "      <td>NaN</td>\n",
       "      <td>NaN</td>\n",
       "      <td>NaN</td>\n",
       "      <td>https://twitter.com/dog_rates/status/690015576...</td>\n",
       "      <td>12</td>\n",
       "      <td>10</td>\n",
       "      <td>None</td>\n",
       "      <td>None</td>\n",
       "      <td>None</td>\n",
       "      <td>pupper</td>\n",
       "      <td>None</td>\n",
       "    </tr>\n",
       "    <tr>\n",
       "      <th>2065</th>\n",
       "      <td>671151324042559489</td>\n",
       "      <td>NaN</td>\n",
       "      <td>NaN</td>\n",
       "      <td>2015-11-30 02:18:39 +0000</td>\n",
       "      <td>&lt;a href=\"http://twitter.com/download/iphone\" r...</td>\n",
       "      <td>*struggling to breathe properly* 12/10 https:/...</td>\n",
       "      <td>NaN</td>\n",
       "      <td>NaN</td>\n",
       "      <td>NaN</td>\n",
       "      <td>https://twitter.com/dog_rates/status/671151324...</td>\n",
       "      <td>12</td>\n",
       "      <td>10</td>\n",
       "      <td>None</td>\n",
       "      <td>None</td>\n",
       "      <td>None</td>\n",
       "      <td>None</td>\n",
       "      <td>None</td>\n",
       "    </tr>\n",
       "    <tr>\n",
       "      <th>826</th>\n",
       "      <td>769335591808995329</td>\n",
       "      <td>NaN</td>\n",
       "      <td>NaN</td>\n",
       "      <td>2016-08-27 00:47:53 +0000</td>\n",
       "      <td>&lt;a href=\"http://twitter.com/download/iphone\" r...</td>\n",
       "      <td>RT @dog_rates: Ever seen a dog pet another dog...</td>\n",
       "      <td>7.069045e+17</td>\n",
       "      <td>4.196984e+09</td>\n",
       "      <td>2016-03-07 18:09:06 +0000</td>\n",
       "      <td>https://vine.co/v/iXQAm5Lrgrh,https://vine.co/...</td>\n",
       "      <td>13</td>\n",
       "      <td>10</td>\n",
       "      <td>None</td>\n",
       "      <td>None</td>\n",
       "      <td>None</td>\n",
       "      <td>None</td>\n",
       "      <td>None</td>\n",
       "    </tr>\n",
       "  </tbody>\n",
       "</table>\n",
       "</div>"
      ],
      "text/plain": [
       "                tweet_id  in_reply_to_status_id  in_reply_to_user_id  \\\n",
       "128   867774946302451713                    NaN                  NaN   \n",
       "1693  681297372102656000                    NaN                  NaN   \n",
       "1531  690015576308211712                    NaN                  NaN   \n",
       "2065  671151324042559489                    NaN                  NaN   \n",
       "826   769335591808995329                    NaN                  NaN   \n",
       "\n",
       "                      timestamp  \\\n",
       "128   2017-05-25 16:10:44 +0000   \n",
       "1693  2015-12-28 02:15:26 +0000   \n",
       "1531  2016-01-21 03:38:27 +0000   \n",
       "2065  2015-11-30 02:18:39 +0000   \n",
       "826   2016-08-27 00:47:53 +0000   \n",
       "\n",
       "                                                 source  \\\n",
       "128   <a href=\"http://twitter.com/download/iphone\" r...   \n",
       "1693  <a href=\"http://twitter.com/download/iphone\" r...   \n",
       "1531  <a href=\"http://twitter.com/download/iphone\" r...   \n",
       "2065  <a href=\"http://twitter.com/download/iphone\" r...   \n",
       "826   <a href=\"http://twitter.com/download/iphone\" r...   \n",
       "\n",
       "                                                   text  retweeted_status_id  \\\n",
       "128   Meet Harold.  He's h*ckin cooperative. 13/10 g...                  NaN   \n",
       "1693  This is actually a lion. We only rate dogs. Fo...                  NaN   \n",
       "1531  This pupper can only sleep on shoes. It's a cr...                  NaN   \n",
       "2065  *struggling to breathe properly* 12/10 https:/...                  NaN   \n",
       "826   RT @dog_rates: Ever seen a dog pet another dog...         7.069045e+17   \n",
       "\n",
       "      retweeted_status_user_id retweeted_status_timestamp  \\\n",
       "128                        NaN                        NaN   \n",
       "1693                       NaN                        NaN   \n",
       "1531                       NaN                        NaN   \n",
       "2065                       NaN                        NaN   \n",
       "826               4.196984e+09  2016-03-07 18:09:06 +0000   \n",
       "\n",
       "                                          expanded_urls  rating_numerator  \\\n",
       "128   https://twitter.com/dog_rates/status/867774946...                13   \n",
       "1693  https://twitter.com/dog_rates/status/681297372...                12   \n",
       "1531  https://twitter.com/dog_rates/status/690015576...                12   \n",
       "2065  https://twitter.com/dog_rates/status/671151324...                12   \n",
       "826   https://vine.co/v/iXQAm5Lrgrh,https://vine.co/...                13   \n",
       "\n",
       "      rating_denominator      name doggo floofer  pupper puppo  \n",
       "128                   10    Harold  None    None    None  None  \n",
       "1693                  10  actually  None    None    None  None  \n",
       "1531                  10      None  None    None  pupper  None  \n",
       "2065                  10      None  None    None    None  None  \n",
       "826                   10      None  None    None    None  None  "
      ]
     },
     "execution_count": 29,
     "metadata": {},
     "output_type": "execute_result"
    }
   ],
   "source": [
    "twitter_df.sample(5)"
   ]
  },
  {
   "cell_type": "code",
   "execution_count": 28,
   "metadata": {},
   "outputs": [
    {
     "name": "stdout",
     "output_type": "stream",
     "text": [
      "<class 'pandas.core.frame.DataFrame'>\n",
      "RangeIndex: 2356 entries, 0 to 2355\n",
      "Data columns (total 17 columns):\n",
      " #   Column                      Non-Null Count  Dtype  \n",
      "---  ------                      --------------  -----  \n",
      " 0   tweet_id                    2356 non-null   int64  \n",
      " 1   in_reply_to_status_id       78 non-null     float64\n",
      " 2   in_reply_to_user_id         78 non-null     float64\n",
      " 3   timestamp                   2356 non-null   object \n",
      " 4   source                      2356 non-null   object \n",
      " 5   text                        2356 non-null   object \n",
      " 6   retweeted_status_id         181 non-null    float64\n",
      " 7   retweeted_status_user_id    181 non-null    float64\n",
      " 8   retweeted_status_timestamp  181 non-null    object \n",
      " 9   expanded_urls               2297 non-null   object \n",
      " 10  rating_numerator            2356 non-null   int64  \n",
      " 11  rating_denominator          2356 non-null   int64  \n",
      " 12  name                        2356 non-null   object \n",
      " 13  doggo                       2356 non-null   object \n",
      " 14  floofer                     2356 non-null   object \n",
      " 15  pupper                      2356 non-null   object \n",
      " 16  puppo                       2356 non-null   object \n",
      "dtypes: float64(4), int64(3), object(10)\n",
      "memory usage: 313.0+ KB\n"
     ]
    }
   ],
   "source": [
    "twitter_df.info()"
   ]
  },
  {
   "cell_type": "code",
   "execution_count": 30,
   "metadata": {},
   "outputs": [
    {
     "data": {
      "text/plain": [
       "<a href=\"http://twitter.com/download/iphone\" rel=\"nofollow\">Twitter for iPhone</a>     2221\n",
       "<a href=\"http://vine.co\" rel=\"nofollow\">Vine - Make a Scene</a>                          91\n",
       "<a href=\"http://twitter.com\" rel=\"nofollow\">Twitter Web Client</a>                       33\n",
       "<a href=\"https://about.twitter.com/products/tweetdeck\" rel=\"nofollow\">TweetDeck</a>      11\n",
       "Name: source, dtype: int64"
      ]
     },
     "execution_count": 30,
     "metadata": {},
     "output_type": "execute_result"
    }
   ],
   "source": [
    "twitter_df.source.value_counts()"
   ]
  },
  {
   "cell_type": "code",
   "execution_count": 31,
   "metadata": {},
   "outputs": [
    {
     "data": {
      "text/html": [
       "<div>\n",
       "<style scoped>\n",
       "    .dataframe tbody tr th:only-of-type {\n",
       "        vertical-align: middle;\n",
       "    }\n",
       "\n",
       "    .dataframe tbody tr th {\n",
       "        vertical-align: top;\n",
       "    }\n",
       "\n",
       "    .dataframe thead th {\n",
       "        text-align: right;\n",
       "    }\n",
       "</style>\n",
       "<table border=\"1\" class=\"dataframe\">\n",
       "  <thead>\n",
       "    <tr style=\"text-align: right;\">\n",
       "      <th></th>\n",
       "      <th>tweet_id</th>\n",
       "      <th>in_reply_to_status_id</th>\n",
       "      <th>in_reply_to_user_id</th>\n",
       "      <th>retweeted_status_id</th>\n",
       "      <th>retweeted_status_user_id</th>\n",
       "      <th>rating_numerator</th>\n",
       "      <th>rating_denominator</th>\n",
       "    </tr>\n",
       "  </thead>\n",
       "  <tbody>\n",
       "    <tr>\n",
       "      <th>count</th>\n",
       "      <td>2.356000e+03</td>\n",
       "      <td>7.800000e+01</td>\n",
       "      <td>7.800000e+01</td>\n",
       "      <td>1.810000e+02</td>\n",
       "      <td>1.810000e+02</td>\n",
       "      <td>2356.000000</td>\n",
       "      <td>2356.000000</td>\n",
       "    </tr>\n",
       "    <tr>\n",
       "      <th>mean</th>\n",
       "      <td>7.427716e+17</td>\n",
       "      <td>7.455079e+17</td>\n",
       "      <td>2.014171e+16</td>\n",
       "      <td>7.720400e+17</td>\n",
       "      <td>1.241698e+16</td>\n",
       "      <td>13.126486</td>\n",
       "      <td>10.455433</td>\n",
       "    </tr>\n",
       "    <tr>\n",
       "      <th>std</th>\n",
       "      <td>6.856705e+16</td>\n",
       "      <td>7.582492e+16</td>\n",
       "      <td>1.252797e+17</td>\n",
       "      <td>6.236928e+16</td>\n",
       "      <td>9.599254e+16</td>\n",
       "      <td>45.876648</td>\n",
       "      <td>6.745237</td>\n",
       "    </tr>\n",
       "    <tr>\n",
       "      <th>min</th>\n",
       "      <td>6.660209e+17</td>\n",
       "      <td>6.658147e+17</td>\n",
       "      <td>1.185634e+07</td>\n",
       "      <td>6.661041e+17</td>\n",
       "      <td>7.832140e+05</td>\n",
       "      <td>0.000000</td>\n",
       "      <td>0.000000</td>\n",
       "    </tr>\n",
       "    <tr>\n",
       "      <th>25%</th>\n",
       "      <td>6.783989e+17</td>\n",
       "      <td>6.757419e+17</td>\n",
       "      <td>3.086374e+08</td>\n",
       "      <td>7.186315e+17</td>\n",
       "      <td>4.196984e+09</td>\n",
       "      <td>10.000000</td>\n",
       "      <td>10.000000</td>\n",
       "    </tr>\n",
       "    <tr>\n",
       "      <th>50%</th>\n",
       "      <td>7.196279e+17</td>\n",
       "      <td>7.038708e+17</td>\n",
       "      <td>4.196984e+09</td>\n",
       "      <td>7.804657e+17</td>\n",
       "      <td>4.196984e+09</td>\n",
       "      <td>11.000000</td>\n",
       "      <td>10.000000</td>\n",
       "    </tr>\n",
       "    <tr>\n",
       "      <th>75%</th>\n",
       "      <td>7.993373e+17</td>\n",
       "      <td>8.257804e+17</td>\n",
       "      <td>4.196984e+09</td>\n",
       "      <td>8.203146e+17</td>\n",
       "      <td>4.196984e+09</td>\n",
       "      <td>12.000000</td>\n",
       "      <td>10.000000</td>\n",
       "    </tr>\n",
       "    <tr>\n",
       "      <th>max</th>\n",
       "      <td>8.924206e+17</td>\n",
       "      <td>8.862664e+17</td>\n",
       "      <td>8.405479e+17</td>\n",
       "      <td>8.874740e+17</td>\n",
       "      <td>7.874618e+17</td>\n",
       "      <td>1776.000000</td>\n",
       "      <td>170.000000</td>\n",
       "    </tr>\n",
       "  </tbody>\n",
       "</table>\n",
       "</div>"
      ],
      "text/plain": [
       "           tweet_id  in_reply_to_status_id  in_reply_to_user_id  \\\n",
       "count  2.356000e+03           7.800000e+01         7.800000e+01   \n",
       "mean   7.427716e+17           7.455079e+17         2.014171e+16   \n",
       "std    6.856705e+16           7.582492e+16         1.252797e+17   \n",
       "min    6.660209e+17           6.658147e+17         1.185634e+07   \n",
       "25%    6.783989e+17           6.757419e+17         3.086374e+08   \n",
       "50%    7.196279e+17           7.038708e+17         4.196984e+09   \n",
       "75%    7.993373e+17           8.257804e+17         4.196984e+09   \n",
       "max    8.924206e+17           8.862664e+17         8.405479e+17   \n",
       "\n",
       "       retweeted_status_id  retweeted_status_user_id  rating_numerator  \\\n",
       "count         1.810000e+02              1.810000e+02       2356.000000   \n",
       "mean          7.720400e+17              1.241698e+16         13.126486   \n",
       "std           6.236928e+16              9.599254e+16         45.876648   \n",
       "min           6.661041e+17              7.832140e+05          0.000000   \n",
       "25%           7.186315e+17              4.196984e+09         10.000000   \n",
       "50%           7.804657e+17              4.196984e+09         11.000000   \n",
       "75%           8.203146e+17              4.196984e+09         12.000000   \n",
       "max           8.874740e+17              7.874618e+17       1776.000000   \n",
       "\n",
       "       rating_denominator  \n",
       "count         2356.000000  \n",
       "mean            10.455433  \n",
       "std              6.745237  \n",
       "min              0.000000  \n",
       "25%             10.000000  \n",
       "50%             10.000000  \n",
       "75%             10.000000  \n",
       "max            170.000000  "
      ]
     },
     "execution_count": 31,
     "metadata": {},
     "output_type": "execute_result"
    }
   ],
   "source": [
    "twitter_df.describe()"
   ]
  },
  {
   "cell_type": "code",
   "execution_count": 32,
   "metadata": {},
   "outputs": [
    {
     "data": {
      "text/plain": [
       "0"
      ]
     },
     "execution_count": 32,
     "metadata": {},
     "output_type": "execute_result"
    }
   ],
   "source": [
    "sum(twitter_df['tweet_id'].duplicated())"
   ]
  },
  {
   "cell_type": "code",
   "execution_count": 32,
   "metadata": {},
   "outputs": [
    {
     "data": {
      "text/plain": [
       "137"
      ]
     },
     "execution_count": 32,
     "metadata": {},
     "output_type": "execute_result"
    }
   ],
   "source": [
    "sum(twitter_df['expanded_urls'].duplicated())"
   ]
  },
  {
   "cell_type": "code",
   "execution_count": 33,
   "metadata": {},
   "outputs": [
    {
     "data": {
      "text/plain": [
       "12      558\n",
       "11      464\n",
       "10      461\n",
       "13      351\n",
       "9       158\n",
       "8       102\n",
       "7        55\n",
       "14       54\n",
       "5        37\n",
       "6        32\n",
       "3        19\n",
       "4        17\n",
       "1         9\n",
       "2         9\n",
       "420       2\n",
       "0         2\n",
       "15        2\n",
       "75        2\n",
       "80        1\n",
       "20        1\n",
       "24        1\n",
       "26        1\n",
       "44        1\n",
       "50        1\n",
       "60        1\n",
       "165       1\n",
       "84        1\n",
       "88        1\n",
       "144       1\n",
       "182       1\n",
       "143       1\n",
       "666       1\n",
       "960       1\n",
       "1776      1\n",
       "17        1\n",
       "27        1\n",
       "45        1\n",
       "99        1\n",
       "121       1\n",
       "204       1\n",
       "Name: rating_numerator, dtype: int64"
      ]
     },
     "execution_count": 33,
     "metadata": {},
     "output_type": "execute_result"
    }
   ],
   "source": [
    "twitter_df.rating_numerator.value_counts()"
   ]
  },
  {
   "cell_type": "code",
   "execution_count": 33,
   "metadata": {},
   "outputs": [
    {
     "name": "stdout",
     "output_type": "stream",
     "text": [
      "1761    Exotic pup here. Tail long af. Throat looks sw...\n",
      "1764    This is Crystal. She's a shitty fireman. No se...\n",
      "1920    This is Henry. He's a shit dog. Short pointy e...\n",
      "2079    Scary dog here. Too many legs. Extra tail. Not...\n",
      "2237    This lil pup is Oliver. Hops around. Has wings...\n",
      "2246    This is Tedrick. He lives on the edge. Needs s...\n",
      "2310    Unfamiliar with this breed. Ears pointy af. Wo...\n",
      "2326    This is quite the dog. Gets really excited whe...\n",
      "2349    This is an odd dog. Hard on the outside but lo...\n",
      "Name: text, dtype: object\n",
      "188     @dhmontgomery We also gave snoop dogg a 420/10...\n",
      "2074    After so many requests... here you go.\\n\\nGood...\n",
      "Name: text, dtype: object\n",
      "340    RT @dog_rates: This is Logan, the Chow who liv...\n",
      "695    This is Logan, the Chow who lived. He solemnly...\n",
      "Name: text, dtype: object\n",
      "313    @jonnysun @Lin_Manuel ok jomny I know you're e...\n",
      "Name: text, dtype: object\n",
      "1120    Say hello to this unbelievably well behaved sq...\n",
      "Name: text, dtype: object\n"
     ]
    }
   ],
   "source": [
    "print(twitter_df.loc[twitter_df.rating_numerator == 2, 'text']) \n",
    "print(twitter_df.loc[twitter_df.rating_numerator == 420, 'text']) \n",
    "print(twitter_df.loc[twitter_df.rating_numerator == 75, 'text']) \n",
    "print(twitter_df.loc[twitter_df.rating_numerator == 960, 'text'])\n",
    "print(twitter_df.loc[twitter_df.rating_numerator == 204, 'text'])"
   ]
  },
  {
   "cell_type": "code",
   "execution_count": 34,
   "metadata": {},
   "outputs": [
    {
     "data": {
      "text/plain": [
       "10     2333\n",
       "11        3\n",
       "50        3\n",
       "80        2\n",
       "20        2\n",
       "2         1\n",
       "16        1\n",
       "40        1\n",
       "70        1\n",
       "15        1\n",
       "90        1\n",
       "110       1\n",
       "120       1\n",
       "130       1\n",
       "150       1\n",
       "170       1\n",
       "7         1\n",
       "0         1\n",
       "Name: rating_denominator, dtype: int64"
      ]
     },
     "execution_count": 34,
     "metadata": {},
     "output_type": "execute_result"
    }
   ],
   "source": [
    "twitter_df.rating_denominator.value_counts()"
   ]
  },
  {
   "cell_type": "code",
   "execution_count": 35,
   "metadata": {
    "scrolled": true
   },
   "outputs": [
    {
     "name": "stderr",
     "output_type": "stream",
     "text": [
      "/Users/bijayshrestha/opt/anaconda3/envs/udacity/lib/python3.7/site-packages/pandas/core/strings.py:1954: UserWarning: This pattern has match groups. To actually get the groups, use str.extract.\n",
      "  return func(self, *args, **kwargs)\n"
     ]
    },
    {
     "data": {
      "text/html": [
       "<div>\n",
       "<style scoped>\n",
       "    .dataframe tbody tr th:only-of-type {\n",
       "        vertical-align: middle;\n",
       "    }\n",
       "\n",
       "    .dataframe tbody tr th {\n",
       "        vertical-align: top;\n",
       "    }\n",
       "\n",
       "    .dataframe thead th {\n",
       "        text-align: right;\n",
       "    }\n",
       "</style>\n",
       "<table border=\"1\" class=\"dataframe\">\n",
       "  <thead>\n",
       "    <tr style=\"text-align: right;\">\n",
       "      <th></th>\n",
       "      <th>tweet_id</th>\n",
       "      <th>text</th>\n",
       "      <th>rating_numerator</th>\n",
       "      <th>rating_denominator</th>\n",
       "    </tr>\n",
       "  </thead>\n",
       "  <tbody>\n",
       "    <tr>\n",
       "      <th>45</th>\n",
       "      <td>883482846933004288</td>\n",
       "      <td>This is Bella. She hopes her smile made you smile. If not, she is also offering you her favorite monkey. 13.5/10 https://t.co/qjrljjt948</td>\n",
       "      <td>5</td>\n",
       "      <td>10</td>\n",
       "    </tr>\n",
       "    <tr>\n",
       "      <th>340</th>\n",
       "      <td>832215909146226688</td>\n",
       "      <td>RT @dog_rates: This is Logan, the Chow who lived. He solemnly swears he's up to lots of good. H*ckin magical af 9.75/10 https://t.co/yBO5wu…</td>\n",
       "      <td>75</td>\n",
       "      <td>10</td>\n",
       "    </tr>\n",
       "    <tr>\n",
       "      <th>695</th>\n",
       "      <td>786709082849828864</td>\n",
       "      <td>This is Logan, the Chow who lived. He solemnly swears he's up to lots of good. H*ckin magical af 9.75/10 https://t.co/yBO5wuqaPS</td>\n",
       "      <td>75</td>\n",
       "      <td>10</td>\n",
       "    </tr>\n",
       "    <tr>\n",
       "      <th>763</th>\n",
       "      <td>778027034220126208</td>\n",
       "      <td>This is Sophie. She's a Jubilant Bush Pupper. Super h*ckin rare. Appears at random just to smile at the locals. 11.27/10 would smile back https://t.co/QFaUiIHxHq</td>\n",
       "      <td>27</td>\n",
       "      <td>10</td>\n",
       "    </tr>\n",
       "    <tr>\n",
       "      <th>1689</th>\n",
       "      <td>681340665377193984</td>\n",
       "      <td>I've been told there's a slight possibility he's checking his mirror. We'll bump to 9.5/10. Still a menace</td>\n",
       "      <td>5</td>\n",
       "      <td>10</td>\n",
       "    </tr>\n",
       "    <tr>\n",
       "      <th>1712</th>\n",
       "      <td>680494726643068929</td>\n",
       "      <td>Here we have uncovered an entire battalion of holiday puppers. Average of 11.26/10 https://t.co/eNm2S6p9BD</td>\n",
       "      <td>26</td>\n",
       "      <td>10</td>\n",
       "    </tr>\n",
       "  </tbody>\n",
       "</table>\n",
       "</div>"
      ],
      "text/plain": [
       "                tweet_id  \\\n",
       "45    883482846933004288   \n",
       "340   832215909146226688   \n",
       "695   786709082849828864   \n",
       "763   778027034220126208   \n",
       "1689  681340665377193984   \n",
       "1712  680494726643068929   \n",
       "\n",
       "                                                                                                                                                                   text  \\\n",
       "45                             This is Bella. She hopes her smile made you smile. If not, she is also offering you her favorite monkey. 13.5/10 https://t.co/qjrljjt948   \n",
       "340                        RT @dog_rates: This is Logan, the Chow who lived. He solemnly swears he's up to lots of good. H*ckin magical af 9.75/10 https://t.co/yBO5wu…   \n",
       "695                                    This is Logan, the Chow who lived. He solemnly swears he's up to lots of good. H*ckin magical af 9.75/10 https://t.co/yBO5wuqaPS   \n",
       "763   This is Sophie. She's a Jubilant Bush Pupper. Super h*ckin rare. Appears at random just to smile at the locals. 11.27/10 would smile back https://t.co/QFaUiIHxHq   \n",
       "1689                                                         I've been told there's a slight possibility he's checking his mirror. We'll bump to 9.5/10. Still a menace   \n",
       "1712                                                         Here we have uncovered an entire battalion of holiday puppers. Average of 11.26/10 https://t.co/eNm2S6p9BD   \n",
       "\n",
       "      rating_numerator  rating_denominator  \n",
       "45                   5                  10  \n",
       "340                 75                  10  \n",
       "695                 75                  10  \n",
       "763                 27                  10  \n",
       "1689                 5                  10  \n",
       "1712                26                  10  "
      ]
     },
     "metadata": {},
     "output_type": "display_data"
    }
   ],
   "source": [
    "# Display the texts which contain ratings\n",
    "\n",
    "with pd.option_context('max_colwidth', 200):\n",
    "    display(twitter_df[twitter_df['text'].str.contains(r\"(\\d+\\.\\d*\\/\\d+)\")]\n",
    "            [['tweet_id', 'text', 'rating_numerator', 'rating_denominator']])"
   ]
  },
  {
   "cell_type": "markdown",
   "metadata": {},
   "source": [
    "### 2. Image Prediction Data"
   ]
  },
  {
   "cell_type": "code",
   "execution_count": 36,
   "metadata": {},
   "outputs": [
    {
     "data": {
      "text/html": [
       "<div>\n",
       "<style scoped>\n",
       "    .dataframe tbody tr th:only-of-type {\n",
       "        vertical-align: middle;\n",
       "    }\n",
       "\n",
       "    .dataframe tbody tr th {\n",
       "        vertical-align: top;\n",
       "    }\n",
       "\n",
       "    .dataframe thead th {\n",
       "        text-align: right;\n",
       "    }\n",
       "</style>\n",
       "<table border=\"1\" class=\"dataframe\">\n",
       "  <thead>\n",
       "    <tr style=\"text-align: right;\">\n",
       "      <th></th>\n",
       "      <th>tweet_id</th>\n",
       "      <th>jpg_url</th>\n",
       "      <th>img_num</th>\n",
       "      <th>p1</th>\n",
       "      <th>p1_conf</th>\n",
       "      <th>p1_dog</th>\n",
       "      <th>p2</th>\n",
       "      <th>p2_conf</th>\n",
       "      <th>p2_dog</th>\n",
       "      <th>p3</th>\n",
       "      <th>p3_conf</th>\n",
       "      <th>p3_dog</th>\n",
       "    </tr>\n",
       "  </thead>\n",
       "  <tbody>\n",
       "    <tr>\n",
       "      <th>0</th>\n",
       "      <td>666020888022790149</td>\n",
       "      <td>https://pbs.twimg.com/media/CT4udn0WwAA0aMy.jpg</td>\n",
       "      <td>1</td>\n",
       "      <td>Welsh_springer_spaniel</td>\n",
       "      <td>0.465074</td>\n",
       "      <td>True</td>\n",
       "      <td>collie</td>\n",
       "      <td>0.156665</td>\n",
       "      <td>True</td>\n",
       "      <td>Shetland_sheepdog</td>\n",
       "      <td>0.061428</td>\n",
       "      <td>True</td>\n",
       "    </tr>\n",
       "    <tr>\n",
       "      <th>1</th>\n",
       "      <td>666029285002620928</td>\n",
       "      <td>https://pbs.twimg.com/media/CT42GRgUYAA5iDo.jpg</td>\n",
       "      <td>1</td>\n",
       "      <td>redbone</td>\n",
       "      <td>0.506826</td>\n",
       "      <td>True</td>\n",
       "      <td>miniature_pinscher</td>\n",
       "      <td>0.074192</td>\n",
       "      <td>True</td>\n",
       "      <td>Rhodesian_ridgeback</td>\n",
       "      <td>0.072010</td>\n",
       "      <td>True</td>\n",
       "    </tr>\n",
       "    <tr>\n",
       "      <th>2</th>\n",
       "      <td>666033412701032449</td>\n",
       "      <td>https://pbs.twimg.com/media/CT4521TWwAEvMyu.jpg</td>\n",
       "      <td>1</td>\n",
       "      <td>German_shepherd</td>\n",
       "      <td>0.596461</td>\n",
       "      <td>True</td>\n",
       "      <td>malinois</td>\n",
       "      <td>0.138584</td>\n",
       "      <td>True</td>\n",
       "      <td>bloodhound</td>\n",
       "      <td>0.116197</td>\n",
       "      <td>True</td>\n",
       "    </tr>\n",
       "    <tr>\n",
       "      <th>3</th>\n",
       "      <td>666044226329800704</td>\n",
       "      <td>https://pbs.twimg.com/media/CT5Dr8HUEAA-lEu.jpg</td>\n",
       "      <td>1</td>\n",
       "      <td>Rhodesian_ridgeback</td>\n",
       "      <td>0.408143</td>\n",
       "      <td>True</td>\n",
       "      <td>redbone</td>\n",
       "      <td>0.360687</td>\n",
       "      <td>True</td>\n",
       "      <td>miniature_pinscher</td>\n",
       "      <td>0.222752</td>\n",
       "      <td>True</td>\n",
       "    </tr>\n",
       "    <tr>\n",
       "      <th>4</th>\n",
       "      <td>666049248165822465</td>\n",
       "      <td>https://pbs.twimg.com/media/CT5IQmsXIAAKY4A.jpg</td>\n",
       "      <td>1</td>\n",
       "      <td>miniature_pinscher</td>\n",
       "      <td>0.560311</td>\n",
       "      <td>True</td>\n",
       "      <td>Rottweiler</td>\n",
       "      <td>0.243682</td>\n",
       "      <td>True</td>\n",
       "      <td>Doberman</td>\n",
       "      <td>0.154629</td>\n",
       "      <td>True</td>\n",
       "    </tr>\n",
       "    <tr>\n",
       "      <th>...</th>\n",
       "      <td>...</td>\n",
       "      <td>...</td>\n",
       "      <td>...</td>\n",
       "      <td>...</td>\n",
       "      <td>...</td>\n",
       "      <td>...</td>\n",
       "      <td>...</td>\n",
       "      <td>...</td>\n",
       "      <td>...</td>\n",
       "      <td>...</td>\n",
       "      <td>...</td>\n",
       "      <td>...</td>\n",
       "    </tr>\n",
       "    <tr>\n",
       "      <th>2070</th>\n",
       "      <td>891327558926688256</td>\n",
       "      <td>https://pbs.twimg.com/media/DF6hr6BUMAAzZgT.jpg</td>\n",
       "      <td>2</td>\n",
       "      <td>basset</td>\n",
       "      <td>0.555712</td>\n",
       "      <td>True</td>\n",
       "      <td>English_springer</td>\n",
       "      <td>0.225770</td>\n",
       "      <td>True</td>\n",
       "      <td>German_short-haired_pointer</td>\n",
       "      <td>0.175219</td>\n",
       "      <td>True</td>\n",
       "    </tr>\n",
       "    <tr>\n",
       "      <th>2071</th>\n",
       "      <td>891689557279858688</td>\n",
       "      <td>https://pbs.twimg.com/media/DF_q7IAWsAEuuN8.jpg</td>\n",
       "      <td>1</td>\n",
       "      <td>paper_towel</td>\n",
       "      <td>0.170278</td>\n",
       "      <td>False</td>\n",
       "      <td>Labrador_retriever</td>\n",
       "      <td>0.168086</td>\n",
       "      <td>True</td>\n",
       "      <td>spatula</td>\n",
       "      <td>0.040836</td>\n",
       "      <td>False</td>\n",
       "    </tr>\n",
       "    <tr>\n",
       "      <th>2072</th>\n",
       "      <td>891815181378084864</td>\n",
       "      <td>https://pbs.twimg.com/media/DGBdLU1WsAANxJ9.jpg</td>\n",
       "      <td>1</td>\n",
       "      <td>Chihuahua</td>\n",
       "      <td>0.716012</td>\n",
       "      <td>True</td>\n",
       "      <td>malamute</td>\n",
       "      <td>0.078253</td>\n",
       "      <td>True</td>\n",
       "      <td>kelpie</td>\n",
       "      <td>0.031379</td>\n",
       "      <td>True</td>\n",
       "    </tr>\n",
       "    <tr>\n",
       "      <th>2073</th>\n",
       "      <td>892177421306343426</td>\n",
       "      <td>https://pbs.twimg.com/media/DGGmoV4XsAAUL6n.jpg</td>\n",
       "      <td>1</td>\n",
       "      <td>Chihuahua</td>\n",
       "      <td>0.323581</td>\n",
       "      <td>True</td>\n",
       "      <td>Pekinese</td>\n",
       "      <td>0.090647</td>\n",
       "      <td>True</td>\n",
       "      <td>papillon</td>\n",
       "      <td>0.068957</td>\n",
       "      <td>True</td>\n",
       "    </tr>\n",
       "    <tr>\n",
       "      <th>2074</th>\n",
       "      <td>892420643555336193</td>\n",
       "      <td>https://pbs.twimg.com/media/DGKD1-bXoAAIAUK.jpg</td>\n",
       "      <td>1</td>\n",
       "      <td>orange</td>\n",
       "      <td>0.097049</td>\n",
       "      <td>False</td>\n",
       "      <td>bagel</td>\n",
       "      <td>0.085851</td>\n",
       "      <td>False</td>\n",
       "      <td>banana</td>\n",
       "      <td>0.076110</td>\n",
       "      <td>False</td>\n",
       "    </tr>\n",
       "  </tbody>\n",
       "</table>\n",
       "<p>2075 rows × 12 columns</p>\n",
       "</div>"
      ],
      "text/plain": [
       "                tweet_id                                          jpg_url  \\\n",
       "0     666020888022790149  https://pbs.twimg.com/media/CT4udn0WwAA0aMy.jpg   \n",
       "1     666029285002620928  https://pbs.twimg.com/media/CT42GRgUYAA5iDo.jpg   \n",
       "2     666033412701032449  https://pbs.twimg.com/media/CT4521TWwAEvMyu.jpg   \n",
       "3     666044226329800704  https://pbs.twimg.com/media/CT5Dr8HUEAA-lEu.jpg   \n",
       "4     666049248165822465  https://pbs.twimg.com/media/CT5IQmsXIAAKY4A.jpg   \n",
       "...                  ...                                              ...   \n",
       "2070  891327558926688256  https://pbs.twimg.com/media/DF6hr6BUMAAzZgT.jpg   \n",
       "2071  891689557279858688  https://pbs.twimg.com/media/DF_q7IAWsAEuuN8.jpg   \n",
       "2072  891815181378084864  https://pbs.twimg.com/media/DGBdLU1WsAANxJ9.jpg   \n",
       "2073  892177421306343426  https://pbs.twimg.com/media/DGGmoV4XsAAUL6n.jpg   \n",
       "2074  892420643555336193  https://pbs.twimg.com/media/DGKD1-bXoAAIAUK.jpg   \n",
       "\n",
       "      img_num                      p1   p1_conf  p1_dog                  p2  \\\n",
       "0           1  Welsh_springer_spaniel  0.465074    True              collie   \n",
       "1           1                 redbone  0.506826    True  miniature_pinscher   \n",
       "2           1         German_shepherd  0.596461    True            malinois   \n",
       "3           1     Rhodesian_ridgeback  0.408143    True             redbone   \n",
       "4           1      miniature_pinscher  0.560311    True          Rottweiler   \n",
       "...       ...                     ...       ...     ...                 ...   \n",
       "2070        2                  basset  0.555712    True    English_springer   \n",
       "2071        1             paper_towel  0.170278   False  Labrador_retriever   \n",
       "2072        1               Chihuahua  0.716012    True            malamute   \n",
       "2073        1               Chihuahua  0.323581    True            Pekinese   \n",
       "2074        1                  orange  0.097049   False               bagel   \n",
       "\n",
       "       p2_conf  p2_dog                           p3   p3_conf  p3_dog  \n",
       "0     0.156665    True            Shetland_sheepdog  0.061428    True  \n",
       "1     0.074192    True          Rhodesian_ridgeback  0.072010    True  \n",
       "2     0.138584    True                   bloodhound  0.116197    True  \n",
       "3     0.360687    True           miniature_pinscher  0.222752    True  \n",
       "4     0.243682    True                     Doberman  0.154629    True  \n",
       "...        ...     ...                          ...       ...     ...  \n",
       "2070  0.225770    True  German_short-haired_pointer  0.175219    True  \n",
       "2071  0.168086    True                      spatula  0.040836   False  \n",
       "2072  0.078253    True                       kelpie  0.031379    True  \n",
       "2073  0.090647    True                     papillon  0.068957    True  \n",
       "2074  0.085851   False                       banana  0.076110   False  \n",
       "\n",
       "[2075 rows x 12 columns]"
      ]
     },
     "execution_count": 36,
     "metadata": {},
     "output_type": "execute_result"
    }
   ],
   "source": [
    "image_prediction"
   ]
  },
  {
   "cell_type": "code",
   "execution_count": 37,
   "metadata": {},
   "outputs": [
    {
     "data": {
      "text/html": [
       "<div>\n",
       "<style scoped>\n",
       "    .dataframe tbody tr th:only-of-type {\n",
       "        vertical-align: middle;\n",
       "    }\n",
       "\n",
       "    .dataframe tbody tr th {\n",
       "        vertical-align: top;\n",
       "    }\n",
       "\n",
       "    .dataframe thead th {\n",
       "        text-align: right;\n",
       "    }\n",
       "</style>\n",
       "<table border=\"1\" class=\"dataframe\">\n",
       "  <thead>\n",
       "    <tr style=\"text-align: right;\">\n",
       "      <th></th>\n",
       "      <th>tweet_id</th>\n",
       "      <th>jpg_url</th>\n",
       "      <th>img_num</th>\n",
       "      <th>p1</th>\n",
       "      <th>p1_conf</th>\n",
       "      <th>p1_dog</th>\n",
       "      <th>p2</th>\n",
       "      <th>p2_conf</th>\n",
       "      <th>p2_dog</th>\n",
       "      <th>p3</th>\n",
       "      <th>p3_conf</th>\n",
       "      <th>p3_dog</th>\n",
       "    </tr>\n",
       "  </thead>\n",
       "  <tbody>\n",
       "    <tr>\n",
       "      <th>2017</th>\n",
       "      <td>880095782870896641</td>\n",
       "      <td>https://pbs.twimg.com/media/DDa6ckbXgAAM1vV.jpg</td>\n",
       "      <td>1</td>\n",
       "      <td>miniature_pinscher</td>\n",
       "      <td>0.120298</td>\n",
       "      <td>True</td>\n",
       "      <td>Rhodesian_ridgeback</td>\n",
       "      <td>0.106395</td>\n",
       "      <td>True</td>\n",
       "      <td>beagle</td>\n",
       "      <td>0.106073</td>\n",
       "      <td>True</td>\n",
       "    </tr>\n",
       "    <tr>\n",
       "      <th>1577</th>\n",
       "      <td>796116448414461957</td>\n",
       "      <td>https://pbs.twimg.com/media/CwxfrguUUAA1cbl.jpg</td>\n",
       "      <td>1</td>\n",
       "      <td>Cardigan</td>\n",
       "      <td>0.700182</td>\n",
       "      <td>True</td>\n",
       "      <td>Pembroke</td>\n",
       "      <td>0.260738</td>\n",
       "      <td>True</td>\n",
       "      <td>papillon</td>\n",
       "      <td>0.017110</td>\n",
       "      <td>True</td>\n",
       "    </tr>\n",
       "    <tr>\n",
       "      <th>1166</th>\n",
       "      <td>735635087207878657</td>\n",
       "      <td>https://pbs.twimg.com/media/CjWANBlVAAAaN-a.jpg</td>\n",
       "      <td>1</td>\n",
       "      <td>pug</td>\n",
       "      <td>0.891871</td>\n",
       "      <td>True</td>\n",
       "      <td>goose</td>\n",
       "      <td>0.014377</td>\n",
       "      <td>False</td>\n",
       "      <td>fur_coat</td>\n",
       "      <td>0.008451</td>\n",
       "      <td>False</td>\n",
       "    </tr>\n",
       "    <tr>\n",
       "      <th>1692</th>\n",
       "      <td>815990720817401858</td>\n",
       "      <td>https://pbs.twimg.com/media/C1L7OVVWQAIQ6Tt.jpg</td>\n",
       "      <td>1</td>\n",
       "      <td>Chihuahua</td>\n",
       "      <td>0.428756</td>\n",
       "      <td>True</td>\n",
       "      <td>miniature_pinscher</td>\n",
       "      <td>0.103912</td>\n",
       "      <td>True</td>\n",
       "      <td>Staffordshire_bullterrier</td>\n",
       "      <td>0.088959</td>\n",
       "      <td>True</td>\n",
       "    </tr>\n",
       "    <tr>\n",
       "      <th>2042</th>\n",
       "      <td>885528943205470208</td>\n",
       "      <td>https://pbs.twimg.com/media/DEoH3yvXgAAzQtS.jpg</td>\n",
       "      <td>1</td>\n",
       "      <td>pug</td>\n",
       "      <td>0.369275</td>\n",
       "      <td>True</td>\n",
       "      <td>Labrador_retriever</td>\n",
       "      <td>0.265835</td>\n",
       "      <td>True</td>\n",
       "      <td>kuvasz</td>\n",
       "      <td>0.134697</td>\n",
       "      <td>True</td>\n",
       "    </tr>\n",
       "  </tbody>\n",
       "</table>\n",
       "</div>"
      ],
      "text/plain": [
       "                tweet_id                                          jpg_url  \\\n",
       "2017  880095782870896641  https://pbs.twimg.com/media/DDa6ckbXgAAM1vV.jpg   \n",
       "1577  796116448414461957  https://pbs.twimg.com/media/CwxfrguUUAA1cbl.jpg   \n",
       "1166  735635087207878657  https://pbs.twimg.com/media/CjWANBlVAAAaN-a.jpg   \n",
       "1692  815990720817401858  https://pbs.twimg.com/media/C1L7OVVWQAIQ6Tt.jpg   \n",
       "2042  885528943205470208  https://pbs.twimg.com/media/DEoH3yvXgAAzQtS.jpg   \n",
       "\n",
       "      img_num                  p1   p1_conf  p1_dog                   p2  \\\n",
       "2017        1  miniature_pinscher  0.120298    True  Rhodesian_ridgeback   \n",
       "1577        1            Cardigan  0.700182    True             Pembroke   \n",
       "1166        1                 pug  0.891871    True                goose   \n",
       "1692        1           Chihuahua  0.428756    True   miniature_pinscher   \n",
       "2042        1                 pug  0.369275    True   Labrador_retriever   \n",
       "\n",
       "       p2_conf  p2_dog                         p3   p3_conf  p3_dog  \n",
       "2017  0.106395    True                     beagle  0.106073    True  \n",
       "1577  0.260738    True                   papillon  0.017110    True  \n",
       "1166  0.014377   False                   fur_coat  0.008451   False  \n",
       "1692  0.103912    True  Staffordshire_bullterrier  0.088959    True  \n",
       "2042  0.265835    True                     kuvasz  0.134697    True  "
      ]
     },
     "execution_count": 37,
     "metadata": {},
     "output_type": "execute_result"
    }
   ],
   "source": [
    "image_prediction.sample(5)"
   ]
  },
  {
   "cell_type": "code",
   "execution_count": 38,
   "metadata": {},
   "outputs": [
    {
     "name": "stdout",
     "output_type": "stream",
     "text": [
      "<class 'pandas.core.frame.DataFrame'>\n",
      "RangeIndex: 2075 entries, 0 to 2074\n",
      "Data columns (total 12 columns):\n",
      " #   Column    Non-Null Count  Dtype  \n",
      "---  ------    --------------  -----  \n",
      " 0   tweet_id  2075 non-null   int64  \n",
      " 1   jpg_url   2075 non-null   object \n",
      " 2   img_num   2075 non-null   int64  \n",
      " 3   p1        2075 non-null   object \n",
      " 4   p1_conf   2075 non-null   float64\n",
      " 5   p1_dog    2075 non-null   bool   \n",
      " 6   p2        2075 non-null   object \n",
      " 7   p2_conf   2075 non-null   float64\n",
      " 8   p2_dog    2075 non-null   bool   \n",
      " 9   p3        2075 non-null   object \n",
      " 10  p3_conf   2075 non-null   float64\n",
      " 11  p3_dog    2075 non-null   bool   \n",
      "dtypes: bool(3), float64(3), int64(2), object(4)\n",
      "memory usage: 152.1+ KB\n"
     ]
    }
   ],
   "source": [
    "image_prediction.info()"
   ]
  },
  {
   "cell_type": "code",
   "execution_count": 71,
   "metadata": {},
   "outputs": [
    {
     "data": {
      "text/html": [
       "<div>\n",
       "<style scoped>\n",
       "    .dataframe tbody tr th:only-of-type {\n",
       "        vertical-align: middle;\n",
       "    }\n",
       "\n",
       "    .dataframe tbody tr th {\n",
       "        vertical-align: top;\n",
       "    }\n",
       "\n",
       "    .dataframe thead th {\n",
       "        text-align: right;\n",
       "    }\n",
       "</style>\n",
       "<table border=\"1\" class=\"dataframe\">\n",
       "  <thead>\n",
       "    <tr style=\"text-align: right;\">\n",
       "      <th></th>\n",
       "      <th>tweet_id</th>\n",
       "      <th>jpg_url</th>\n",
       "      <th>img_num</th>\n",
       "      <th>p1</th>\n",
       "      <th>p1_conf</th>\n",
       "      <th>p1_dog</th>\n",
       "      <th>p2</th>\n",
       "      <th>p2_conf</th>\n",
       "      <th>p2_dog</th>\n",
       "      <th>p3</th>\n",
       "      <th>p3_conf</th>\n",
       "      <th>p3_dog</th>\n",
       "    </tr>\n",
       "  </thead>\n",
       "  <tbody>\n",
       "    <tr>\n",
       "      <th>0</th>\n",
       "      <td>666020888022790149</td>\n",
       "      <td>https://pbs.twimg.com/media/CT4udn0WwAA0aMy.jpg</td>\n",
       "      <td>1</td>\n",
       "      <td>Welsh_springer_spaniel</td>\n",
       "      <td>0.465074</td>\n",
       "      <td>True</td>\n",
       "      <td>collie</td>\n",
       "      <td>0.156665</td>\n",
       "      <td>True</td>\n",
       "      <td>Shetland_sheepdog</td>\n",
       "      <td>0.061428</td>\n",
       "      <td>True</td>\n",
       "    </tr>\n",
       "    <tr>\n",
       "      <th>1</th>\n",
       "      <td>666029285002620928</td>\n",
       "      <td>https://pbs.twimg.com/media/CT42GRgUYAA5iDo.jpg</td>\n",
       "      <td>1</td>\n",
       "      <td>redbone</td>\n",
       "      <td>0.506826</td>\n",
       "      <td>True</td>\n",
       "      <td>miniature_pinscher</td>\n",
       "      <td>0.074192</td>\n",
       "      <td>True</td>\n",
       "      <td>Rhodesian_ridgeback</td>\n",
       "      <td>0.072010</td>\n",
       "      <td>True</td>\n",
       "    </tr>\n",
       "    <tr>\n",
       "      <th>2</th>\n",
       "      <td>666033412701032449</td>\n",
       "      <td>https://pbs.twimg.com/media/CT4521TWwAEvMyu.jpg</td>\n",
       "      <td>1</td>\n",
       "      <td>German_shepherd</td>\n",
       "      <td>0.596461</td>\n",
       "      <td>True</td>\n",
       "      <td>malinois</td>\n",
       "      <td>0.138584</td>\n",
       "      <td>True</td>\n",
       "      <td>bloodhound</td>\n",
       "      <td>0.116197</td>\n",
       "      <td>True</td>\n",
       "    </tr>\n",
       "    <tr>\n",
       "      <th>3</th>\n",
       "      <td>666044226329800704</td>\n",
       "      <td>https://pbs.twimg.com/media/CT5Dr8HUEAA-lEu.jpg</td>\n",
       "      <td>1</td>\n",
       "      <td>Rhodesian_ridgeback</td>\n",
       "      <td>0.408143</td>\n",
       "      <td>True</td>\n",
       "      <td>redbone</td>\n",
       "      <td>0.360687</td>\n",
       "      <td>True</td>\n",
       "      <td>miniature_pinscher</td>\n",
       "      <td>0.222752</td>\n",
       "      <td>True</td>\n",
       "    </tr>\n",
       "    <tr>\n",
       "      <th>4</th>\n",
       "      <td>666049248165822465</td>\n",
       "      <td>https://pbs.twimg.com/media/CT5IQmsXIAAKY4A.jpg</td>\n",
       "      <td>1</td>\n",
       "      <td>miniature_pinscher</td>\n",
       "      <td>0.560311</td>\n",
       "      <td>True</td>\n",
       "      <td>Rottweiler</td>\n",
       "      <td>0.243682</td>\n",
       "      <td>True</td>\n",
       "      <td>Doberman</td>\n",
       "      <td>0.154629</td>\n",
       "      <td>True</td>\n",
       "    </tr>\n",
       "  </tbody>\n",
       "</table>\n",
       "</div>"
      ],
      "text/plain": [
       "             tweet_id                                          jpg_url  \\\n",
       "0  666020888022790149  https://pbs.twimg.com/media/CT4udn0WwAA0aMy.jpg   \n",
       "1  666029285002620928  https://pbs.twimg.com/media/CT42GRgUYAA5iDo.jpg   \n",
       "2  666033412701032449  https://pbs.twimg.com/media/CT4521TWwAEvMyu.jpg   \n",
       "3  666044226329800704  https://pbs.twimg.com/media/CT5Dr8HUEAA-lEu.jpg   \n",
       "4  666049248165822465  https://pbs.twimg.com/media/CT5IQmsXIAAKY4A.jpg   \n",
       "\n",
       "   img_num                      p1   p1_conf  p1_dog                  p2  \\\n",
       "0        1  Welsh_springer_spaniel  0.465074    True              collie   \n",
       "1        1                 redbone  0.506826    True  miniature_pinscher   \n",
       "2        1         German_shepherd  0.596461    True            malinois   \n",
       "3        1     Rhodesian_ridgeback  0.408143    True             redbone   \n",
       "4        1      miniature_pinscher  0.560311    True          Rottweiler   \n",
       "\n",
       "    p2_conf  p2_dog                   p3   p3_conf  p3_dog  \n",
       "0  0.156665    True    Shetland_sheepdog  0.061428    True  \n",
       "1  0.074192    True  Rhodesian_ridgeback  0.072010    True  \n",
       "2  0.138584    True           bloodhound  0.116197    True  \n",
       "3  0.360687    True   miniature_pinscher  0.222752    True  \n",
       "4  0.243682    True             Doberman  0.154629    True  "
      ]
     },
     "execution_count": 71,
     "metadata": {},
     "output_type": "execute_result"
    }
   ],
   "source": [
    "image_prediction.head()"
   ]
  },
  {
   "cell_type": "code",
   "execution_count": 59,
   "metadata": {},
   "outputs": [
    {
     "data": {
      "text/plain": [
       "66"
      ]
     },
     "execution_count": 59,
     "metadata": {},
     "output_type": "execute_result"
    }
   ],
   "source": [
    "sum(image_prediction.jpg_url.duplicated())"
   ]
  },
  {
   "cell_type": "code",
   "execution_count": 61,
   "metadata": {},
   "outputs": [
    {
     "data": {
      "text/plain": [
       "1    1780\n",
       "2     198\n",
       "3      66\n",
       "4      31\n",
       "Name: img_num, dtype: int64"
      ]
     },
     "execution_count": 61,
     "metadata": {},
     "output_type": "execute_result"
    }
   ],
   "source": [
    "image_prediction"
   ]
  },
  {
   "cell_type": "code",
   "execution_count": 69,
   "metadata": {},
   "outputs": [
    {
     "data": {
      "text/plain": [
       "685532292383666176    1\n",
       "826598365270007810    1\n",
       "692158366030913536    1\n",
       "714606013974974464    1\n",
       "715696743237730304    1\n",
       "                     ..\n",
       "816829038950027264    1\n",
       "847971574464610304    1\n",
       "713175907180089344    1\n",
       "670338931251150849    1\n",
       "700151421916807169    1\n",
       "Name: tweet_id, Length: 2075, dtype: int64"
      ]
     },
     "execution_count": 69,
     "metadata": {},
     "output_type": "execute_result"
    }
   ],
   "source": [
    "image_prediction['tweet_id'].value_counts()"
   ]
  },
  {
   "cell_type": "code",
   "execution_count": 70,
   "metadata": {},
   "outputs": [
    {
     "data": {
      "text/plain": [
       "https://pbs.twimg.com/media/CtzKC7zXEAALfSo.jpg                                            2\n",
       "https://pbs.twimg.com/media/CVuQ2LeUsAAIe3s.jpg                                            2\n",
       "https://pbs.twimg.com/ext_tw_video_thumb/817423809049493505/pu/img/5OFW0yueFu9oTUiQ.jpg    2\n",
       "https://pbs.twimg.com/media/CkNjahBXAAQ2kWo.jpg                                            2\n",
       "https://pbs.twimg.com/media/CVgdFjNWEAAxmbq.jpg                                            2\n",
       "                                                                                          ..\n",
       "https://pbs.twimg.com/media/C8hwNxbXYAAwyVG.jpg                                            1\n",
       "https://pbs.twimg.com/media/CWsGnyMVEAAM1Y1.jpg                                            1\n",
       "https://pbs.twimg.com/media/C8C0JYHW0AAy-7u.jpg                                            1\n",
       "https://pbs.twimg.com/media/C8IKUjAUwAEP-En.jpg                                            1\n",
       "https://pbs.twimg.com/ext_tw_video_thumb/841311812641533952/pu/img/sBUGt8u76n9azPWI.jpg    1\n",
       "Name: jpg_url, Length: 2009, dtype: int64"
      ]
     },
     "execution_count": 70,
     "metadata": {},
     "output_type": "execute_result"
    }
   ],
   "source": [
    "image_prediction['jpg_url'].value_counts()"
   ]
  },
  {
   "cell_type": "code",
   "execution_count": 63,
   "metadata": {},
   "outputs": [
    {
     "data": {
      "text/plain": [
       "True     1532\n",
       "False     543\n",
       "Name: p1_dog, dtype: int64"
      ]
     },
     "execution_count": 63,
     "metadata": {},
     "output_type": "execute_result"
    }
   ],
   "source": [
    "image_prediction['p1_dog'].value_counts()"
   ]
  },
  {
   "cell_type": "code",
   "execution_count": 33,
   "metadata": {},
   "outputs": [
    {
     "data": {
      "text/plain": [
       "golden_retriever      150\n",
       "Labrador_retriever    100\n",
       "Pembroke               89\n",
       "Chihuahua              83\n",
       "pug                    57\n",
       "                     ... \n",
       "bald_eagle              1\n",
       "shopping_basket         1\n",
       "fire_engine             1\n",
       "bee_eater               1\n",
       "shield                  1\n",
       "Name: p1, Length: 378, dtype: int64"
      ]
     },
     "execution_count": 33,
     "metadata": {},
     "output_type": "execute_result"
    }
   ],
   "source": [
    "image_prediction['p1'].value_counts()"
   ]
  },
  {
   "cell_type": "code",
   "execution_count": 65,
   "metadata": {},
   "outputs": [
    {
     "data": {
      "text/plain": [
       "0.366248    2\n",
       "0.713293    2\n",
       "0.375098    2\n",
       "0.636169    2\n",
       "0.611525    2\n",
       "           ..\n",
       "0.713102    1\n",
       "0.765266    1\n",
       "0.491022    1\n",
       "0.905334    1\n",
       "1.000000    1\n",
       "Name: p1_conf, Length: 2006, dtype: int64"
      ]
     },
     "execution_count": 65,
     "metadata": {},
     "output_type": "execute_result"
    }
   ],
   "source": [
    "image_prediction['p1_conf'].value_counts()"
   ]
  },
  {
   "cell_type": "code",
   "execution_count": 66,
   "metadata": {},
   "outputs": [
    {
     "data": {
      "text/plain": [
       "True     1553\n",
       "False     522\n",
       "Name: p2_dog, dtype: int64"
      ]
     },
     "execution_count": 66,
     "metadata": {},
     "output_type": "execute_result"
    }
   ],
   "source": [
    "image_prediction['p2_dog'].value_counts()"
   ]
  },
  {
   "cell_type": "code",
   "execution_count": 67,
   "metadata": {},
   "outputs": [
    {
     "data": {
      "text/plain": [
       "Labrador_retriever    104\n",
       "golden_retriever       92\n",
       "Cardigan               73\n",
       "Chihuahua              44\n",
       "Pomeranian             42\n",
       "                     ... \n",
       "paper_towel             1\n",
       "computer_keyboard       1\n",
       "shovel                  1\n",
       "bobsled                 1\n",
       "lighter                 1\n",
       "Name: p2, Length: 405, dtype: int64"
      ]
     },
     "execution_count": 67,
     "metadata": {},
     "output_type": "execute_result"
    }
   ],
   "source": [
    "image_prediction['p2'].value_counts()"
   ]
  },
  {
   "cell_type": "code",
   "execution_count": 68,
   "metadata": {},
   "outputs": [
    {
     "data": {
      "text/plain": [
       "0.069362    3\n",
       "0.027907    2\n",
       "0.193654    2\n",
       "0.271929    2\n",
       "0.003143    2\n",
       "           ..\n",
       "0.138331    1\n",
       "0.254884    1\n",
       "0.090644    1\n",
       "0.219323    1\n",
       "0.016301    1\n",
       "Name: p2_conf, Length: 2004, dtype: int64"
      ]
     },
     "execution_count": 68,
     "metadata": {},
     "output_type": "execute_result"
    }
   ],
   "source": [
    "image_prediction['p2_conf'].value_counts()"
   ]
  },
  {
   "cell_type": "markdown",
   "metadata": {},
   "source": [
    "### 3. Twitter API Data"
   ]
  },
  {
   "cell_type": "code",
   "execution_count": 39,
   "metadata": {},
   "outputs": [
    {
     "data": {
      "text/html": [
       "<div>\n",
       "<style scoped>\n",
       "    .dataframe tbody tr th:only-of-type {\n",
       "        vertical-align: middle;\n",
       "    }\n",
       "\n",
       "    .dataframe tbody tr th {\n",
       "        vertical-align: top;\n",
       "    }\n",
       "\n",
       "    .dataframe thead th {\n",
       "        text-align: right;\n",
       "    }\n",
       "</style>\n",
       "<table border=\"1\" class=\"dataframe\">\n",
       "  <thead>\n",
       "    <tr style=\"text-align: right;\">\n",
       "      <th></th>\n",
       "      <th>tweet_id</th>\n",
       "      <th>favorited</th>\n",
       "      <th>favorite_count</th>\n",
       "      <th>retweeted</th>\n",
       "      <th>retweet_count</th>\n",
       "      <th>retweeted_status</th>\n",
       "    </tr>\n",
       "  </thead>\n",
       "  <tbody>\n",
       "    <tr>\n",
       "      <th>669</th>\n",
       "      <td>788039637453406209</td>\n",
       "      <td>False</td>\n",
       "      <td>6255</td>\n",
       "      <td>False</td>\n",
       "      <td>1352</td>\n",
       "      <td>NaN</td>\n",
       "    </tr>\n",
       "    <tr>\n",
       "      <th>1938</th>\n",
       "      <td>673352124999274496</td>\n",
       "      <td>False</td>\n",
       "      <td>1608</td>\n",
       "      <td>False</td>\n",
       "      <td>519</td>\n",
       "      <td>NaN</td>\n",
       "    </tr>\n",
       "    <tr>\n",
       "      <th>2163</th>\n",
       "      <td>668975677807423489</td>\n",
       "      <td>False</td>\n",
       "      <td>1256</td>\n",
       "      <td>False</td>\n",
       "      <td>556</td>\n",
       "      <td>NaN</td>\n",
       "    </tr>\n",
       "    <tr>\n",
       "      <th>2069</th>\n",
       "      <td>670778058496974848</td>\n",
       "      <td>False</td>\n",
       "      <td>319</td>\n",
       "      <td>False</td>\n",
       "      <td>71</td>\n",
       "      <td>NaN</td>\n",
       "    </tr>\n",
       "    <tr>\n",
       "      <th>399</th>\n",
       "      <td>822647212903690241</td>\n",
       "      <td>False</td>\n",
       "      <td>0</td>\n",
       "      <td>False</td>\n",
       "      <td>6509</td>\n",
       "      <td>{'created_at': 'Fri Jan 20 17:00:46 +0000 2017...</td>\n",
       "    </tr>\n",
       "    <tr>\n",
       "      <th>2302</th>\n",
       "      <td>666407126856765440</td>\n",
       "      <td>False</td>\n",
       "      <td>100</td>\n",
       "      <td>False</td>\n",
       "      <td>32</td>\n",
       "      <td>NaN</td>\n",
       "    </tr>\n",
       "    <tr>\n",
       "      <th>1578</th>\n",
       "      <td>685973236358713344</td>\n",
       "      <td>False</td>\n",
       "      <td>2101</td>\n",
       "      <td>False</td>\n",
       "      <td>522</td>\n",
       "      <td>NaN</td>\n",
       "    </tr>\n",
       "    <tr>\n",
       "      <th>1881</th>\n",
       "      <td>674468880899788800</td>\n",
       "      <td>False</td>\n",
       "      <td>6053</td>\n",
       "      <td>False</td>\n",
       "      <td>1971</td>\n",
       "      <td>NaN</td>\n",
       "    </tr>\n",
       "    <tr>\n",
       "      <th>2103</th>\n",
       "      <td>670303360680108032</td>\n",
       "      <td>False</td>\n",
       "      <td>418</td>\n",
       "      <td>False</td>\n",
       "      <td>126</td>\n",
       "      <td>NaN</td>\n",
       "    </tr>\n",
       "    <tr>\n",
       "      <th>539</th>\n",
       "      <td>803638050916102144</td>\n",
       "      <td>False</td>\n",
       "      <td>11197</td>\n",
       "      <td>False</td>\n",
       "      <td>4245</td>\n",
       "      <td>NaN</td>\n",
       "    </tr>\n",
       "  </tbody>\n",
       "</table>\n",
       "</div>"
      ],
      "text/plain": [
       "                tweet_id  favorited  favorite_count  retweeted  retweet_count  \\\n",
       "669   788039637453406209      False            6255      False           1352   \n",
       "1938  673352124999274496      False            1608      False            519   \n",
       "2163  668975677807423489      False            1256      False            556   \n",
       "2069  670778058496974848      False             319      False             71   \n",
       "399   822647212903690241      False               0      False           6509   \n",
       "2302  666407126856765440      False             100      False             32   \n",
       "1578  685973236358713344      False            2101      False            522   \n",
       "1881  674468880899788800      False            6053      False           1971   \n",
       "2103  670303360680108032      False             418      False            126   \n",
       "539   803638050916102144      False           11197      False           4245   \n",
       "\n",
       "                                       retweeted_status  \n",
       "669                                                 NaN  \n",
       "1938                                                NaN  \n",
       "2163                                                NaN  \n",
       "2069                                                NaN  \n",
       "399   {'created_at': 'Fri Jan 20 17:00:46 +0000 2017...  \n",
       "2302                                                NaN  \n",
       "1578                                                NaN  \n",
       "1881                                                NaN  \n",
       "2103                                                NaN  \n",
       "539                                                 NaN  "
      ]
     },
     "execution_count": 39,
     "metadata": {},
     "output_type": "execute_result"
    }
   ],
   "source": [
    "twitter2.sample(10)"
   ]
  },
  {
   "cell_type": "code",
   "execution_count": 40,
   "metadata": {},
   "outputs": [
    {
     "name": "stdout",
     "output_type": "stream",
     "text": [
      "<class 'pandas.core.frame.DataFrame'>\n",
      "RangeIndex: 2331 entries, 0 to 2330\n",
      "Data columns (total 6 columns):\n",
      " #   Column            Non-Null Count  Dtype \n",
      "---  ------            --------------  ----- \n",
      " 0   tweet_id          2331 non-null   int64 \n",
      " 1   favorited         2331 non-null   bool  \n",
      " 2   favorite_count    2331 non-null   int64 \n",
      " 3   retweeted         2331 non-null   bool  \n",
      " 4   retweet_count     2331 non-null   int64 \n",
      " 5   retweeted_status  163 non-null    object\n",
      "dtypes: bool(2), int64(3), object(1)\n",
      "memory usage: 77.5+ KB\n"
     ]
    }
   ],
   "source": [
    "twitter2.info()"
   ]
  },
  {
   "cell_type": "code",
   "execution_count": 95,
   "metadata": {},
   "outputs": [
    {
     "data": {
      "text/html": [
       "<div>\n",
       "<style scoped>\n",
       "    .dataframe tbody tr th:only-of-type {\n",
       "        vertical-align: middle;\n",
       "    }\n",
       "\n",
       "    .dataframe tbody tr th {\n",
       "        vertical-align: top;\n",
       "    }\n",
       "\n",
       "    .dataframe thead th {\n",
       "        text-align: right;\n",
       "    }\n",
       "</style>\n",
       "<table border=\"1\" class=\"dataframe\">\n",
       "  <thead>\n",
       "    <tr style=\"text-align: right;\">\n",
       "      <th></th>\n",
       "      <th>tweet_id</th>\n",
       "      <th>favorite_count</th>\n",
       "      <th>retweet_count</th>\n",
       "    </tr>\n",
       "  </thead>\n",
       "  <tbody>\n",
       "    <tr>\n",
       "      <th>count</th>\n",
       "      <td>2.327000e+03</td>\n",
       "      <td>2327.000000</td>\n",
       "      <td>2327.000000</td>\n",
       "    </tr>\n",
       "    <tr>\n",
       "      <th>mean</th>\n",
       "      <td>7.419183e+17</td>\n",
       "      <td>7581.669532</td>\n",
       "      <td>2713.030941</td>\n",
       "    </tr>\n",
       "    <tr>\n",
       "      <th>std</th>\n",
       "      <td>6.826980e+16</td>\n",
       "      <td>11768.332564</td>\n",
       "      <td>4588.758761</td>\n",
       "    </tr>\n",
       "    <tr>\n",
       "      <th>min</th>\n",
       "      <td>6.660209e+17</td>\n",
       "      <td>0.000000</td>\n",
       "      <td>1.000000</td>\n",
       "    </tr>\n",
       "    <tr>\n",
       "      <th>25%</th>\n",
       "      <td>6.782670e+17</td>\n",
       "      <td>1322.000000</td>\n",
       "      <td>548.500000</td>\n",
       "    </tr>\n",
       "    <tr>\n",
       "      <th>50%</th>\n",
       "      <td>7.182346e+17</td>\n",
       "      <td>3297.000000</td>\n",
       "      <td>1272.000000</td>\n",
       "    </tr>\n",
       "    <tr>\n",
       "      <th>75%</th>\n",
       "      <td>7.986778e+17</td>\n",
       "      <td>9284.500000</td>\n",
       "      <td>3150.500000</td>\n",
       "    </tr>\n",
       "    <tr>\n",
       "      <th>max</th>\n",
       "      <td>8.924206e+17</td>\n",
       "      <td>156601.000000</td>\n",
       "      <td>78056.000000</td>\n",
       "    </tr>\n",
       "  </tbody>\n",
       "</table>\n",
       "</div>"
      ],
      "text/plain": [
       "           tweet_id  favorite_count  retweet_count\n",
       "count  2.327000e+03     2327.000000    2327.000000\n",
       "mean   7.419183e+17     7581.669532    2713.030941\n",
       "std    6.826980e+16    11768.332564    4588.758761\n",
       "min    6.660209e+17        0.000000       1.000000\n",
       "25%    6.782670e+17     1322.000000     548.500000\n",
       "50%    7.182346e+17     3297.000000    1272.000000\n",
       "75%    7.986778e+17     9284.500000    3150.500000\n",
       "max    8.924206e+17   156601.000000   78056.000000"
      ]
     },
     "execution_count": 95,
     "metadata": {},
     "output_type": "execute_result"
    }
   ],
   "source": [
    "twitter2.describe()"
   ]
  },
  {
   "cell_type": "code",
   "execution_count": 204,
   "metadata": {},
   "outputs": [
    {
     "data": {
      "text/html": [
       "<div>\n",
       "<style scoped>\n",
       "    .dataframe tbody tr th:only-of-type {\n",
       "        vertical-align: middle;\n",
       "    }\n",
       "\n",
       "    .dataframe tbody tr th {\n",
       "        vertical-align: top;\n",
       "    }\n",
       "\n",
       "    .dataframe thead th {\n",
       "        text-align: right;\n",
       "    }\n",
       "</style>\n",
       "<table border=\"1\" class=\"dataframe\">\n",
       "  <thead>\n",
       "    <tr style=\"text-align: right;\">\n",
       "      <th></th>\n",
       "      <th>tweet_id</th>\n",
       "      <th>favorited</th>\n",
       "      <th>favorite_count</th>\n",
       "      <th>retweeted</th>\n",
       "      <th>retweet_count</th>\n",
       "      <th>retweeted_status</th>\n",
       "    </tr>\n",
       "  </thead>\n",
       "  <tbody>\n",
       "    <tr>\n",
       "      <th>0</th>\n",
       "      <td>892420643555336193</td>\n",
       "      <td>False</td>\n",
       "      <td>36291</td>\n",
       "      <td>False</td>\n",
       "      <td>7724</td>\n",
       "      <td>NaN</td>\n",
       "    </tr>\n",
       "    <tr>\n",
       "      <th>1</th>\n",
       "      <td>892177421306343426</td>\n",
       "      <td>False</td>\n",
       "      <td>31291</td>\n",
       "      <td>False</td>\n",
       "      <td>5718</td>\n",
       "      <td>NaN</td>\n",
       "    </tr>\n",
       "    <tr>\n",
       "      <th>2</th>\n",
       "      <td>891815181378084864</td>\n",
       "      <td>False</td>\n",
       "      <td>23563</td>\n",
       "      <td>False</td>\n",
       "      <td>3786</td>\n",
       "      <td>NaN</td>\n",
       "    </tr>\n",
       "    <tr>\n",
       "      <th>3</th>\n",
       "      <td>891689557279858688</td>\n",
       "      <td>False</td>\n",
       "      <td>39581</td>\n",
       "      <td>False</td>\n",
       "      <td>7879</td>\n",
       "      <td>NaN</td>\n",
       "    </tr>\n",
       "    <tr>\n",
       "      <th>4</th>\n",
       "      <td>891327558926688256</td>\n",
       "      <td>False</td>\n",
       "      <td>37791</td>\n",
       "      <td>False</td>\n",
       "      <td>8506</td>\n",
       "      <td>NaN</td>\n",
       "    </tr>\n",
       "    <tr>\n",
       "      <th>...</th>\n",
       "      <td>...</td>\n",
       "      <td>...</td>\n",
       "      <td>...</td>\n",
       "      <td>...</td>\n",
       "      <td>...</td>\n",
       "      <td>...</td>\n",
       "    </tr>\n",
       "    <tr>\n",
       "      <th>2322</th>\n",
       "      <td>666049248165822465</td>\n",
       "      <td>False</td>\n",
       "      <td>96</td>\n",
       "      <td>False</td>\n",
       "      <td>39</td>\n",
       "      <td>NaN</td>\n",
       "    </tr>\n",
       "    <tr>\n",
       "      <th>2323</th>\n",
       "      <td>666044226329800704</td>\n",
       "      <td>False</td>\n",
       "      <td>272</td>\n",
       "      <td>False</td>\n",
       "      <td>132</td>\n",
       "      <td>NaN</td>\n",
       "    </tr>\n",
       "    <tr>\n",
       "      <th>2324</th>\n",
       "      <td>666033412701032449</td>\n",
       "      <td>False</td>\n",
       "      <td>112</td>\n",
       "      <td>False</td>\n",
       "      <td>41</td>\n",
       "      <td>NaN</td>\n",
       "    </tr>\n",
       "    <tr>\n",
       "      <th>2325</th>\n",
       "      <td>666029285002620928</td>\n",
       "      <td>False</td>\n",
       "      <td>121</td>\n",
       "      <td>False</td>\n",
       "      <td>42</td>\n",
       "      <td>NaN</td>\n",
       "    </tr>\n",
       "    <tr>\n",
       "      <th>2326</th>\n",
       "      <td>666020888022790149</td>\n",
       "      <td>False</td>\n",
       "      <td>2418</td>\n",
       "      <td>False</td>\n",
       "      <td>462</td>\n",
       "      <td>NaN</td>\n",
       "    </tr>\n",
       "  </tbody>\n",
       "</table>\n",
       "<p>2327 rows × 6 columns</p>\n",
       "</div>"
      ],
      "text/plain": [
       "                tweet_id  favorited  favorite_count  retweeted  retweet_count  \\\n",
       "0     892420643555336193      False           36291      False           7724   \n",
       "1     892177421306343426      False           31291      False           5718   \n",
       "2     891815181378084864      False           23563      False           3786   \n",
       "3     891689557279858688      False           39581      False           7879   \n",
       "4     891327558926688256      False           37791      False           8506   \n",
       "...                  ...        ...             ...        ...            ...   \n",
       "2322  666049248165822465      False              96      False             39   \n",
       "2323  666044226329800704      False             272      False            132   \n",
       "2324  666033412701032449      False             112      False             41   \n",
       "2325  666029285002620928      False             121      False             42   \n",
       "2326  666020888022790149      False            2418      False            462   \n",
       "\n",
       "     retweeted_status  \n",
       "0                 NaN  \n",
       "1                 NaN  \n",
       "2                 NaN  \n",
       "3                 NaN  \n",
       "4                 NaN  \n",
       "...               ...  \n",
       "2322              NaN  \n",
       "2323              NaN  \n",
       "2324              NaN  \n",
       "2325              NaN  \n",
       "2326              NaN  \n",
       "\n",
       "[2327 rows x 6 columns]"
      ]
     },
     "execution_count": 204,
     "metadata": {},
     "output_type": "execute_result"
    }
   ],
   "source": [
    "twitter2[twitter2.duplicated(['favorited'], keep=False)]"
   ]
  },
  {
   "cell_type": "code",
   "execution_count": 41,
   "metadata": {},
   "outputs": [
    {
     "data": {
      "text/plain": [
       "749075273010798592    1\n",
       "671163268581498880    1\n",
       "743510151680958465    1\n",
       "798644042770751489    1\n",
       "825120256414846976    1\n",
       "                     ..\n",
       "794926597468000259    1\n",
       "673705679337693185    1\n",
       "673342308415348736    1\n",
       "754482103782404096    1\n",
       "700151421916807169    1\n",
       "Name: tweet_id, Length: 2331, dtype: int64"
      ]
     },
     "execution_count": 41,
     "metadata": {},
     "output_type": "execute_result"
    }
   ],
   "source": [
    "twitter2['tweet_id'].value_counts()"
   ]
  },
  {
   "cell_type": "code",
   "execution_count": 36,
   "metadata": {},
   "outputs": [
    {
     "data": {
      "text/plain": [
       "0       163\n",
       "1609      4\n",
       "4110      3\n",
       "1073      3\n",
       "2413      3\n",
       "       ... \n",
       "581       1\n",
       "2971      1\n",
       "4679      1\n",
       "1774      1\n",
       "4099      1\n",
       "Name: favorite_count, Length: 1982, dtype: int64"
      ]
     },
     "execution_count": 36,
     "metadata": {},
     "output_type": "execute_result"
    }
   ],
   "source": [
    "twitter2['favorite_count'].value_counts()"
   ]
  },
  {
   "cell_type": "code",
   "execution_count": 100,
   "metadata": {},
   "outputs": [
    {
     "data": {
      "text/plain": [
       "555     6\n",
       "225     5\n",
       "204     4\n",
       "123     4\n",
       "1963    4\n",
       "       ..\n",
       "2458    1\n",
       "1430    1\n",
       "4513    1\n",
       "419     1\n",
       "35      1\n",
       "Name: retweet_count, Length: 1705, dtype: int64"
      ]
     },
     "execution_count": 100,
     "metadata": {},
     "output_type": "execute_result"
    }
   ],
   "source": [
    "twitter2['retweet_count'].value_counts()"
   ]
  },
  {
   "cell_type": "markdown",
   "metadata": {},
   "source": [
    "### Quality"
   ]
  },
  {
   "cell_type": "code",
   "execution_count": 42,
   "metadata": {},
   "outputs": [
    {
     "name": "stdout",
     "output_type": "stream",
     "text": [
      "<class 'pandas.core.frame.DataFrame'>\n",
      "RangeIndex: 2356 entries, 0 to 2355\n",
      "Data columns (total 17 columns):\n",
      " #   Column                      Non-Null Count  Dtype  \n",
      "---  ------                      --------------  -----  \n",
      " 0   tweet_id                    2356 non-null   int64  \n",
      " 1   in_reply_to_status_id       78 non-null     float64\n",
      " 2   in_reply_to_user_id         78 non-null     float64\n",
      " 3   timestamp                   2356 non-null   object \n",
      " 4   source                      2356 non-null   object \n",
      " 5   text                        2356 non-null   object \n",
      " 6   retweeted_status_id         181 non-null    float64\n",
      " 7   retweeted_status_user_id    181 non-null    float64\n",
      " 8   retweeted_status_timestamp  181 non-null    object \n",
      " 9   expanded_urls               2297 non-null   object \n",
      " 10  rating_numerator            2356 non-null   int64  \n",
      " 11  rating_denominator          2356 non-null   int64  \n",
      " 12  name                        2356 non-null   object \n",
      " 13  doggo                       2356 non-null   object \n",
      " 14  floofer                     2356 non-null   object \n",
      " 15  pupper                      2356 non-null   object \n",
      " 16  puppo                       2356 non-null   object \n",
      "dtypes: float64(4), int64(3), object(10)\n",
      "memory usage: 313.0+ KB\n"
     ]
    }
   ],
   "source": [
    "twitter_df.info()"
   ]
  },
  {
   "cell_type": "code",
   "execution_count": 113,
   "metadata": {},
   "outputs": [
    {
     "data": {
      "text/html": [
       "<div>\n",
       "<style scoped>\n",
       "    .dataframe tbody tr th:only-of-type {\n",
       "        vertical-align: middle;\n",
       "    }\n",
       "\n",
       "    .dataframe tbody tr th {\n",
       "        vertical-align: top;\n",
       "    }\n",
       "\n",
       "    .dataframe thead th {\n",
       "        text-align: right;\n",
       "    }\n",
       "</style>\n",
       "<table border=\"1\" class=\"dataframe\">\n",
       "  <thead>\n",
       "    <tr style=\"text-align: right;\">\n",
       "      <th></th>\n",
       "      <th>tweet_id</th>\n",
       "      <th>in_reply_to_status_id</th>\n",
       "      <th>in_reply_to_user_id</th>\n",
       "      <th>timestamp</th>\n",
       "      <th>source</th>\n",
       "      <th>text</th>\n",
       "      <th>retweeted_status_id</th>\n",
       "      <th>retweeted_status_user_id</th>\n",
       "      <th>retweeted_status_timestamp</th>\n",
       "      <th>expanded_urls</th>\n",
       "      <th>rating_numerator</th>\n",
       "      <th>rating_denominator</th>\n",
       "      <th>name</th>\n",
       "      <th>doggo</th>\n",
       "      <th>floofer</th>\n",
       "      <th>pupper</th>\n",
       "      <th>puppo</th>\n",
       "    </tr>\n",
       "  </thead>\n",
       "  <tbody>\n",
       "    <tr>\n",
       "      <th>46</th>\n",
       "      <td>883360690899218434</td>\n",
       "      <td>NaN</td>\n",
       "      <td>NaN</td>\n",
       "      <td>2017-07-07 16:22:55 +0000</td>\n",
       "      <td>&lt;a href=\"http://twitter.com/download/iphone\" r...</td>\n",
       "      <td>Meet Grizzwald. He may be the floofiest floofe...</td>\n",
       "      <td>NaN</td>\n",
       "      <td>NaN</td>\n",
       "      <td>NaN</td>\n",
       "      <td>https://twitter.com/dog_rates/status/883360690...</td>\n",
       "      <td>13</td>\n",
       "      <td>10</td>\n",
       "      <td>Grizzwald</td>\n",
       "      <td>None</td>\n",
       "      <td>floofer</td>\n",
       "      <td>None</td>\n",
       "      <td>None</td>\n",
       "    </tr>\n",
       "    <tr>\n",
       "      <th>1334</th>\n",
       "      <td>705428427625635840</td>\n",
       "      <td>NaN</td>\n",
       "      <td>NaN</td>\n",
       "      <td>2016-03-03 16:23:38 +0000</td>\n",
       "      <td>&lt;a href=\"http://twitter.com/download/iphone\" r...</td>\n",
       "      <td>This is Ambrose. He's an Alfalfa Ballyhoo. Dra...</td>\n",
       "      <td>NaN</td>\n",
       "      <td>NaN</td>\n",
       "      <td>NaN</td>\n",
       "      <td>https://twitter.com/dog_rates/status/705428427...</td>\n",
       "      <td>11</td>\n",
       "      <td>10</td>\n",
       "      <td>Ambrose</td>\n",
       "      <td>None</td>\n",
       "      <td>None</td>\n",
       "      <td>pupper</td>\n",
       "      <td>None</td>\n",
       "    </tr>\n",
       "    <tr>\n",
       "      <th>762</th>\n",
       "      <td>778039087836069888</td>\n",
       "      <td>NaN</td>\n",
       "      <td>NaN</td>\n",
       "      <td>2016-09-20 01:12:28 +0000</td>\n",
       "      <td>&lt;a href=\"http://twitter.com/download/iphone\" r...</td>\n",
       "      <td>Evolution of a pupper yawn featuring Max. 12/1...</td>\n",
       "      <td>NaN</td>\n",
       "      <td>NaN</td>\n",
       "      <td>NaN</td>\n",
       "      <td>https://twitter.com/dog_rates/status/778039087...</td>\n",
       "      <td>12</td>\n",
       "      <td>10</td>\n",
       "      <td>None</td>\n",
       "      <td>None</td>\n",
       "      <td>None</td>\n",
       "      <td>pupper</td>\n",
       "      <td>None</td>\n",
       "    </tr>\n",
       "    <tr>\n",
       "      <th>1619</th>\n",
       "      <td>684959798585110529</td>\n",
       "      <td>NaN</td>\n",
       "      <td>NaN</td>\n",
       "      <td>2016-01-07 04:48:36 +0000</td>\n",
       "      <td>&lt;a href=\"http://twitter.com/download/iphone\" r...</td>\n",
       "      <td>This is Jerry. He's a neat dog. No legs (tragi...</td>\n",
       "      <td>NaN</td>\n",
       "      <td>NaN</td>\n",
       "      <td>NaN</td>\n",
       "      <td>https://twitter.com/dog_rates/status/684959798...</td>\n",
       "      <td>5</td>\n",
       "      <td>10</td>\n",
       "      <td>Jerry</td>\n",
       "      <td>None</td>\n",
       "      <td>None</td>\n",
       "      <td>None</td>\n",
       "      <td>None</td>\n",
       "    </tr>\n",
       "    <tr>\n",
       "      <th>2267</th>\n",
       "      <td>667524857454854144</td>\n",
       "      <td>NaN</td>\n",
       "      <td>NaN</td>\n",
       "      <td>2015-11-20 02:08:22 +0000</td>\n",
       "      <td>&lt;a href=\"http://twitter.com\" rel=\"nofollow\"&gt;Tw...</td>\n",
       "      <td>Another topnotch dog. His name is Big Jumpy Ra...</td>\n",
       "      <td>NaN</td>\n",
       "      <td>NaN</td>\n",
       "      <td>NaN</td>\n",
       "      <td>https://twitter.com/dog_rates/status/667524857...</td>\n",
       "      <td>12</td>\n",
       "      <td>10</td>\n",
       "      <td>None</td>\n",
       "      <td>None</td>\n",
       "      <td>None</td>\n",
       "      <td>None</td>\n",
       "      <td>None</td>\n",
       "    </tr>\n",
       "    <tr>\n",
       "      <th>299</th>\n",
       "      <td>836989968035819520</td>\n",
       "      <td>NaN</td>\n",
       "      <td>NaN</td>\n",
       "      <td>2017-03-01 17:22:13 +0000</td>\n",
       "      <td>&lt;a href=\"http://twitter.com/download/iphone\" r...</td>\n",
       "      <td>This is Mookie. He really enjoys shopping but ...</td>\n",
       "      <td>NaN</td>\n",
       "      <td>NaN</td>\n",
       "      <td>NaN</td>\n",
       "      <td>https://twitter.com/dog_rates/status/836989968...</td>\n",
       "      <td>12</td>\n",
       "      <td>10</td>\n",
       "      <td>Mookie</td>\n",
       "      <td>None</td>\n",
       "      <td>None</td>\n",
       "      <td>None</td>\n",
       "      <td>None</td>\n",
       "    </tr>\n",
       "    <tr>\n",
       "      <th>1901</th>\n",
       "      <td>674646392044941312</td>\n",
       "      <td>NaN</td>\n",
       "      <td>NaN</td>\n",
       "      <td>2015-12-09 17:46:48 +0000</td>\n",
       "      <td>&lt;a href=\"http://twitter.com/download/iphone\" r...</td>\n",
       "      <td>Two gorgeous dogs here. Little waddling dog is...</td>\n",
       "      <td>NaN</td>\n",
       "      <td>NaN</td>\n",
       "      <td>NaN</td>\n",
       "      <td>https://twitter.com/dog_rates/status/674646392...</td>\n",
       "      <td>5</td>\n",
       "      <td>10</td>\n",
       "      <td>None</td>\n",
       "      <td>None</td>\n",
       "      <td>None</td>\n",
       "      <td>None</td>\n",
       "      <td>None</td>\n",
       "    </tr>\n",
       "    <tr>\n",
       "      <th>1411</th>\n",
       "      <td>698989035503689728</td>\n",
       "      <td>NaN</td>\n",
       "      <td>NaN</td>\n",
       "      <td>2016-02-14 21:55:47 +0000</td>\n",
       "      <td>&lt;a href=\"http://twitter.com/download/iphone\" r...</td>\n",
       "      <td>This is Oliver. He does toe touches in his sle...</td>\n",
       "      <td>NaN</td>\n",
       "      <td>NaN</td>\n",
       "      <td>NaN</td>\n",
       "      <td>https://twitter.com/dog_rates/status/698989035...</td>\n",
       "      <td>13</td>\n",
       "      <td>10</td>\n",
       "      <td>Oliver</td>\n",
       "      <td>None</td>\n",
       "      <td>None</td>\n",
       "      <td>None</td>\n",
       "      <td>None</td>\n",
       "    </tr>\n",
       "    <tr>\n",
       "      <th>1713</th>\n",
       "      <td>680473011644985345</td>\n",
       "      <td>NaN</td>\n",
       "      <td>NaN</td>\n",
       "      <td>2015-12-25 19:39:43 +0000</td>\n",
       "      <td>&lt;a href=\"http://twitter.com/download/iphone\" r...</td>\n",
       "      <td>This is Hector. He thinks he's a hammer. Silly...</td>\n",
       "      <td>NaN</td>\n",
       "      <td>NaN</td>\n",
       "      <td>NaN</td>\n",
       "      <td>https://twitter.com/dog_rates/status/680473011...</td>\n",
       "      <td>10</td>\n",
       "      <td>10</td>\n",
       "      <td>Hector</td>\n",
       "      <td>None</td>\n",
       "      <td>None</td>\n",
       "      <td>pupper</td>\n",
       "      <td>None</td>\n",
       "    </tr>\n",
       "    <tr>\n",
       "      <th>1648</th>\n",
       "      <td>683773439333797890</td>\n",
       "      <td>NaN</td>\n",
       "      <td>NaN</td>\n",
       "      <td>2016-01-03 22:14:26 +0000</td>\n",
       "      <td>&lt;a href=\"http://twitter.com/download/iphone\" r...</td>\n",
       "      <td>This is Buddy. He's gaining strength. Currentl...</td>\n",
       "      <td>NaN</td>\n",
       "      <td>NaN</td>\n",
       "      <td>NaN</td>\n",
       "      <td>https://twitter.com/dog_rates/status/683773439...</td>\n",
       "      <td>9</td>\n",
       "      <td>10</td>\n",
       "      <td>Buddy</td>\n",
       "      <td>None</td>\n",
       "      <td>None</td>\n",
       "      <td>None</td>\n",
       "      <td>None</td>\n",
       "    </tr>\n",
       "    <tr>\n",
       "      <th>876</th>\n",
       "      <td>761004547850530816</td>\n",
       "      <td>NaN</td>\n",
       "      <td>NaN</td>\n",
       "      <td>2016-08-04 01:03:17 +0000</td>\n",
       "      <td>&lt;a href=\"http://twitter.com/download/iphone\" r...</td>\n",
       "      <td>This is Bo and Ty. Bo eats paper and Ty felt l...</td>\n",
       "      <td>NaN</td>\n",
       "      <td>NaN</td>\n",
       "      <td>NaN</td>\n",
       "      <td>https://twitter.com/dog_rates/status/761004547...</td>\n",
       "      <td>11</td>\n",
       "      <td>10</td>\n",
       "      <td>Bo</td>\n",
       "      <td>None</td>\n",
       "      <td>None</td>\n",
       "      <td>None</td>\n",
       "      <td>None</td>\n",
       "    </tr>\n",
       "    <tr>\n",
       "      <th>2168</th>\n",
       "      <td>669354382627049472</td>\n",
       "      <td>NaN</td>\n",
       "      <td>NaN</td>\n",
       "      <td>2015-11-25 03:18:15 +0000</td>\n",
       "      <td>&lt;a href=\"http://twitter.com/download/iphone\" r...</td>\n",
       "      <td>Meet Dug. Dug fucken loves peaches. 8/10 https...</td>\n",
       "      <td>NaN</td>\n",
       "      <td>NaN</td>\n",
       "      <td>NaN</td>\n",
       "      <td>https://twitter.com/dog_rates/status/669354382...</td>\n",
       "      <td>8</td>\n",
       "      <td>10</td>\n",
       "      <td>Dug</td>\n",
       "      <td>None</td>\n",
       "      <td>None</td>\n",
       "      <td>None</td>\n",
       "      <td>None</td>\n",
       "    </tr>\n",
       "    <tr>\n",
       "      <th>1653</th>\n",
       "      <td>683462770029932544</td>\n",
       "      <td>NaN</td>\n",
       "      <td>NaN</td>\n",
       "      <td>2016-01-03 01:39:57 +0000</td>\n",
       "      <td>&lt;a href=\"http://twitter.com/download/iphone\" r...</td>\n",
       "      <td>\"Hello forest pupper I am house pupper welcome...</td>\n",
       "      <td>NaN</td>\n",
       "      <td>NaN</td>\n",
       "      <td>NaN</td>\n",
       "      <td>https://twitter.com/dog_rates/status/683462770...</td>\n",
       "      <td>8</td>\n",
       "      <td>10</td>\n",
       "      <td>None</td>\n",
       "      <td>None</td>\n",
       "      <td>None</td>\n",
       "      <td>pupper</td>\n",
       "      <td>None</td>\n",
       "    </tr>\n",
       "    <tr>\n",
       "      <th>325</th>\n",
       "      <td>833863086058651648</td>\n",
       "      <td>NaN</td>\n",
       "      <td>NaN</td>\n",
       "      <td>2017-02-21 02:17:06 +0000</td>\n",
       "      <td>&lt;a href=\"http://twitter.com/download/iphone\" r...</td>\n",
       "      <td>This is Bentley. Hairbrushes are his favorite ...</td>\n",
       "      <td>NaN</td>\n",
       "      <td>NaN</td>\n",
       "      <td>NaN</td>\n",
       "      <td>https://twitter.com/dog_rates/status/833863086...</td>\n",
       "      <td>12</td>\n",
       "      <td>10</td>\n",
       "      <td>Bentley</td>\n",
       "      <td>None</td>\n",
       "      <td>None</td>\n",
       "      <td>None</td>\n",
       "      <td>None</td>\n",
       "    </tr>\n",
       "    <tr>\n",
       "      <th>605</th>\n",
       "      <td>798576900688019456</td>\n",
       "      <td>NaN</td>\n",
       "      <td>NaN</td>\n",
       "      <td>2016-11-15 17:22:24 +0000</td>\n",
       "      <td>&lt;a href=\"http://twitter.com/download/iphone\" r...</td>\n",
       "      <td>RT @dog_rates: Not familiar with this breed. N...</td>\n",
       "      <td>6.661041e+17</td>\n",
       "      <td>4.196984e+09</td>\n",
       "      <td>2015-11-16 04:02:55 +0000</td>\n",
       "      <td>https://twitter.com/dog_rates/status/666104133...</td>\n",
       "      <td>1</td>\n",
       "      <td>10</td>\n",
       "      <td>None</td>\n",
       "      <td>None</td>\n",
       "      <td>None</td>\n",
       "      <td>None</td>\n",
       "      <td>None</td>\n",
       "    </tr>\n",
       "    <tr>\n",
       "      <th>749</th>\n",
       "      <td>779124354206535695</td>\n",
       "      <td>NaN</td>\n",
       "      <td>NaN</td>\n",
       "      <td>2016-09-23 01:04:56 +0000</td>\n",
       "      <td>&lt;a href=\"http://twitter.com/download/iphone\" r...</td>\n",
       "      <td>RT @dog_rates: Meet Hurley. He's the curly one...</td>\n",
       "      <td>6.794628e+17</td>\n",
       "      <td>4.196984e+09</td>\n",
       "      <td>2015-12-23 00:45:35 +0000</td>\n",
       "      <td>https://twitter.com/dog_rates/status/679462823...</td>\n",
       "      <td>11</td>\n",
       "      <td>10</td>\n",
       "      <td>Hurley</td>\n",
       "      <td>None</td>\n",
       "      <td>None</td>\n",
       "      <td>None</td>\n",
       "      <td>None</td>\n",
       "    </tr>\n",
       "    <tr>\n",
       "      <th>2180</th>\n",
       "      <td>669000397445533696</td>\n",
       "      <td>NaN</td>\n",
       "      <td>NaN</td>\n",
       "      <td>2015-11-24 03:51:38 +0000</td>\n",
       "      <td>&lt;a href=\"http://twitter.com/download/iphone\" r...</td>\n",
       "      <td>Meet Terrance. He's being yelled at because he...</td>\n",
       "      <td>NaN</td>\n",
       "      <td>NaN</td>\n",
       "      <td>NaN</td>\n",
       "      <td>https://twitter.com/dog_rates/status/669000397...</td>\n",
       "      <td>11</td>\n",
       "      <td>10</td>\n",
       "      <td>Terrance</td>\n",
       "      <td>None</td>\n",
       "      <td>None</td>\n",
       "      <td>None</td>\n",
       "      <td>None</td>\n",
       "    </tr>\n",
       "    <tr>\n",
       "      <th>1098</th>\n",
       "      <td>736010884653420544</td>\n",
       "      <td>NaN</td>\n",
       "      <td>NaN</td>\n",
       "      <td>2016-05-27 01:47:23 +0000</td>\n",
       "      <td>&lt;a href=\"http://twitter.com/download/iphone\" r...</td>\n",
       "      <td>Right after you graduate vs when you remember ...</td>\n",
       "      <td>NaN</td>\n",
       "      <td>NaN</td>\n",
       "      <td>NaN</td>\n",
       "      <td>https://twitter.com/dog_rates/status/736010884...</td>\n",
       "      <td>10</td>\n",
       "      <td>10</td>\n",
       "      <td>None</td>\n",
       "      <td>None</td>\n",
       "      <td>None</td>\n",
       "      <td>None</td>\n",
       "      <td>None</td>\n",
       "    </tr>\n",
       "    <tr>\n",
       "      <th>221</th>\n",
       "      <td>849776966551130114</td>\n",
       "      <td>NaN</td>\n",
       "      <td>NaN</td>\n",
       "      <td>2017-04-06 00:13:11 +0000</td>\n",
       "      <td>&lt;a href=\"http://twitter.com/download/iphone\" r...</td>\n",
       "      <td>Seriously guys? Again? We only rate dogs. Plea...</td>\n",
       "      <td>NaN</td>\n",
       "      <td>NaN</td>\n",
       "      <td>NaN</td>\n",
       "      <td>https://twitter.com/dog_rates/status/849776966...</td>\n",
       "      <td>12</td>\n",
       "      <td>10</td>\n",
       "      <td>None</td>\n",
       "      <td>None</td>\n",
       "      <td>None</td>\n",
       "      <td>None</td>\n",
       "      <td>None</td>\n",
       "    </tr>\n",
       "    <tr>\n",
       "      <th>964</th>\n",
       "      <td>750506206503038976</td>\n",
       "      <td>NaN</td>\n",
       "      <td>NaN</td>\n",
       "      <td>2016-07-06 01:46:38 +0000</td>\n",
       "      <td>&lt;a href=\"http://twitter.com/download/iphone\" r...</td>\n",
       "      <td>This is Malcolm. He's absolutely terrified of ...</td>\n",
       "      <td>NaN</td>\n",
       "      <td>NaN</td>\n",
       "      <td>NaN</td>\n",
       "      <td>https://twitter.com/dog_rates/status/750506206...</td>\n",
       "      <td>8</td>\n",
       "      <td>10</td>\n",
       "      <td>Malcolm</td>\n",
       "      <td>None</td>\n",
       "      <td>None</td>\n",
       "      <td>pupper</td>\n",
       "      <td>None</td>\n",
       "    </tr>\n",
       "    <tr>\n",
       "      <th>58</th>\n",
       "      <td>880935762899988482</td>\n",
       "      <td>NaN</td>\n",
       "      <td>NaN</td>\n",
       "      <td>2017-06-30 23:47:07 +0000</td>\n",
       "      <td>&lt;a href=\"http://twitter.com/download/iphone\" r...</td>\n",
       "      <td>This is Louis. He's crossing. It's a big deal....</td>\n",
       "      <td>NaN</td>\n",
       "      <td>NaN</td>\n",
       "      <td>NaN</td>\n",
       "      <td>https://twitter.com/dog_rates/status/880935762...</td>\n",
       "      <td>13</td>\n",
       "      <td>10</td>\n",
       "      <td>Louis</td>\n",
       "      <td>None</td>\n",
       "      <td>None</td>\n",
       "      <td>None</td>\n",
       "      <td>None</td>\n",
       "    </tr>\n",
       "    <tr>\n",
       "      <th>1603</th>\n",
       "      <td>685943807276412928</td>\n",
       "      <td>NaN</td>\n",
       "      <td>NaN</td>\n",
       "      <td>2016-01-09 21:58:42 +0000</td>\n",
       "      <td>&lt;a href=\"http://twitter.com/download/iphone\" r...</td>\n",
       "      <td>This is the newly formed pupper a capella grou...</td>\n",
       "      <td>NaN</td>\n",
       "      <td>NaN</td>\n",
       "      <td>NaN</td>\n",
       "      <td>https://twitter.com/dog_rates/status/685943807...</td>\n",
       "      <td>8</td>\n",
       "      <td>10</td>\n",
       "      <td>the</td>\n",
       "      <td>None</td>\n",
       "      <td>None</td>\n",
       "      <td>pupper</td>\n",
       "      <td>None</td>\n",
       "    </tr>\n",
       "    <tr>\n",
       "      <th>1001</th>\n",
       "      <td>747933425676525569</td>\n",
       "      <td>NaN</td>\n",
       "      <td>NaN</td>\n",
       "      <td>2016-06-28 23:23:19 +0000</td>\n",
       "      <td>&lt;a href=\"http://twitter.com/download/iphone\" r...</td>\n",
       "      <td>Pls don't send more sherks. I don't care how s...</td>\n",
       "      <td>NaN</td>\n",
       "      <td>NaN</td>\n",
       "      <td>NaN</td>\n",
       "      <td>https://twitter.com/dog_rates/status/747933425...</td>\n",
       "      <td>11</td>\n",
       "      <td>10</td>\n",
       "      <td>None</td>\n",
       "      <td>None</td>\n",
       "      <td>None</td>\n",
       "      <td>None</td>\n",
       "      <td>None</td>\n",
       "    </tr>\n",
       "    <tr>\n",
       "      <th>477</th>\n",
       "      <td>815990720817401858</td>\n",
       "      <td>NaN</td>\n",
       "      <td>NaN</td>\n",
       "      <td>2017-01-02 18:38:42 +0000</td>\n",
       "      <td>&lt;a href=\"http://twitter.com/download/iphone\" r...</td>\n",
       "      <td>Meet Jack. He's one of the rare doggos that do...</td>\n",
       "      <td>NaN</td>\n",
       "      <td>NaN</td>\n",
       "      <td>NaN</td>\n",
       "      <td>https://www.gofundme.com/surgeryforjacktheminp...</td>\n",
       "      <td>11</td>\n",
       "      <td>10</td>\n",
       "      <td>Jack</td>\n",
       "      <td>None</td>\n",
       "      <td>None</td>\n",
       "      <td>None</td>\n",
       "      <td>None</td>\n",
       "    </tr>\n",
       "    <tr>\n",
       "      <th>863</th>\n",
       "      <td>762471784394268675</td>\n",
       "      <td>NaN</td>\n",
       "      <td>NaN</td>\n",
       "      <td>2016-08-08 02:13:34 +0000</td>\n",
       "      <td>&lt;a href=\"http://twitter.com/download/iphone\" r...</td>\n",
       "      <td>Meet Glenn. Being in public scares him. Fright...</td>\n",
       "      <td>NaN</td>\n",
       "      <td>NaN</td>\n",
       "      <td>NaN</td>\n",
       "      <td>https://twitter.com/dog_rates/status/762471784...</td>\n",
       "      <td>12</td>\n",
       "      <td>10</td>\n",
       "      <td>Glenn</td>\n",
       "      <td>None</td>\n",
       "      <td>None</td>\n",
       "      <td>None</td>\n",
       "      <td>None</td>\n",
       "    </tr>\n",
       "    <tr>\n",
       "      <th>715</th>\n",
       "      <td>783839966405230592</td>\n",
       "      <td>NaN</td>\n",
       "      <td>NaN</td>\n",
       "      <td>2016-10-06 01:23:05 +0000</td>\n",
       "      <td>&lt;a href=\"http://twitter.com/download/iphone\" r...</td>\n",
       "      <td>This is Riley. His owner put a donut pillow ar...</td>\n",
       "      <td>NaN</td>\n",
       "      <td>NaN</td>\n",
       "      <td>NaN</td>\n",
       "      <td>https://twitter.com/dog_rates/status/783839966...</td>\n",
       "      <td>13</td>\n",
       "      <td>10</td>\n",
       "      <td>Riley</td>\n",
       "      <td>None</td>\n",
       "      <td>None</td>\n",
       "      <td>None</td>\n",
       "      <td>None</td>\n",
       "    </tr>\n",
       "    <tr>\n",
       "      <th>2287</th>\n",
       "      <td>667177989038297088</td>\n",
       "      <td>NaN</td>\n",
       "      <td>NaN</td>\n",
       "      <td>2015-11-19 03:10:02 +0000</td>\n",
       "      <td>&lt;a href=\"http://twitter.com/download/iphone\" r...</td>\n",
       "      <td>This is a Dasani Kingfisher from Maine. His na...</td>\n",
       "      <td>NaN</td>\n",
       "      <td>NaN</td>\n",
       "      <td>NaN</td>\n",
       "      <td>https://twitter.com/dog_rates/status/667177989...</td>\n",
       "      <td>8</td>\n",
       "      <td>10</td>\n",
       "      <td>a</td>\n",
       "      <td>None</td>\n",
       "      <td>None</td>\n",
       "      <td>None</td>\n",
       "      <td>None</td>\n",
       "    </tr>\n",
       "    <tr>\n",
       "      <th>988</th>\n",
       "      <td>748977405889503236</td>\n",
       "      <td>NaN</td>\n",
       "      <td>NaN</td>\n",
       "      <td>2016-07-01 20:31:43 +0000</td>\n",
       "      <td>&lt;a href=\"http://twitter.com/download/iphone\" r...</td>\n",
       "      <td>What jokester sent in a pic without a dog in i...</td>\n",
       "      <td>NaN</td>\n",
       "      <td>NaN</td>\n",
       "      <td>NaN</td>\n",
       "      <td>https://twitter.com/dog_rates/status/748977405...</td>\n",
       "      <td>10</td>\n",
       "      <td>10</td>\n",
       "      <td>not</td>\n",
       "      <td>None</td>\n",
       "      <td>None</td>\n",
       "      <td>None</td>\n",
       "      <td>None</td>\n",
       "    </tr>\n",
       "    <tr>\n",
       "      <th>231</th>\n",
       "      <td>847971574464610304</td>\n",
       "      <td>NaN</td>\n",
       "      <td>NaN</td>\n",
       "      <td>2017-04-01 00:39:12 +0000</td>\n",
       "      <td>&lt;a href=\"http://twitter.com/download/iphone\" r...</td>\n",
       "      <td>RT @basic_vacek_: I love my new mug easy 13/10...</td>\n",
       "      <td>8.479710e+17</td>\n",
       "      <td>5.970642e+08</td>\n",
       "      <td>2017-04-01 00:36:55 +0000</td>\n",
       "      <td>https://twitter.com/basic_vacek_/status/847971...</td>\n",
       "      <td>13</td>\n",
       "      <td>10</td>\n",
       "      <td>None</td>\n",
       "      <td>None</td>\n",
       "      <td>None</td>\n",
       "      <td>None</td>\n",
       "      <td>None</td>\n",
       "    </tr>\n",
       "    <tr>\n",
       "      <th>809</th>\n",
       "      <td>771500966810099713</td>\n",
       "      <td>NaN</td>\n",
       "      <td>NaN</td>\n",
       "      <td>2016-09-02 00:12:18 +0000</td>\n",
       "      <td>&lt;a href=\"http://twitter.com/download/iphone\" r...</td>\n",
       "      <td>This is Dakota. He's just saying hi. That's al...</td>\n",
       "      <td>NaN</td>\n",
       "      <td>NaN</td>\n",
       "      <td>NaN</td>\n",
       "      <td>https://twitter.com/dog_rates/status/771500966...</td>\n",
       "      <td>12</td>\n",
       "      <td>10</td>\n",
       "      <td>Dakota</td>\n",
       "      <td>None</td>\n",
       "      <td>None</td>\n",
       "      <td>None</td>\n",
       "      <td>None</td>\n",
       "    </tr>\n",
       "    <tr>\n",
       "      <th>2058</th>\n",
       "      <td>671347597085433856</td>\n",
       "      <td>NaN</td>\n",
       "      <td>NaN</td>\n",
       "      <td>2015-11-30 15:18:34 +0000</td>\n",
       "      <td>&lt;a href=\"http://twitter.com/download/iphone\" r...</td>\n",
       "      <td>This is Lola. She was not fully prepared for t...</td>\n",
       "      <td>NaN</td>\n",
       "      <td>NaN</td>\n",
       "      <td>NaN</td>\n",
       "      <td>https://twitter.com/dog_rates/status/671347597...</td>\n",
       "      <td>9</td>\n",
       "      <td>10</td>\n",
       "      <td>Lola</td>\n",
       "      <td>None</td>\n",
       "      <td>None</td>\n",
       "      <td>None</td>\n",
       "      <td>None</td>\n",
       "    </tr>\n",
       "    <tr>\n",
       "      <th>2164</th>\n",
       "      <td>669371483794317312</td>\n",
       "      <td>NaN</td>\n",
       "      <td>NaN</td>\n",
       "      <td>2015-11-25 04:26:12 +0000</td>\n",
       "      <td>&lt;a href=\"http://twitter.com/download/iphone\" r...</td>\n",
       "      <td>This is Oliviér. He's a Baptist Hindquarter. A...</td>\n",
       "      <td>NaN</td>\n",
       "      <td>NaN</td>\n",
       "      <td>NaN</td>\n",
       "      <td>https://twitter.com/dog_rates/status/669371483...</td>\n",
       "      <td>10</td>\n",
       "      <td>10</td>\n",
       "      <td>Oliviér</td>\n",
       "      <td>None</td>\n",
       "      <td>None</td>\n",
       "      <td>None</td>\n",
       "      <td>None</td>\n",
       "    </tr>\n",
       "    <tr>\n",
       "      <th>2275</th>\n",
       "      <td>667453023279554560</td>\n",
       "      <td>NaN</td>\n",
       "      <td>NaN</td>\n",
       "      <td>2015-11-19 21:22:56 +0000</td>\n",
       "      <td>&lt;a href=\"http://twitter.com\" rel=\"nofollow\"&gt;Tw...</td>\n",
       "      <td>Meet Cupcake. I would do unspeakable things fo...</td>\n",
       "      <td>NaN</td>\n",
       "      <td>NaN</td>\n",
       "      <td>NaN</td>\n",
       "      <td>https://twitter.com/dog_rates/status/667453023...</td>\n",
       "      <td>11</td>\n",
       "      <td>10</td>\n",
       "      <td>Cupcake</td>\n",
       "      <td>None</td>\n",
       "      <td>None</td>\n",
       "      <td>None</td>\n",
       "      <td>None</td>\n",
       "    </tr>\n",
       "    <tr>\n",
       "      <th>1963</th>\n",
       "      <td>673352124999274496</td>\n",
       "      <td>NaN</td>\n",
       "      <td>NaN</td>\n",
       "      <td>2015-12-06 04:03:51 +0000</td>\n",
       "      <td>&lt;a href=\"http://twitter.com/download/iphone\" r...</td>\n",
       "      <td>*lets out a tiny screech and then goes into co...</td>\n",
       "      <td>NaN</td>\n",
       "      <td>NaN</td>\n",
       "      <td>NaN</td>\n",
       "      <td>https://twitter.com/dog_rates/status/673352124...</td>\n",
       "      <td>12</td>\n",
       "      <td>10</td>\n",
       "      <td>None</td>\n",
       "      <td>None</td>\n",
       "      <td>None</td>\n",
       "      <td>None</td>\n",
       "      <td>None</td>\n",
       "    </tr>\n",
       "    <tr>\n",
       "      <th>886</th>\n",
       "      <td>759943073749200896</td>\n",
       "      <td>NaN</td>\n",
       "      <td>NaN</td>\n",
       "      <td>2016-08-01 02:45:22 +0000</td>\n",
       "      <td>&lt;a href=\"http://vine.co\" rel=\"nofollow\"&gt;Vine -...</td>\n",
       "      <td>Here's a wicked fast pupper. 12/10 camera coul...</td>\n",
       "      <td>NaN</td>\n",
       "      <td>NaN</td>\n",
       "      <td>NaN</td>\n",
       "      <td>https://vine.co/v/5AJm5pq7Kav</td>\n",
       "      <td>12</td>\n",
       "      <td>10</td>\n",
       "      <td>None</td>\n",
       "      <td>None</td>\n",
       "      <td>None</td>\n",
       "      <td>pupper</td>\n",
       "      <td>None</td>\n",
       "    </tr>\n",
       "    <tr>\n",
       "      <th>2249</th>\n",
       "      <td>667861340749471744</td>\n",
       "      <td>NaN</td>\n",
       "      <td>NaN</td>\n",
       "      <td>2015-11-21 00:25:26 +0000</td>\n",
       "      <td>&lt;a href=\"http://twitter.com/download/iphone\" r...</td>\n",
       "      <td>This is a Shotokon Macadamia mix named Cheryl....</td>\n",
       "      <td>NaN</td>\n",
       "      <td>NaN</td>\n",
       "      <td>NaN</td>\n",
       "      <td>https://twitter.com/dog_rates/status/667861340...</td>\n",
       "      <td>9</td>\n",
       "      <td>10</td>\n",
       "      <td>a</td>\n",
       "      <td>None</td>\n",
       "      <td>None</td>\n",
       "      <td>None</td>\n",
       "      <td>None</td>\n",
       "    </tr>\n",
       "    <tr>\n",
       "      <th>806</th>\n",
       "      <td>772102971039580160</td>\n",
       "      <td>NaN</td>\n",
       "      <td>NaN</td>\n",
       "      <td>2016-09-03 16:04:27 +0000</td>\n",
       "      <td>&lt;a href=\"http://twitter.com/download/iphone\" r...</td>\n",
       "      <td>This is Penny. She's an OU cheerleader. About ...</td>\n",
       "      <td>NaN</td>\n",
       "      <td>NaN</td>\n",
       "      <td>NaN</td>\n",
       "      <td>https://twitter.com/dog_rates/status/772102971...</td>\n",
       "      <td>11</td>\n",
       "      <td>10</td>\n",
       "      <td>Penny</td>\n",
       "      <td>None</td>\n",
       "      <td>None</td>\n",
       "      <td>None</td>\n",
       "      <td>None</td>\n",
       "    </tr>\n",
       "    <tr>\n",
       "      <th>2219</th>\n",
       "      <td>668496999348633600</td>\n",
       "      <td>NaN</td>\n",
       "      <td>NaN</td>\n",
       "      <td>2015-11-22 18:31:19 +0000</td>\n",
       "      <td>&lt;a href=\"http://twitter.com/download/iphone\" r...</td>\n",
       "      <td>This is Jo. Jo is a Swedish Queso. Tongue bigg...</td>\n",
       "      <td>NaN</td>\n",
       "      <td>NaN</td>\n",
       "      <td>NaN</td>\n",
       "      <td>https://twitter.com/dog_rates/status/668496999...</td>\n",
       "      <td>8</td>\n",
       "      <td>10</td>\n",
       "      <td>Jo</td>\n",
       "      <td>None</td>\n",
       "      <td>None</td>\n",
       "      <td>None</td>\n",
       "      <td>None</td>\n",
       "    </tr>\n",
       "    <tr>\n",
       "      <th>1177</th>\n",
       "      <td>719704490224398336</td>\n",
       "      <td>NaN</td>\n",
       "      <td>NaN</td>\n",
       "      <td>2016-04-12 01:51:36 +0000</td>\n",
       "      <td>&lt;a href=\"http://twitter.com/download/iphone\" r...</td>\n",
       "      <td>This is Clyde. He's making sure you're having ...</td>\n",
       "      <td>NaN</td>\n",
       "      <td>NaN</td>\n",
       "      <td>NaN</td>\n",
       "      <td>https://twitter.com/dog_rates/status/719704490...</td>\n",
       "      <td>12</td>\n",
       "      <td>10</td>\n",
       "      <td>Clyde</td>\n",
       "      <td>None</td>\n",
       "      <td>None</td>\n",
       "      <td>pupper</td>\n",
       "      <td>None</td>\n",
       "    </tr>\n",
       "    <tr>\n",
       "      <th>1870</th>\n",
       "      <td>675149409102012420</td>\n",
       "      <td>NaN</td>\n",
       "      <td>NaN</td>\n",
       "      <td>2015-12-11 03:05:37 +0000</td>\n",
       "      <td>&lt;a href=\"http://twitter.com/download/iphone\" r...</td>\n",
       "      <td>holy shit 12/10 https://t.co/p6O8X93bTQ</td>\n",
       "      <td>NaN</td>\n",
       "      <td>NaN</td>\n",
       "      <td>NaN</td>\n",
       "      <td>https://twitter.com/dog_rates/status/675149409...</td>\n",
       "      <td>12</td>\n",
       "      <td>10</td>\n",
       "      <td>None</td>\n",
       "      <td>None</td>\n",
       "      <td>None</td>\n",
       "      <td>None</td>\n",
       "      <td>None</td>\n",
       "    </tr>\n",
       "    <tr>\n",
       "      <th>431</th>\n",
       "      <td>820837357901512704</td>\n",
       "      <td>NaN</td>\n",
       "      <td>NaN</td>\n",
       "      <td>2017-01-16 03:37:31 +0000</td>\n",
       "      <td>&lt;a href=\"http://twitter.com/download/iphone\" r...</td>\n",
       "      <td>RT @dog_rates: This is Finn. He's wondering if...</td>\n",
       "      <td>8.192277e+17</td>\n",
       "      <td>4.196984e+09</td>\n",
       "      <td>2017-01-11 17:01:16 +0000</td>\n",
       "      <td>https://twitter.com/dog_rates/status/819227688...</td>\n",
       "      <td>12</td>\n",
       "      <td>10</td>\n",
       "      <td>Finn</td>\n",
       "      <td>None</td>\n",
       "      <td>None</td>\n",
       "      <td>None</td>\n",
       "      <td>None</td>\n",
       "    </tr>\n",
       "    <tr>\n",
       "      <th>472</th>\n",
       "      <td>816450570814898180</td>\n",
       "      <td>NaN</td>\n",
       "      <td>NaN</td>\n",
       "      <td>2017-01-04 01:05:59 +0000</td>\n",
       "      <td>&lt;a href=\"http://twitter.com/download/iphone\" r...</td>\n",
       "      <td>Meet Moose. He doesn't want his friend to go b...</td>\n",
       "      <td>NaN</td>\n",
       "      <td>NaN</td>\n",
       "      <td>NaN</td>\n",
       "      <td>https://twitter.com/dog_rates/status/816450570...</td>\n",
       "      <td>13</td>\n",
       "      <td>10</td>\n",
       "      <td>Moose</td>\n",
       "      <td>None</td>\n",
       "      <td>None</td>\n",
       "      <td>None</td>\n",
       "      <td>None</td>\n",
       "    </tr>\n",
       "    <tr>\n",
       "      <th>1331</th>\n",
       "      <td>705591895322394625</td>\n",
       "      <td>NaN</td>\n",
       "      <td>NaN</td>\n",
       "      <td>2016-03-04 03:13:11 +0000</td>\n",
       "      <td>&lt;a href=\"http://twitter.com/download/iphone\" r...</td>\n",
       "      <td>\"Ma'am, for the last time, I'm not authorized ...</td>\n",
       "      <td>NaN</td>\n",
       "      <td>NaN</td>\n",
       "      <td>NaN</td>\n",
       "      <td>https://twitter.com/dog_rates/status/705591895...</td>\n",
       "      <td>11</td>\n",
       "      <td>10</td>\n",
       "      <td>None</td>\n",
       "      <td>None</td>\n",
       "      <td>None</td>\n",
       "      <td>None</td>\n",
       "      <td>None</td>\n",
       "    </tr>\n",
       "    <tr>\n",
       "      <th>801</th>\n",
       "      <td>772581559778025472</td>\n",
       "      <td>NaN</td>\n",
       "      <td>NaN</td>\n",
       "      <td>2016-09-04 23:46:12 +0000</td>\n",
       "      <td>&lt;a href=\"http://twitter.com/download/iphone\" r...</td>\n",
       "      <td>Guys this is getting so out of hand. We only r...</td>\n",
       "      <td>NaN</td>\n",
       "      <td>NaN</td>\n",
       "      <td>NaN</td>\n",
       "      <td>https://twitter.com/dog_rates/status/772581559...</td>\n",
       "      <td>10</td>\n",
       "      <td>10</td>\n",
       "      <td>a</td>\n",
       "      <td>None</td>\n",
       "      <td>None</td>\n",
       "      <td>None</td>\n",
       "      <td>None</td>\n",
       "    </tr>\n",
       "    <tr>\n",
       "      <th>955</th>\n",
       "      <td>751598357617971201</td>\n",
       "      <td>NaN</td>\n",
       "      <td>NaN</td>\n",
       "      <td>2016-07-09 02:06:27 +0000</td>\n",
       "      <td>&lt;a href=\"http://twitter.com/download/iphone\" r...</td>\n",
       "      <td>This is Toby. A cat got his tongue. 13/10 ador...</td>\n",
       "      <td>NaN</td>\n",
       "      <td>NaN</td>\n",
       "      <td>NaN</td>\n",
       "      <td>https://twitter.com/dog_rates/status/751598357...</td>\n",
       "      <td>13</td>\n",
       "      <td>10</td>\n",
       "      <td>Toby</td>\n",
       "      <td>None</td>\n",
       "      <td>None</td>\n",
       "      <td>None</td>\n",
       "      <td>None</td>\n",
       "    </tr>\n",
       "    <tr>\n",
       "      <th>1531</th>\n",
       "      <td>690015576308211712</td>\n",
       "      <td>NaN</td>\n",
       "      <td>NaN</td>\n",
       "      <td>2016-01-21 03:38:27 +0000</td>\n",
       "      <td>&lt;a href=\"http://twitter.com/download/iphone\" r...</td>\n",
       "      <td>This pupper can only sleep on shoes. It's a cr...</td>\n",
       "      <td>NaN</td>\n",
       "      <td>NaN</td>\n",
       "      <td>NaN</td>\n",
       "      <td>https://twitter.com/dog_rates/status/690015576...</td>\n",
       "      <td>12</td>\n",
       "      <td>10</td>\n",
       "      <td>None</td>\n",
       "      <td>None</td>\n",
       "      <td>None</td>\n",
       "      <td>pupper</td>\n",
       "      <td>None</td>\n",
       "    </tr>\n",
       "    <tr>\n",
       "      <th>456</th>\n",
       "      <td>818259473185828864</td>\n",
       "      <td>NaN</td>\n",
       "      <td>NaN</td>\n",
       "      <td>2017-01-09 00:53:55 +0000</td>\n",
       "      <td>&lt;a href=\"http://twitter.com/download/iphone\" r...</td>\n",
       "      <td>This is Florence. He saw the same snap you sen...</td>\n",
       "      <td>NaN</td>\n",
       "      <td>NaN</td>\n",
       "      <td>NaN</td>\n",
       "      <td>https://twitter.com/dog_rates/status/818259473...</td>\n",
       "      <td>12</td>\n",
       "      <td>10</td>\n",
       "      <td>Florence</td>\n",
       "      <td>None</td>\n",
       "      <td>None</td>\n",
       "      <td>None</td>\n",
       "      <td>None</td>\n",
       "    </tr>\n",
       "    <tr>\n",
       "      <th>1818</th>\n",
       "      <td>676593408224403456</td>\n",
       "      <td>NaN</td>\n",
       "      <td>NaN</td>\n",
       "      <td>2015-12-15 02:43:33 +0000</td>\n",
       "      <td>&lt;a href=\"http://vine.co\" rel=\"nofollow\"&gt;Vine -...</td>\n",
       "      <td>This pupper loves leaves. 11/10 for committed ...</td>\n",
       "      <td>NaN</td>\n",
       "      <td>NaN</td>\n",
       "      <td>NaN</td>\n",
       "      <td>https://vine.co/v/eEQQaPFbgOY</td>\n",
       "      <td>11</td>\n",
       "      <td>10</td>\n",
       "      <td>None</td>\n",
       "      <td>None</td>\n",
       "      <td>None</td>\n",
       "      <td>pupper</td>\n",
       "      <td>None</td>\n",
       "    </tr>\n",
       "    <tr>\n",
       "      <th>856</th>\n",
       "      <td>764259802650378240</td>\n",
       "      <td>NaN</td>\n",
       "      <td>NaN</td>\n",
       "      <td>2016-08-13 00:38:30 +0000</td>\n",
       "      <td>&lt;a href=\"http://twitter.com/download/iphone\" r...</td>\n",
       "      <td>This is Kota and her son Benedict. She doesn't...</td>\n",
       "      <td>NaN</td>\n",
       "      <td>NaN</td>\n",
       "      <td>NaN</td>\n",
       "      <td>https://twitter.com/dog_rates/status/764259802...</td>\n",
       "      <td>10</td>\n",
       "      <td>10</td>\n",
       "      <td>Kota</td>\n",
       "      <td>None</td>\n",
       "      <td>None</td>\n",
       "      <td>None</td>\n",
       "      <td>None</td>\n",
       "    </tr>\n",
       "    <tr>\n",
       "      <th>1685</th>\n",
       "      <td>681654059175129088</td>\n",
       "      <td>NaN</td>\n",
       "      <td>NaN</td>\n",
       "      <td>2015-12-29 01:52:46 +0000</td>\n",
       "      <td>&lt;a href=\"http://twitter.com/download/iphone\" r...</td>\n",
       "      <td>This is Toffee. He's a happy pupper. Appears d...</td>\n",
       "      <td>NaN</td>\n",
       "      <td>NaN</td>\n",
       "      <td>NaN</td>\n",
       "      <td>https://twitter.com/dog_rates/status/681654059...</td>\n",
       "      <td>12</td>\n",
       "      <td>10</td>\n",
       "      <td>Toffee</td>\n",
       "      <td>None</td>\n",
       "      <td>None</td>\n",
       "      <td>pupper</td>\n",
       "      <td>None</td>\n",
       "    </tr>\n",
       "  </tbody>\n",
       "</table>\n",
       "</div>"
      ],
      "text/plain": [
       "                tweet_id  in_reply_to_status_id  in_reply_to_user_id  \\\n",
       "46    883360690899218434                    NaN                  NaN   \n",
       "1334  705428427625635840                    NaN                  NaN   \n",
       "762   778039087836069888                    NaN                  NaN   \n",
       "1619  684959798585110529                    NaN                  NaN   \n",
       "2267  667524857454854144                    NaN                  NaN   \n",
       "299   836989968035819520                    NaN                  NaN   \n",
       "1901  674646392044941312                    NaN                  NaN   \n",
       "1411  698989035503689728                    NaN                  NaN   \n",
       "1713  680473011644985345                    NaN                  NaN   \n",
       "1648  683773439333797890                    NaN                  NaN   \n",
       "876   761004547850530816                    NaN                  NaN   \n",
       "2168  669354382627049472                    NaN                  NaN   \n",
       "1653  683462770029932544                    NaN                  NaN   \n",
       "325   833863086058651648                    NaN                  NaN   \n",
       "605   798576900688019456                    NaN                  NaN   \n",
       "749   779124354206535695                    NaN                  NaN   \n",
       "2180  669000397445533696                    NaN                  NaN   \n",
       "1098  736010884653420544                    NaN                  NaN   \n",
       "221   849776966551130114                    NaN                  NaN   \n",
       "964   750506206503038976                    NaN                  NaN   \n",
       "58    880935762899988482                    NaN                  NaN   \n",
       "1603  685943807276412928                    NaN                  NaN   \n",
       "1001  747933425676525569                    NaN                  NaN   \n",
       "477   815990720817401858                    NaN                  NaN   \n",
       "863   762471784394268675                    NaN                  NaN   \n",
       "715   783839966405230592                    NaN                  NaN   \n",
       "2287  667177989038297088                    NaN                  NaN   \n",
       "988   748977405889503236                    NaN                  NaN   \n",
       "231   847971574464610304                    NaN                  NaN   \n",
       "809   771500966810099713                    NaN                  NaN   \n",
       "2058  671347597085433856                    NaN                  NaN   \n",
       "2164  669371483794317312                    NaN                  NaN   \n",
       "2275  667453023279554560                    NaN                  NaN   \n",
       "1963  673352124999274496                    NaN                  NaN   \n",
       "886   759943073749200896                    NaN                  NaN   \n",
       "2249  667861340749471744                    NaN                  NaN   \n",
       "806   772102971039580160                    NaN                  NaN   \n",
       "2219  668496999348633600                    NaN                  NaN   \n",
       "1177  719704490224398336                    NaN                  NaN   \n",
       "1870  675149409102012420                    NaN                  NaN   \n",
       "431   820837357901512704                    NaN                  NaN   \n",
       "472   816450570814898180                    NaN                  NaN   \n",
       "1331  705591895322394625                    NaN                  NaN   \n",
       "801   772581559778025472                    NaN                  NaN   \n",
       "955   751598357617971201                    NaN                  NaN   \n",
       "1531  690015576308211712                    NaN                  NaN   \n",
       "456   818259473185828864                    NaN                  NaN   \n",
       "1818  676593408224403456                    NaN                  NaN   \n",
       "856   764259802650378240                    NaN                  NaN   \n",
       "1685  681654059175129088                    NaN                  NaN   \n",
       "\n",
       "                      timestamp  \\\n",
       "46    2017-07-07 16:22:55 +0000   \n",
       "1334  2016-03-03 16:23:38 +0000   \n",
       "762   2016-09-20 01:12:28 +0000   \n",
       "1619  2016-01-07 04:48:36 +0000   \n",
       "2267  2015-11-20 02:08:22 +0000   \n",
       "299   2017-03-01 17:22:13 +0000   \n",
       "1901  2015-12-09 17:46:48 +0000   \n",
       "1411  2016-02-14 21:55:47 +0000   \n",
       "1713  2015-12-25 19:39:43 +0000   \n",
       "1648  2016-01-03 22:14:26 +0000   \n",
       "876   2016-08-04 01:03:17 +0000   \n",
       "2168  2015-11-25 03:18:15 +0000   \n",
       "1653  2016-01-03 01:39:57 +0000   \n",
       "325   2017-02-21 02:17:06 +0000   \n",
       "605   2016-11-15 17:22:24 +0000   \n",
       "749   2016-09-23 01:04:56 +0000   \n",
       "2180  2015-11-24 03:51:38 +0000   \n",
       "1098  2016-05-27 01:47:23 +0000   \n",
       "221   2017-04-06 00:13:11 +0000   \n",
       "964   2016-07-06 01:46:38 +0000   \n",
       "58    2017-06-30 23:47:07 +0000   \n",
       "1603  2016-01-09 21:58:42 +0000   \n",
       "1001  2016-06-28 23:23:19 +0000   \n",
       "477   2017-01-02 18:38:42 +0000   \n",
       "863   2016-08-08 02:13:34 +0000   \n",
       "715   2016-10-06 01:23:05 +0000   \n",
       "2287  2015-11-19 03:10:02 +0000   \n",
       "988   2016-07-01 20:31:43 +0000   \n",
       "231   2017-04-01 00:39:12 +0000   \n",
       "809   2016-09-02 00:12:18 +0000   \n",
       "2058  2015-11-30 15:18:34 +0000   \n",
       "2164  2015-11-25 04:26:12 +0000   \n",
       "2275  2015-11-19 21:22:56 +0000   \n",
       "1963  2015-12-06 04:03:51 +0000   \n",
       "886   2016-08-01 02:45:22 +0000   \n",
       "2249  2015-11-21 00:25:26 +0000   \n",
       "806   2016-09-03 16:04:27 +0000   \n",
       "2219  2015-11-22 18:31:19 +0000   \n",
       "1177  2016-04-12 01:51:36 +0000   \n",
       "1870  2015-12-11 03:05:37 +0000   \n",
       "431   2017-01-16 03:37:31 +0000   \n",
       "472   2017-01-04 01:05:59 +0000   \n",
       "1331  2016-03-04 03:13:11 +0000   \n",
       "801   2016-09-04 23:46:12 +0000   \n",
       "955   2016-07-09 02:06:27 +0000   \n",
       "1531  2016-01-21 03:38:27 +0000   \n",
       "456   2017-01-09 00:53:55 +0000   \n",
       "1818  2015-12-15 02:43:33 +0000   \n",
       "856   2016-08-13 00:38:30 +0000   \n",
       "1685  2015-12-29 01:52:46 +0000   \n",
       "\n",
       "                                                 source  \\\n",
       "46    <a href=\"http://twitter.com/download/iphone\" r...   \n",
       "1334  <a href=\"http://twitter.com/download/iphone\" r...   \n",
       "762   <a href=\"http://twitter.com/download/iphone\" r...   \n",
       "1619  <a href=\"http://twitter.com/download/iphone\" r...   \n",
       "2267  <a href=\"http://twitter.com\" rel=\"nofollow\">Tw...   \n",
       "299   <a href=\"http://twitter.com/download/iphone\" r...   \n",
       "1901  <a href=\"http://twitter.com/download/iphone\" r...   \n",
       "1411  <a href=\"http://twitter.com/download/iphone\" r...   \n",
       "1713  <a href=\"http://twitter.com/download/iphone\" r...   \n",
       "1648  <a href=\"http://twitter.com/download/iphone\" r...   \n",
       "876   <a href=\"http://twitter.com/download/iphone\" r...   \n",
       "2168  <a href=\"http://twitter.com/download/iphone\" r...   \n",
       "1653  <a href=\"http://twitter.com/download/iphone\" r...   \n",
       "325   <a href=\"http://twitter.com/download/iphone\" r...   \n",
       "605   <a href=\"http://twitter.com/download/iphone\" r...   \n",
       "749   <a href=\"http://twitter.com/download/iphone\" r...   \n",
       "2180  <a href=\"http://twitter.com/download/iphone\" r...   \n",
       "1098  <a href=\"http://twitter.com/download/iphone\" r...   \n",
       "221   <a href=\"http://twitter.com/download/iphone\" r...   \n",
       "964   <a href=\"http://twitter.com/download/iphone\" r...   \n",
       "58    <a href=\"http://twitter.com/download/iphone\" r...   \n",
       "1603  <a href=\"http://twitter.com/download/iphone\" r...   \n",
       "1001  <a href=\"http://twitter.com/download/iphone\" r...   \n",
       "477   <a href=\"http://twitter.com/download/iphone\" r...   \n",
       "863   <a href=\"http://twitter.com/download/iphone\" r...   \n",
       "715   <a href=\"http://twitter.com/download/iphone\" r...   \n",
       "2287  <a href=\"http://twitter.com/download/iphone\" r...   \n",
       "988   <a href=\"http://twitter.com/download/iphone\" r...   \n",
       "231   <a href=\"http://twitter.com/download/iphone\" r...   \n",
       "809   <a href=\"http://twitter.com/download/iphone\" r...   \n",
       "2058  <a href=\"http://twitter.com/download/iphone\" r...   \n",
       "2164  <a href=\"http://twitter.com/download/iphone\" r...   \n",
       "2275  <a href=\"http://twitter.com\" rel=\"nofollow\">Tw...   \n",
       "1963  <a href=\"http://twitter.com/download/iphone\" r...   \n",
       "886   <a href=\"http://vine.co\" rel=\"nofollow\">Vine -...   \n",
       "2249  <a href=\"http://twitter.com/download/iphone\" r...   \n",
       "806   <a href=\"http://twitter.com/download/iphone\" r...   \n",
       "2219  <a href=\"http://twitter.com/download/iphone\" r...   \n",
       "1177  <a href=\"http://twitter.com/download/iphone\" r...   \n",
       "1870  <a href=\"http://twitter.com/download/iphone\" r...   \n",
       "431   <a href=\"http://twitter.com/download/iphone\" r...   \n",
       "472   <a href=\"http://twitter.com/download/iphone\" r...   \n",
       "1331  <a href=\"http://twitter.com/download/iphone\" r...   \n",
       "801   <a href=\"http://twitter.com/download/iphone\" r...   \n",
       "955   <a href=\"http://twitter.com/download/iphone\" r...   \n",
       "1531  <a href=\"http://twitter.com/download/iphone\" r...   \n",
       "456   <a href=\"http://twitter.com/download/iphone\" r...   \n",
       "1818  <a href=\"http://vine.co\" rel=\"nofollow\">Vine -...   \n",
       "856   <a href=\"http://twitter.com/download/iphone\" r...   \n",
       "1685  <a href=\"http://twitter.com/download/iphone\" r...   \n",
       "\n",
       "                                                   text  retweeted_status_id  \\\n",
       "46    Meet Grizzwald. He may be the floofiest floofe...                  NaN   \n",
       "1334  This is Ambrose. He's an Alfalfa Ballyhoo. Dra...                  NaN   \n",
       "762   Evolution of a pupper yawn featuring Max. 12/1...                  NaN   \n",
       "1619  This is Jerry. He's a neat dog. No legs (tragi...                  NaN   \n",
       "2267  Another topnotch dog. His name is Big Jumpy Ra...                  NaN   \n",
       "299   This is Mookie. He really enjoys shopping but ...                  NaN   \n",
       "1901  Two gorgeous dogs here. Little waddling dog is...                  NaN   \n",
       "1411  This is Oliver. He does toe touches in his sle...                  NaN   \n",
       "1713  This is Hector. He thinks he's a hammer. Silly...                  NaN   \n",
       "1648  This is Buddy. He's gaining strength. Currentl...                  NaN   \n",
       "876   This is Bo and Ty. Bo eats paper and Ty felt l...                  NaN   \n",
       "2168  Meet Dug. Dug fucken loves peaches. 8/10 https...                  NaN   \n",
       "1653  \"Hello forest pupper I am house pupper welcome...                  NaN   \n",
       "325   This is Bentley. Hairbrushes are his favorite ...                  NaN   \n",
       "605   RT @dog_rates: Not familiar with this breed. N...         6.661041e+17   \n",
       "749   RT @dog_rates: Meet Hurley. He's the curly one...         6.794628e+17   \n",
       "2180  Meet Terrance. He's being yelled at because he...                  NaN   \n",
       "1098  Right after you graduate vs when you remember ...                  NaN   \n",
       "221   Seriously guys? Again? We only rate dogs. Plea...                  NaN   \n",
       "964   This is Malcolm. He's absolutely terrified of ...                  NaN   \n",
       "58    This is Louis. He's crossing. It's a big deal....                  NaN   \n",
       "1603  This is the newly formed pupper a capella grou...                  NaN   \n",
       "1001  Pls don't send more sherks. I don't care how s...                  NaN   \n",
       "477   Meet Jack. He's one of the rare doggos that do...                  NaN   \n",
       "863   Meet Glenn. Being in public scares him. Fright...                  NaN   \n",
       "715   This is Riley. His owner put a donut pillow ar...                  NaN   \n",
       "2287  This is a Dasani Kingfisher from Maine. His na...                  NaN   \n",
       "988   What jokester sent in a pic without a dog in i...                  NaN   \n",
       "231   RT @basic_vacek_: I love my new mug easy 13/10...         8.479710e+17   \n",
       "809   This is Dakota. He's just saying hi. That's al...                  NaN   \n",
       "2058  This is Lola. She was not fully prepared for t...                  NaN   \n",
       "2164  This is Oliviér. He's a Baptist Hindquarter. A...                  NaN   \n",
       "2275  Meet Cupcake. I would do unspeakable things fo...                  NaN   \n",
       "1963  *lets out a tiny screech and then goes into co...                  NaN   \n",
       "886   Here's a wicked fast pupper. 12/10 camera coul...                  NaN   \n",
       "2249  This is a Shotokon Macadamia mix named Cheryl....                  NaN   \n",
       "806   This is Penny. She's an OU cheerleader. About ...                  NaN   \n",
       "2219  This is Jo. Jo is a Swedish Queso. Tongue bigg...                  NaN   \n",
       "1177  This is Clyde. He's making sure you're having ...                  NaN   \n",
       "1870            holy shit 12/10 https://t.co/p6O8X93bTQ                  NaN   \n",
       "431   RT @dog_rates: This is Finn. He's wondering if...         8.192277e+17   \n",
       "472   Meet Moose. He doesn't want his friend to go b...                  NaN   \n",
       "1331  \"Ma'am, for the last time, I'm not authorized ...                  NaN   \n",
       "801   Guys this is getting so out of hand. We only r...                  NaN   \n",
       "955   This is Toby. A cat got his tongue. 13/10 ador...                  NaN   \n",
       "1531  This pupper can only sleep on shoes. It's a cr...                  NaN   \n",
       "456   This is Florence. He saw the same snap you sen...                  NaN   \n",
       "1818  This pupper loves leaves. 11/10 for committed ...                  NaN   \n",
       "856   This is Kota and her son Benedict. She doesn't...                  NaN   \n",
       "1685  This is Toffee. He's a happy pupper. Appears d...                  NaN   \n",
       "\n",
       "      retweeted_status_user_id retweeted_status_timestamp  \\\n",
       "46                         NaN                        NaN   \n",
       "1334                       NaN                        NaN   \n",
       "762                        NaN                        NaN   \n",
       "1619                       NaN                        NaN   \n",
       "2267                       NaN                        NaN   \n",
       "299                        NaN                        NaN   \n",
       "1901                       NaN                        NaN   \n",
       "1411                       NaN                        NaN   \n",
       "1713                       NaN                        NaN   \n",
       "1648                       NaN                        NaN   \n",
       "876                        NaN                        NaN   \n",
       "2168                       NaN                        NaN   \n",
       "1653                       NaN                        NaN   \n",
       "325                        NaN                        NaN   \n",
       "605               4.196984e+09  2015-11-16 04:02:55 +0000   \n",
       "749               4.196984e+09  2015-12-23 00:45:35 +0000   \n",
       "2180                       NaN                        NaN   \n",
       "1098                       NaN                        NaN   \n",
       "221                        NaN                        NaN   \n",
       "964                        NaN                        NaN   \n",
       "58                         NaN                        NaN   \n",
       "1603                       NaN                        NaN   \n",
       "1001                       NaN                        NaN   \n",
       "477                        NaN                        NaN   \n",
       "863                        NaN                        NaN   \n",
       "715                        NaN                        NaN   \n",
       "2287                       NaN                        NaN   \n",
       "988                        NaN                        NaN   \n",
       "231               5.970642e+08  2017-04-01 00:36:55 +0000   \n",
       "809                        NaN                        NaN   \n",
       "2058                       NaN                        NaN   \n",
       "2164                       NaN                        NaN   \n",
       "2275                       NaN                        NaN   \n",
       "1963                       NaN                        NaN   \n",
       "886                        NaN                        NaN   \n",
       "2249                       NaN                        NaN   \n",
       "806                        NaN                        NaN   \n",
       "2219                       NaN                        NaN   \n",
       "1177                       NaN                        NaN   \n",
       "1870                       NaN                        NaN   \n",
       "431               4.196984e+09  2017-01-11 17:01:16 +0000   \n",
       "472                        NaN                        NaN   \n",
       "1331                       NaN                        NaN   \n",
       "801                        NaN                        NaN   \n",
       "955                        NaN                        NaN   \n",
       "1531                       NaN                        NaN   \n",
       "456                        NaN                        NaN   \n",
       "1818                       NaN                        NaN   \n",
       "856                        NaN                        NaN   \n",
       "1685                       NaN                        NaN   \n",
       "\n",
       "                                          expanded_urls  rating_numerator  \\\n",
       "46    https://twitter.com/dog_rates/status/883360690...                13   \n",
       "1334  https://twitter.com/dog_rates/status/705428427...                11   \n",
       "762   https://twitter.com/dog_rates/status/778039087...                12   \n",
       "1619  https://twitter.com/dog_rates/status/684959798...                 5   \n",
       "2267  https://twitter.com/dog_rates/status/667524857...                12   \n",
       "299   https://twitter.com/dog_rates/status/836989968...                12   \n",
       "1901  https://twitter.com/dog_rates/status/674646392...                 5   \n",
       "1411  https://twitter.com/dog_rates/status/698989035...                13   \n",
       "1713  https://twitter.com/dog_rates/status/680473011...                10   \n",
       "1648  https://twitter.com/dog_rates/status/683773439...                 9   \n",
       "876   https://twitter.com/dog_rates/status/761004547...                11   \n",
       "2168  https://twitter.com/dog_rates/status/669354382...                 8   \n",
       "1653  https://twitter.com/dog_rates/status/683462770...                 8   \n",
       "325   https://twitter.com/dog_rates/status/833863086...                12   \n",
       "605   https://twitter.com/dog_rates/status/666104133...                 1   \n",
       "749   https://twitter.com/dog_rates/status/679462823...                11   \n",
       "2180  https://twitter.com/dog_rates/status/669000397...                11   \n",
       "1098  https://twitter.com/dog_rates/status/736010884...                10   \n",
       "221   https://twitter.com/dog_rates/status/849776966...                12   \n",
       "964   https://twitter.com/dog_rates/status/750506206...                 8   \n",
       "58    https://twitter.com/dog_rates/status/880935762...                13   \n",
       "1603  https://twitter.com/dog_rates/status/685943807...                 8   \n",
       "1001  https://twitter.com/dog_rates/status/747933425...                11   \n",
       "477   https://www.gofundme.com/surgeryforjacktheminp...                11   \n",
       "863   https://twitter.com/dog_rates/status/762471784...                12   \n",
       "715   https://twitter.com/dog_rates/status/783839966...                13   \n",
       "2287  https://twitter.com/dog_rates/status/667177989...                 8   \n",
       "988   https://twitter.com/dog_rates/status/748977405...                10   \n",
       "231   https://twitter.com/basic_vacek_/status/847971...                13   \n",
       "809   https://twitter.com/dog_rates/status/771500966...                12   \n",
       "2058  https://twitter.com/dog_rates/status/671347597...                 9   \n",
       "2164  https://twitter.com/dog_rates/status/669371483...                10   \n",
       "2275  https://twitter.com/dog_rates/status/667453023...                11   \n",
       "1963  https://twitter.com/dog_rates/status/673352124...                12   \n",
       "886                       https://vine.co/v/5AJm5pq7Kav                12   \n",
       "2249  https://twitter.com/dog_rates/status/667861340...                 9   \n",
       "806   https://twitter.com/dog_rates/status/772102971...                11   \n",
       "2219  https://twitter.com/dog_rates/status/668496999...                 8   \n",
       "1177  https://twitter.com/dog_rates/status/719704490...                12   \n",
       "1870  https://twitter.com/dog_rates/status/675149409...                12   \n",
       "431   https://twitter.com/dog_rates/status/819227688...                12   \n",
       "472   https://twitter.com/dog_rates/status/816450570...                13   \n",
       "1331  https://twitter.com/dog_rates/status/705591895...                11   \n",
       "801   https://twitter.com/dog_rates/status/772581559...                10   \n",
       "955   https://twitter.com/dog_rates/status/751598357...                13   \n",
       "1531  https://twitter.com/dog_rates/status/690015576...                12   \n",
       "456   https://twitter.com/dog_rates/status/818259473...                12   \n",
       "1818                      https://vine.co/v/eEQQaPFbgOY                11   \n",
       "856   https://twitter.com/dog_rates/status/764259802...                10   \n",
       "1685  https://twitter.com/dog_rates/status/681654059...                12   \n",
       "\n",
       "      rating_denominator       name doggo  floofer  pupper puppo  \n",
       "46                    10  Grizzwald  None  floofer    None  None  \n",
       "1334                  10    Ambrose  None     None  pupper  None  \n",
       "762                   10       None  None     None  pupper  None  \n",
       "1619                  10      Jerry  None     None    None  None  \n",
       "2267                  10       None  None     None    None  None  \n",
       "299                   10     Mookie  None     None    None  None  \n",
       "1901                  10       None  None     None    None  None  \n",
       "1411                  10     Oliver  None     None    None  None  \n",
       "1713                  10     Hector  None     None  pupper  None  \n",
       "1648                  10      Buddy  None     None    None  None  \n",
       "876                   10         Bo  None     None    None  None  \n",
       "2168                  10        Dug  None     None    None  None  \n",
       "1653                  10       None  None     None  pupper  None  \n",
       "325                   10    Bentley  None     None    None  None  \n",
       "605                   10       None  None     None    None  None  \n",
       "749                   10     Hurley  None     None    None  None  \n",
       "2180                  10   Terrance  None     None    None  None  \n",
       "1098                  10       None  None     None    None  None  \n",
       "221                   10       None  None     None    None  None  \n",
       "964                   10    Malcolm  None     None  pupper  None  \n",
       "58                    10      Louis  None     None    None  None  \n",
       "1603                  10        the  None     None  pupper  None  \n",
       "1001                  10       None  None     None    None  None  \n",
       "477                   10       Jack  None     None    None  None  \n",
       "863                   10      Glenn  None     None    None  None  \n",
       "715                   10      Riley  None     None    None  None  \n",
       "2287                  10          a  None     None    None  None  \n",
       "988                   10        not  None     None    None  None  \n",
       "231                   10       None  None     None    None  None  \n",
       "809                   10     Dakota  None     None    None  None  \n",
       "2058                  10       Lola  None     None    None  None  \n",
       "2164                  10    Oliviér  None     None    None  None  \n",
       "2275                  10    Cupcake  None     None    None  None  \n",
       "1963                  10       None  None     None    None  None  \n",
       "886                   10       None  None     None  pupper  None  \n",
       "2249                  10          a  None     None    None  None  \n",
       "806                   10      Penny  None     None    None  None  \n",
       "2219                  10         Jo  None     None    None  None  \n",
       "1177                  10      Clyde  None     None  pupper  None  \n",
       "1870                  10       None  None     None    None  None  \n",
       "431                   10       Finn  None     None    None  None  \n",
       "472                   10      Moose  None     None    None  None  \n",
       "1331                  10       None  None     None    None  None  \n",
       "801                   10          a  None     None    None  None  \n",
       "955                   10       Toby  None     None    None  None  \n",
       "1531                  10       None  None     None  pupper  None  \n",
       "456                   10   Florence  None     None    None  None  \n",
       "1818                  10       None  None     None  pupper  None  \n",
       "856                   10       Kota  None     None    None  None  \n",
       "1685                  10     Toffee  None     None  pupper  None  "
      ]
     },
     "execution_count": 113,
     "metadata": {},
     "output_type": "execute_result"
    }
   ],
   "source": [
    "twitter_df.sample(50)"
   ]
  },
  {
   "cell_type": "code",
   "execution_count": 206,
   "metadata": {
    "scrolled": false
   },
   "outputs": [
    {
     "name": "stdout",
     "output_type": "stream",
     "text": [
      "<class 'pandas.core.frame.DataFrame'>\n",
      "RangeIndex: 2327 entries, 0 to 2326\n",
      "Data columns (total 6 columns):\n",
      " #   Column            Non-Null Count  Dtype \n",
      "---  ------            --------------  ----- \n",
      " 0   tweet_id          2327 non-null   int64 \n",
      " 1   favorited         2327 non-null   bool  \n",
      " 2   favorite_count    2327 non-null   int64 \n",
      " 3   retweeted         2327 non-null   bool  \n",
      " 4   retweet_count     2327 non-null   int64 \n",
      " 5   retweeted_status  163 non-null    object\n",
      "dtypes: bool(2), int64(3), object(1)\n",
      "memory usage: 77.4+ KB\n"
     ]
    }
   ],
   "source": [
    "twitter2.info()"
   ]
  },
  {
   "cell_type": "code",
   "execution_count": 38,
   "metadata": {},
   "outputs": [
    {
     "name": "stdout",
     "output_type": "stream",
     "text": [
      "<class 'pandas.core.frame.DataFrame'>\n",
      "RangeIndex: 2075 entries, 0 to 2074\n",
      "Data columns (total 12 columns):\n",
      " #   Column    Non-Null Count  Dtype  \n",
      "---  ------    --------------  -----  \n",
      " 0   tweet_id  2075 non-null   int64  \n",
      " 1   jpg_url   2075 non-null   object \n",
      " 2   img_num   2075 non-null   int64  \n",
      " 3   p1        2075 non-null   object \n",
      " 4   p1_conf   2075 non-null   float64\n",
      " 5   p1_dog    2075 non-null   bool   \n",
      " 6   p2        2075 non-null   object \n",
      " 7   p2_conf   2075 non-null   float64\n",
      " 8   p2_dog    2075 non-null   bool   \n",
      " 9   p3        2075 non-null   object \n",
      " 10  p3_conf   2075 non-null   float64\n",
      " 11  p3_dog    2075 non-null   bool   \n",
      "dtypes: bool(3), float64(3), int64(2), object(4)\n",
      "memory usage: 152.1+ KB\n"
     ]
    }
   ],
   "source": [
    "image_prediction.info()"
   ]
  },
  {
   "cell_type": "markdown",
   "metadata": {},
   "source": [
    "#### twitter archive data\n",
    "* need to clean the retweets data as we only want the original tweets\n",
    "* has quite a few unnecessary columns, should be dropped for data readability; in_reply_to_status_id, in_reply_to_user_id, retweeted_status_id, retweeted_status_user_id should be should be dropped\n",
    "* timestamp, retweeted_status_timestamp should be datetime instead of objects\n",
    "* in several columns null objects are not null (NAN instead of None)\n",
    "* name column has inconsistent values such as 'None', 'a', 'an', not', 'this', 'the', 'one', 'my', 'mad', 'all', 'quite', 'by'\n",
    "* rating_numerator, rating_denominator have inconsistent values, denominator should be standardized with a value of 10\n",
    "* contents of 'source' column should be in a more readable format to display only the source\n",
    "* there are 5 numerator ratings that have extremely high values (>14 out of 10) which will skew the data; The rows containing these values should be dropped."
   ]
  },
  {
   "cell_type": "markdown",
   "metadata": {},
   "source": [
    "#### image prediction data\n",
    "* there are 66 duplicates of url values\n",
    "* p1, p2, p3 and their corresponding columns names should be more explanatory\n",
    "* there are 281 less records in this dataset than that of twitter archive data. there must be some missing values\n"
   ]
  },
  {
   "cell_type": "markdown",
   "metadata": {},
   "source": [
    "#### twitter API data\n",
    "* there are 29 less records in this dataset than that of twitter archive data. there must be some missing values"
   ]
  },
  {
   "cell_type": "markdown",
   "metadata": {},
   "source": [
    "## Tidiness"
   ]
  },
  {
   "cell_type": "markdown",
   "metadata": {},
   "source": [
    "* Combine four columns doggo, floofer, pupper, puppo into one\n",
    "* Join image predictions and twitter api data to twitter archive data"
   ]
  },
  {
   "cell_type": "code",
   "execution_count": 191,
   "metadata": {},
   "outputs": [],
   "source": [
    "# Make copies of the dataframes for cleaning\n",
    "\n",
    "twitter_clean_df = twitter_df.copy()\n",
    "twitter2_clean = twitter2.copy()\n",
    "image_prediction_clean = image_prediction.copy()"
   ]
  },
  {
   "cell_type": "markdown",
   "metadata": {},
   "source": [
    "## Cleaning Data\n",
    "### Quality Issue 1 - clean the retweets data"
   ]
  },
  {
   "cell_type": "markdown",
   "metadata": {},
   "source": [
    "#### 1.a Define\n",
    "Delete all the retweets where the column values are not null, columns containing retweet information: 'retweeted_status_id', 'retweeted_status_user_id' , and 'retweeted_status_timestamp'"
   ]
  },
  {
   "cell_type": "markdown",
   "metadata": {},
   "source": [
    "#### 1.a Code"
   ]
  },
  {
   "cell_type": "code",
   "execution_count": 192,
   "metadata": {},
   "outputs": [
    {
     "data": {
      "text/plain": [
       "181"
      ]
     },
     "execution_count": 192,
     "metadata": {},
     "output_type": "execute_result"
    }
   ],
   "source": [
    "sum(twitter_clean_df['retweeted_status_id'].notnull())"
   ]
  },
  {
   "cell_type": "code",
   "execution_count": 193,
   "metadata": {},
   "outputs": [],
   "source": [
    "twitter_clean_df = twitter_clean_df[twitter_clean_df['retweeted_status_id'].isna()]"
   ]
  },
  {
   "cell_type": "markdown",
   "metadata": {},
   "source": [
    "#### 1.a Test"
   ]
  },
  {
   "cell_type": "code",
   "execution_count": 194,
   "metadata": {},
   "outputs": [
    {
     "data": {
      "text/plain": [
       "0"
      ]
     },
     "execution_count": 194,
     "metadata": {},
     "output_type": "execute_result"
    }
   ],
   "source": [
    "sum(twitter_clean_df['retweeted_status_id'].notnull())"
   ]
  },
  {
   "cell_type": "code",
   "execution_count": 195,
   "metadata": {},
   "outputs": [
    {
     "name": "stdout",
     "output_type": "stream",
     "text": [
      "<class 'pandas.core.frame.DataFrame'>\n",
      "Int64Index: 2175 entries, 0 to 2355\n",
      "Data columns (total 17 columns):\n",
      " #   Column                      Non-Null Count  Dtype  \n",
      "---  ------                      --------------  -----  \n",
      " 0   tweet_id                    2175 non-null   int64  \n",
      " 1   in_reply_to_status_id       78 non-null     float64\n",
      " 2   in_reply_to_user_id         78 non-null     float64\n",
      " 3   timestamp                   2175 non-null   object \n",
      " 4   source                      2175 non-null   object \n",
      " 5   text                        2175 non-null   object \n",
      " 6   retweeted_status_id         0 non-null      float64\n",
      " 7   retweeted_status_user_id    0 non-null      float64\n",
      " 8   retweeted_status_timestamp  0 non-null      object \n",
      " 9   expanded_urls               2117 non-null   object \n",
      " 10  rating_numerator            2175 non-null   int64  \n",
      " 11  rating_denominator          2175 non-null   int64  \n",
      " 12  name                        2175 non-null   object \n",
      " 13  doggo                       2175 non-null   object \n",
      " 14  floofer                     2175 non-null   object \n",
      " 15  pupper                      2175 non-null   object \n",
      " 16  puppo                       2175 non-null   object \n",
      "dtypes: float64(4), int64(3), object(10)\n",
      "memory usage: 305.9+ KB\n"
     ]
    }
   ],
   "source": [
    "# no. of rows dropped with retweets = 2356 - 2175 = 181\n",
    "twitter_clean_df.info()"
   ]
  },
  {
   "cell_type": "markdown",
   "metadata": {},
   "source": [
    "#### 1.b Define"
   ]
  },
  {
   "cell_type": "markdown",
   "metadata": {},
   "source": [
    "Delete all the replies where the columns are not null, columns containing replies information: 'in_reply_to_status_id', 'in_reply_to_user_id'"
   ]
  },
  {
   "cell_type": "markdown",
   "metadata": {},
   "source": [
    "#### 1.b Code"
   ]
  },
  {
   "cell_type": "code",
   "execution_count": 196,
   "metadata": {},
   "outputs": [
    {
     "data": {
      "text/plain": [
       "78"
      ]
     },
     "execution_count": 196,
     "metadata": {},
     "output_type": "execute_result"
    }
   ],
   "source": [
    "sum(twitter_clean_df['in_reply_to_status_id'].notnull())"
   ]
  },
  {
   "cell_type": "code",
   "execution_count": 197,
   "metadata": {},
   "outputs": [],
   "source": [
    "twitter_clean_df = twitter_clean_df[twitter_clean_df['in_reply_to_status_id'].isna()]"
   ]
  },
  {
   "cell_type": "markdown",
   "metadata": {},
   "source": [
    "#### 1.c Test"
   ]
  },
  {
   "cell_type": "code",
   "execution_count": 198,
   "metadata": {},
   "outputs": [
    {
     "data": {
      "text/plain": [
       "0"
      ]
     },
     "execution_count": 198,
     "metadata": {},
     "output_type": "execute_result"
    }
   ],
   "source": [
    "sum(twitter_clean_df['in_reply_to_status_id'].notnull())"
   ]
  },
  {
   "cell_type": "code",
   "execution_count": 199,
   "metadata": {},
   "outputs": [
    {
     "name": "stdout",
     "output_type": "stream",
     "text": [
      "<class 'pandas.core.frame.DataFrame'>\n",
      "Int64Index: 2097 entries, 0 to 2355\n",
      "Data columns (total 17 columns):\n",
      " #   Column                      Non-Null Count  Dtype  \n",
      "---  ------                      --------------  -----  \n",
      " 0   tweet_id                    2097 non-null   int64  \n",
      " 1   in_reply_to_status_id       0 non-null      float64\n",
      " 2   in_reply_to_user_id         0 non-null      float64\n",
      " 3   timestamp                   2097 non-null   object \n",
      " 4   source                      2097 non-null   object \n",
      " 5   text                        2097 non-null   object \n",
      " 6   retweeted_status_id         0 non-null      float64\n",
      " 7   retweeted_status_user_id    0 non-null      float64\n",
      " 8   retweeted_status_timestamp  0 non-null      object \n",
      " 9   expanded_urls               2094 non-null   object \n",
      " 10  rating_numerator            2097 non-null   int64  \n",
      " 11  rating_denominator          2097 non-null   int64  \n",
      " 12  name                        2097 non-null   object \n",
      " 13  doggo                       2097 non-null   object \n",
      " 14  floofer                     2097 non-null   object \n",
      " 15  pupper                      2097 non-null   object \n",
      " 16  puppo                       2097 non-null   object \n",
      "dtypes: float64(4), int64(3), object(10)\n",
      "memory usage: 294.9+ KB\n"
     ]
    }
   ],
   "source": [
    "# no. of rows dropped with replies = 2175 - 2097 = 78\n",
    "twitter_clean_df.info()"
   ]
  },
  {
   "cell_type": "markdown",
   "metadata": {},
   "source": [
    "###  Quality Issue 2 - Drop unnecessary columns"
   ]
  },
  {
   "cell_type": "markdown",
   "metadata": {},
   "source": [
    "#### Define\n",
    "Now finally we would want to drop these columns as they will not used and create clutter from readability perspective. \n",
    "Columns 'in_reply_to_status_id', 'in_reply_to_user_id', 'retweeted_status_id', 'retweeted_status_user_id', 'retweeted_status_timestamp' should be dropped. We needed to clean the data first before dropping them becuase, the null values will still be there in the dataset. "
   ]
  },
  {
   "cell_type": "markdown",
   "metadata": {},
   "source": [
    "#### Code"
   ]
  },
  {
   "cell_type": "code",
   "execution_count": 201,
   "metadata": {},
   "outputs": [],
   "source": [
    "twitter_clean_df = twitter_clean_df.drop(['in_reply_to_status_id', 'in_reply_to_user_id', 'retweeted_status_id', 'retweeted_status_user_id', 'retweeted_status_timestamp'], axis=1)\n"
   ]
  },
  {
   "cell_type": "markdown",
   "metadata": {},
   "source": [
    "#### Test"
   ]
  },
  {
   "cell_type": "code",
   "execution_count": 202,
   "metadata": {},
   "outputs": [
    {
     "name": "stdout",
     "output_type": "stream",
     "text": [
      "<class 'pandas.core.frame.DataFrame'>\n",
      "Int64Index: 2097 entries, 0 to 2355\n",
      "Data columns (total 12 columns):\n",
      " #   Column              Non-Null Count  Dtype \n",
      "---  ------              --------------  ----- \n",
      " 0   tweet_id            2097 non-null   int64 \n",
      " 1   timestamp           2097 non-null   object\n",
      " 2   source              2097 non-null   object\n",
      " 3   text                2097 non-null   object\n",
      " 4   expanded_urls       2094 non-null   object\n",
      " 5   rating_numerator    2097 non-null   int64 \n",
      " 6   rating_denominator  2097 non-null   int64 \n",
      " 7   name                2097 non-null   object\n",
      " 8   doggo               2097 non-null   object\n",
      " 9   floofer             2097 non-null   object\n",
      " 10  pupper              2097 non-null   object\n",
      " 11  puppo               2097 non-null   object\n",
      "dtypes: int64(3), object(9)\n",
      "memory usage: 213.0+ KB\n"
     ]
    }
   ],
   "source": [
    "# five cloumns have been dropped\n",
    "twitter_clean_df.info()"
   ]
  },
  {
   "cell_type": "markdown",
   "metadata": {},
   "source": [
    "### Tidiness Issue 1 - Merge all datasets"
   ]
  },
  {
   "cell_type": "markdown",
   "metadata": {},
   "source": [
    "#### Define\n",
    "Merge all three datasets into one"
   ]
  },
  {
   "cell_type": "markdown",
   "metadata": {},
   "source": [
    "#### Code"
   ]
  },
  {
   "cell_type": "code",
   "execution_count": 203,
   "metadata": {},
   "outputs": [],
   "source": [
    "twitter_combined_df = pd.merge(twitter_clean_df, twitter2_clean, \n",
    "                      how = 'left', on = ['tweet_id'])"
   ]
  },
  {
   "cell_type": "code",
   "execution_count": 204,
   "metadata": {},
   "outputs": [],
   "source": [
    "twitter_combined_df = pd.merge(twitter_combined_df, image_prediction_clean, \n",
    "                      how = 'left', on = ['tweet_id'])"
   ]
  },
  {
   "cell_type": "markdown",
   "metadata": {},
   "source": [
    "#### Test"
   ]
  },
  {
   "cell_type": "code",
   "execution_count": 205,
   "metadata": {},
   "outputs": [
    {
     "name": "stdout",
     "output_type": "stream",
     "text": [
      "<class 'pandas.core.frame.DataFrame'>\n",
      "Int64Index: 2097 entries, 0 to 2096\n",
      "Data columns (total 28 columns):\n",
      " #   Column              Non-Null Count  Dtype  \n",
      "---  ------              --------------  -----  \n",
      " 0   tweet_id            2097 non-null   int64  \n",
      " 1   timestamp           2097 non-null   object \n",
      " 2   source              2097 non-null   object \n",
      " 3   text                2097 non-null   object \n",
      " 4   expanded_urls       2094 non-null   object \n",
      " 5   rating_numerator    2097 non-null   int64  \n",
      " 6   rating_denominator  2097 non-null   int64  \n",
      " 7   name                2097 non-null   object \n",
      " 8   doggo               2097 non-null   object \n",
      " 9   floofer             2097 non-null   object \n",
      " 10  pupper              2097 non-null   object \n",
      " 11  puppo               2097 non-null   object \n",
      " 12  favorited           2090 non-null   object \n",
      " 13  favorite_count      2090 non-null   float64\n",
      " 14  retweeted           2090 non-null   object \n",
      " 15  retweet_count       2090 non-null   float64\n",
      " 16  retweeted_status    0 non-null      object \n",
      " 17  jpg_url             1971 non-null   object \n",
      " 18  img_num             1971 non-null   float64\n",
      " 19  p1                  1971 non-null   object \n",
      " 20  p1_conf             1971 non-null   float64\n",
      " 21  p1_dog              1971 non-null   object \n",
      " 22  p2                  1971 non-null   object \n",
      " 23  p2_conf             1971 non-null   float64\n",
      " 24  p2_dog              1971 non-null   object \n",
      " 25  p3                  1971 non-null   object \n",
      " 26  p3_conf             1971 non-null   float64\n",
      " 27  p3_dog              1971 non-null   object \n",
      "dtypes: float64(6), int64(3), object(19)\n",
      "memory usage: 475.1+ KB\n"
     ]
    }
   ],
   "source": [
    "twitter_combined_df.info()"
   ]
  },
  {
   "cell_type": "markdown",
   "metadata": {},
   "source": [
    "### Tidiness Issue 2 - Merge four columns into one"
   ]
  },
  {
   "cell_type": "markdown",
   "metadata": {},
   "source": [
    "#### Define\n",
    "Merge 'doggo', 'floofer', 'pupper', and 'puppo' columns into one as 'dog_stage'"
   ]
  },
  {
   "cell_type": "markdown",
   "metadata": {},
   "source": [
    "#### Code"
   ]
  },
  {
   "cell_type": "code",
   "execution_count": 206,
   "metadata": {},
   "outputs": [],
   "source": [
    "twitter_combined_clean_df = twitter_combined_df.copy()"
   ]
  },
  {
   "cell_type": "code",
   "execution_count": 207,
   "metadata": {},
   "outputs": [],
   "source": [
    "twitter_combined_clean_df['doggo'].replace('None','',inplace=True)\n",
    "twitter_combined_clean_df['floofer'].replace('None','',inplace=True)\n",
    "twitter_combined_clean_df['pupper'].replace('None','',inplace=True)\n",
    "twitter_combined_clean_df['puppo'].replace('None','',inplace=True)"
   ]
  },
  {
   "cell_type": "code",
   "execution_count": 208,
   "metadata": {},
   "outputs": [],
   "source": [
    "twitter_combined_clean_df['dog_stage'] = twitter_combined_clean_df['doggo'] + twitter_combined_clean_df['floofer'] + twitter_combined_clean_df['pupper'] + twitter_combined_clean_df['puppo']\n"
   ]
  },
  {
   "cell_type": "code",
   "execution_count": 209,
   "metadata": {},
   "outputs": [],
   "source": [
    "twitter_combined_clean_df['dog_stage'].replace('doggopupper','multiple',inplace=True)\n",
    "twitter_combined_clean_df['dog_stage'].replace('doggopuppo','multiple',inplace=True)\n",
    "twitter_combined_clean_df['dog_stage'].replace('doggofloofer','multiple',inplace=True)"
   ]
  },
  {
   "cell_type": "code",
   "execution_count": 210,
   "metadata": {},
   "outputs": [
    {
     "data": {
      "text/plain": [
       "            1761\n",
       "pupper       221\n",
       "doggo         72\n",
       "puppo         23\n",
       "multiple      11\n",
       "floofer        9\n",
       "Name: dog_stage, dtype: int64"
      ]
     },
     "execution_count": 210,
     "metadata": {},
     "output_type": "execute_result"
    }
   ],
   "source": [
    "twitter_combined_clean_df['dog_stage'].value_counts()"
   ]
  },
  {
   "cell_type": "code",
   "execution_count": 211,
   "metadata": {},
   "outputs": [],
   "source": [
    "# Drop doggo, floofer, pupper, and puppo columns\n",
    "twitter_combined_clean_df = twitter_combined_clean_df.drop(['doggo', 'floofer', 'pupper', 'puppo'], axis=1)"
   ]
  },
  {
   "cell_type": "markdown",
   "metadata": {},
   "source": [
    "#### Test"
   ]
  },
  {
   "cell_type": "code",
   "execution_count": 212,
   "metadata": {},
   "outputs": [
    {
     "name": "stdout",
     "output_type": "stream",
     "text": [
      "<class 'pandas.core.frame.DataFrame'>\n",
      "Int64Index: 2097 entries, 0 to 2096\n",
      "Data columns (total 25 columns):\n",
      " #   Column              Non-Null Count  Dtype  \n",
      "---  ------              --------------  -----  \n",
      " 0   tweet_id            2097 non-null   int64  \n",
      " 1   timestamp           2097 non-null   object \n",
      " 2   source              2097 non-null   object \n",
      " 3   text                2097 non-null   object \n",
      " 4   expanded_urls       2094 non-null   object \n",
      " 5   rating_numerator    2097 non-null   int64  \n",
      " 6   rating_denominator  2097 non-null   int64  \n",
      " 7   name                2097 non-null   object \n",
      " 8   favorited           2090 non-null   object \n",
      " 9   favorite_count      2090 non-null   float64\n",
      " 10  retweeted           2090 non-null   object \n",
      " 11  retweet_count       2090 non-null   float64\n",
      " 12  retweeted_status    0 non-null      object \n",
      " 13  jpg_url             1971 non-null   object \n",
      " 14  img_num             1971 non-null   float64\n",
      " 15  p1                  1971 non-null   object \n",
      " 16  p1_conf             1971 non-null   float64\n",
      " 17  p1_dog              1971 non-null   object \n",
      " 18  p2                  1971 non-null   object \n",
      " 19  p2_conf             1971 non-null   float64\n",
      " 20  p2_dog              1971 non-null   object \n",
      " 21  p3                  1971 non-null   object \n",
      " 22  p3_conf             1971 non-null   float64\n",
      " 23  p3_dog              1971 non-null   object \n",
      " 24  dog_stage           2097 non-null   object \n",
      "dtypes: float64(6), int64(3), object(16)\n",
      "memory usage: 426.0+ KB\n"
     ]
    }
   ],
   "source": [
    "twitter_combined_clean_df.info()"
   ]
  },
  {
   "cell_type": "markdown",
   "metadata": {},
   "source": [
    "### Quality Issue 3 - Timestamp\n",
    "#### Define \n",
    "'timestamp' and 'retweeted_status_timestamp' are of object datatypes"
   ]
  },
  {
   "cell_type": "markdown",
   "metadata": {},
   "source": [
    "#### Code"
   ]
  },
  {
   "cell_type": "code",
   "execution_count": 213,
   "metadata": {},
   "outputs": [],
   "source": [
    "# Remove the time zone information from 'timestamp' column\n",
    "twitter_combined_clean_df['timestamp'] = twitter_combined_clean_df['timestamp'].str.slice(start=0, stop=-6)"
   ]
  },
  {
   "cell_type": "code",
   "execution_count": 214,
   "metadata": {},
   "outputs": [],
   "source": [
    "twitter_combined_clean_df['timestamp'] = pd.to_datetime(twitter_combined_clean_df['timestamp'], format = \"%Y-%m-%d %H:%M:%S\")\n"
   ]
  },
  {
   "cell_type": "markdown",
   "metadata": {},
   "source": [
    "#### Test"
   ]
  },
  {
   "cell_type": "code",
   "execution_count": 215,
   "metadata": {},
   "outputs": [
    {
     "name": "stdout",
     "output_type": "stream",
     "text": [
      "<class 'pandas.core.frame.DataFrame'>\n",
      "Int64Index: 2097 entries, 0 to 2096\n",
      "Data columns (total 25 columns):\n",
      " #   Column              Non-Null Count  Dtype         \n",
      "---  ------              --------------  -----         \n",
      " 0   tweet_id            2097 non-null   int64         \n",
      " 1   timestamp           2097 non-null   datetime64[ns]\n",
      " 2   source              2097 non-null   object        \n",
      " 3   text                2097 non-null   object        \n",
      " 4   expanded_urls       2094 non-null   object        \n",
      " 5   rating_numerator    2097 non-null   int64         \n",
      " 6   rating_denominator  2097 non-null   int64         \n",
      " 7   name                2097 non-null   object        \n",
      " 8   favorited           2090 non-null   object        \n",
      " 9   favorite_count      2090 non-null   float64       \n",
      " 10  retweeted           2090 non-null   object        \n",
      " 11  retweet_count       2090 non-null   float64       \n",
      " 12  retweeted_status    0 non-null      object        \n",
      " 13  jpg_url             1971 non-null   object        \n",
      " 14  img_num             1971 non-null   float64       \n",
      " 15  p1                  1971 non-null   object        \n",
      " 16  p1_conf             1971 non-null   float64       \n",
      " 17  p1_dog              1971 non-null   object        \n",
      " 18  p2                  1971 non-null   object        \n",
      " 19  p2_conf             1971 non-null   float64       \n",
      " 20  p2_dog              1971 non-null   object        \n",
      " 21  p3                  1971 non-null   object        \n",
      " 22  p3_conf             1971 non-null   float64       \n",
      " 23  p3_dog              1971 non-null   object        \n",
      " 24  dog_stage           2097 non-null   object        \n",
      "dtypes: datetime64[ns](1), float64(6), int64(3), object(15)\n",
      "memory usage: 426.0+ KB\n"
     ]
    }
   ],
   "source": [
    "twitter_combined_clean_df.info()"
   ]
  },
  {
   "cell_type": "markdown",
   "metadata": {},
   "source": [
    "### Quality Issue 4 -  name column has inconsistent values\n",
    "#### Define\n",
    "Name column has inconsistenct values such as 'None', 'a', 'an', not', 'this', 'the', 'one', 'my', 'mad', 'all', 'quite', 'by'. Observing the pattern, it looks like all these inconsistent names starts with a lowercase.\n"
   ]
  },
  {
   "cell_type": "markdown",
   "metadata": {},
   "source": [
    "#### Code"
   ]
  },
  {
   "cell_type": "code",
   "execution_count": 216,
   "metadata": {},
   "outputs": [
    {
     "name": "stdout",
     "output_type": "stream",
     "text": [
      "['such', 'a', 'quite', 'not', 'one', 'incredibly', 'very', 'my', 'his', 'an', 'actually', 'just', 'getting', 'mad', 'this', 'unacceptable', 'all', 'old', 'infuriating', 'the', 'by', 'officially', 'life', 'light', 'space']\n"
     ]
    }
   ],
   "source": [
    "# Find all names that start with a lowercase letter\n",
    "lowercase_names = []\n",
    "for row in twitter_combined_clean_df['name']:\n",
    "    if row[0].islower() and row not in lowercase_names:\n",
    "        lowercase_names.append(row)\n",
    "print(lowercase_names)"
   ]
  },
  {
   "cell_type": "code",
   "execution_count": 217,
   "metadata": {},
   "outputs": [],
   "source": [
    "# Replace all names that start with a lowercase letter with a NaN\n",
    "twitter_combined_clean_df['name'].replace(lowercase_names, \n",
    "                        np.nan,\n",
    "                       inplace = True)\n",
    "\n",
    "# Replace all 'None's with a NaN\n",
    "twitter_combined_clean_df['name'].replace('None', \n",
    "                        np.nan,\n",
    "                       inplace = True)"
   ]
  },
  {
   "cell_type": "markdown",
   "metadata": {},
   "source": [
    "#### Test"
   ]
  },
  {
   "cell_type": "code",
   "execution_count": 218,
   "metadata": {},
   "outputs": [
    {
     "data": {
      "text/plain": [
       "Lucy         11\n",
       "Charlie      11\n",
       "Oliver       10\n",
       "Cooper       10\n",
       "Penny         9\n",
       "             ..\n",
       "Shnuggles     1\n",
       "Aubie         1\n",
       "Gustaf        1\n",
       "Dook          1\n",
       "Reptar        1\n",
       "Name: name, Length: 929, dtype: int64"
      ]
     },
     "execution_count": 218,
     "metadata": {},
     "output_type": "execute_result"
    }
   ],
   "source": [
    "# Check to see if the None and names starting with lowercase values have been replaced\n",
    "twitter_combined_clean_df['name'].value_counts()"
   ]
  },
  {
   "cell_type": "markdown",
   "metadata": {},
   "source": [
    "### Quality Issue 5 - 'source' content should be in more readable format\n",
    "#### Define\n",
    "The values of the 'source' column is not in a readable format. The unnecessary strings on the content of this column should be deleted so that it is readable for the users."
   ]
  },
  {
   "cell_type": "code",
   "execution_count": 118,
   "metadata": {},
   "outputs": [
    {
     "data": {
      "text/plain": [
       "1642    <a href=\"http://twitter.com/download/iphone\" r...\n",
       "201     <a href=\"http://twitter.com/download/iphone\" r...\n",
       "1282    <a href=\"http://twitter.com/download/iphone\" r...\n",
       "437     <a href=\"http://twitter.com/download/iphone\" r...\n",
       "784     <a href=\"http://twitter.com/download/iphone\" r...\n",
       "321     <a href=\"http://twitter.com/download/iphone\" r...\n",
       "1615    <a href=\"http://twitter.com/download/iphone\" r...\n",
       "853     <a href=\"http://twitter.com/download/iphone\" r...\n",
       "2066    <a href=\"http://twitter.com/download/iphone\" r...\n",
       "134     <a href=\"http://twitter.com/download/iphone\" r...\n",
       "Name: source, dtype: object"
      ]
     },
     "execution_count": 118,
     "metadata": {},
     "output_type": "execute_result"
    }
   ],
   "source": [
    "twitter_combined_clean_df['source'].sample(10)"
   ]
  },
  {
   "cell_type": "markdown",
   "metadata": {},
   "source": [
    "#### Code"
   ]
  },
  {
   "cell_type": "code",
   "execution_count": 219,
   "metadata": {},
   "outputs": [],
   "source": [
    "# Clean the content of source column\n",
    "twitter_combined_clean_df['source'] = twitter_combined_clean_df['source'].apply(lambda x: re.findall(r'>(.*)<', x)[0])"
   ]
  },
  {
   "cell_type": "markdown",
   "metadata": {},
   "source": [
    "#### Test"
   ]
  },
  {
   "cell_type": "code",
   "execution_count": 220,
   "metadata": {},
   "outputs": [
    {
     "data": {
      "text/plain": [
       "Twitter for iPhone     1964\n",
       "Vine - Make a Scene      91\n",
       "Twitter Web Client       31\n",
       "TweetDeck                11\n",
       "Name: source, dtype: int64"
      ]
     },
     "execution_count": 220,
     "metadata": {},
     "output_type": "execute_result"
    }
   ],
   "source": [
    "twitter_combined_clean_df['source'].value_counts()"
   ]
  },
  {
   "cell_type": "code",
   "execution_count": 342,
   "metadata": {},
   "outputs": [
    {
     "data": {
      "text/plain": [
       "1312     Twitter for iPhone\n",
       "1878     Twitter for iPhone\n",
       "997      Twitter for iPhone\n",
       "1654     Twitter for iPhone\n",
       "2189     Twitter for iPhone\n",
       "847      Twitter for iPhone\n",
       "430      Twitter for iPhone\n",
       "143      Twitter for iPhone\n",
       "1681     Twitter for iPhone\n",
       "297      Twitter for iPhone\n",
       "1113     Twitter for iPhone\n",
       "1441     Twitter for iPhone\n",
       "659      Twitter for iPhone\n",
       "416      Twitter for iPhone\n",
       "2076     Twitter for iPhone\n",
       "2206     Twitter for iPhone\n",
       "1436     Twitter for iPhone\n",
       "1018     Twitter for iPhone\n",
       "1181     Twitter for iPhone\n",
       "1052     Twitter for iPhone\n",
       "1412     Twitter for iPhone\n",
       "81       Twitter for iPhone\n",
       "1774     Twitter for iPhone\n",
       "1255    Vine - Make a Scene\n",
       "1515    Vine - Make a Scene\n",
       "740      Twitter for iPhone\n",
       "596      Twitter for iPhone\n",
       "2273     Twitter Web Client\n",
       "1938     Twitter for iPhone\n",
       "327      Twitter for iPhone\n",
       "2145     Twitter for iPhone\n",
       "1635     Twitter for iPhone\n",
       "1124     Twitter for iPhone\n",
       "977               TweetDeck\n",
       "2352     Twitter for iPhone\n",
       "Name: source, dtype: object"
      ]
     },
     "execution_count": 342,
     "metadata": {},
     "output_type": "execute_result"
    }
   ],
   "source": [
    "twitter_combined_clean_df['source'].sample(35)"
   ]
  },
  {
   "cell_type": "markdown",
   "metadata": {},
   "source": [
    "### Quality Issue 6 - ratings_denominator has values != 10\n",
    "#### Define\n",
    "The standard value that the dogs are rated should be constant. The dataset has various fluctuating denominator values other than 10 out of which the dogs are rated. All those inconsistent values should be deleted."
   ]
  },
  {
   "cell_type": "code",
   "execution_count": 221,
   "metadata": {},
   "outputs": [
    {
     "data": {
      "text/plain": [
       "10     2080\n",
       "50        3\n",
       "11        2\n",
       "80        2\n",
       "7         1\n",
       "170       1\n",
       "150       1\n",
       "120       1\n",
       "110       1\n",
       "90        1\n",
       "70        1\n",
       "40        1\n",
       "20        1\n",
       "2         1\n",
       "Name: rating_denominator, dtype: int64"
      ]
     },
     "execution_count": 221,
     "metadata": {},
     "output_type": "execute_result"
    }
   ],
   "source": [
    "twitter_combined_clean_df['rating_denominator'].value_counts()"
   ]
  },
  {
   "cell_type": "markdown",
   "metadata": {},
   "source": [
    "#### Code"
   ]
  },
  {
   "cell_type": "code",
   "execution_count": 222,
   "metadata": {},
   "outputs": [],
   "source": [
    "twitter_combined_clean_df = twitter_combined_clean_df[twitter_combined_clean_df.rating_denominator == 10]"
   ]
  },
  {
   "cell_type": "markdown",
   "metadata": {},
   "source": [
    "##### Test"
   ]
  },
  {
   "cell_type": "code",
   "execution_count": 223,
   "metadata": {},
   "outputs": [
    {
     "data": {
      "text/plain": [
       "10    2080\n",
       "Name: rating_denominator, dtype: int64"
      ]
     },
     "execution_count": 223,
     "metadata": {},
     "output_type": "execute_result"
    }
   ],
   "source": [
    "twitter_combined_clean_df['rating_denominator'].value_counts()"
   ]
  },
  {
   "cell_type": "markdown",
   "metadata": {},
   "source": [
    "### Quality Issue 7 - Convert ratings datatypes\n",
    "#### Define\n",
    "Users shoulde be able to rate the dogs in decimal values not just whole numbers. This feature will provide the app to calculate the more accurate ratings."
   ]
  },
  {
   "cell_type": "markdown",
   "metadata": {},
   "source": [
    "#### Code"
   ]
  },
  {
   "cell_type": "code",
   "execution_count": 224,
   "metadata": {},
   "outputs": [],
   "source": [
    "twitter_combined_clean_df['rating_numerator'] = twitter_combined_clean_df['rating_numerator'].astype(float)\n",
    "twitter_combined_clean_df['rating_denominator'] = twitter_combined_clean_df['rating_denominator'].astype(float)"
   ]
  },
  {
   "cell_type": "markdown",
   "metadata": {},
   "source": [
    "#### Test"
   ]
  },
  {
   "cell_type": "code",
   "execution_count": 225,
   "metadata": {},
   "outputs": [
    {
     "name": "stdout",
     "output_type": "stream",
     "text": [
      "<class 'pandas.core.frame.DataFrame'>\n",
      "Int64Index: 2080 entries, 0 to 2096\n",
      "Data columns (total 2 columns):\n",
      " #   Column              Non-Null Count  Dtype  \n",
      "---  ------              --------------  -----  \n",
      " 0   rating_numerator    2080 non-null   float64\n",
      " 1   rating_denominator  2080 non-null   float64\n",
      "dtypes: float64(2)\n",
      "memory usage: 48.8 KB\n"
     ]
    }
   ],
   "source": [
    "twitter_combined_clean_df.filter(['rating_numerator', 'rating_denominator']).info()"
   ]
  },
  {
   "cell_type": "markdown",
   "metadata": {},
   "source": [
    "### Quality Issue 8 - ratings_numerator has extremely high values \n",
    "#### Define\n",
    "There are 5 numerator ratings that have extremely high values (>14 out of 10) which that will skew the data. The rows containing these values should be dropped."
   ]
  },
  {
   "cell_type": "markdown",
   "metadata": {},
   "source": [
    "#### Code"
   ]
  },
  {
   "cell_type": "code",
   "execution_count": 228,
   "metadata": {},
   "outputs": [
    {
     "data": {
      "text/plain": [
       "12.0      486\n",
       "10.0      436\n",
       "11.0      413\n",
       "13.0      287\n",
       "9.0       152\n",
       "8.0        98\n",
       "7.0        51\n",
       "14.0       38\n",
       "5.0        34\n",
       "6.0        32\n",
       "3.0        19\n",
       "4.0        15\n",
       "2.0         9\n",
       "1.0         4\n",
       "27.0        1\n",
       "0.0         1\n",
       "1776.0      1\n",
       "26.0        1\n",
       "420.0       1\n",
       "75.0        1\n",
       "Name: rating_numerator, dtype: int64"
      ]
     },
     "execution_count": 228,
     "metadata": {},
     "output_type": "execute_result"
    }
   ],
   "source": [
    "# total value counts of the rating numerator\n",
    "twitter_combined_clean_df['rating_numerator'].value_counts()"
   ]
  },
  {
   "cell_type": "code",
   "execution_count": 229,
   "metadata": {},
   "outputs": [
    {
     "data": {
      "text/plain": [
       "1776.0    1\n",
       "420.0     1\n",
       "75.0      1\n",
       "27.0      1\n",
       "26.0      1\n",
       "Name: rating_numerator, dtype: int64"
      ]
     },
     "execution_count": 229,
     "metadata": {},
     "output_type": "execute_result"
    }
   ],
   "source": [
    "# total value counts of the rating numerator with values more than 14\n",
    "test = twitter_combined_clean_df['rating_numerator'] > 14\n",
    "twitter_combined_clean_df[test]['rating_numerator'].value_counts().sort_index(ascending = False)"
   ]
  },
  {
   "cell_type": "code",
   "execution_count": 230,
   "metadata": {},
   "outputs": [],
   "source": [
    "twitter_combined_clean_df = twitter_combined_clean_df[twitter_combined_clean_df['rating_numerator'] <= 14]"
   ]
  },
  {
   "cell_type": "markdown",
   "metadata": {},
   "source": [
    "#### Test"
   ]
  },
  {
   "cell_type": "code",
   "execution_count": 231,
   "metadata": {},
   "outputs": [
    {
     "data": {
      "text/plain": [
       "14.0     38\n",
       "13.0    287\n",
       "12.0    486\n",
       "11.0    413\n",
       "10.0    436\n",
       "9.0     152\n",
       "8.0      98\n",
       "7.0      51\n",
       "6.0      32\n",
       "5.0      34\n",
       "4.0      15\n",
       "3.0      19\n",
       "2.0       9\n",
       "1.0       4\n",
       "0.0       1\n",
       "Name: rating_numerator, dtype: int64"
      ]
     },
     "execution_count": 231,
     "metadata": {},
     "output_type": "execute_result"
    }
   ],
   "source": [
    "# Display all the rating numerator value counts after cleaning\n",
    "twitter_combined_clean_df['rating_numerator'].value_counts().sort_index(ascending = False)"
   ]
  },
  {
   "cell_type": "markdown",
   "metadata": {},
   "source": [
    "## Store Data"
   ]
  },
  {
   "cell_type": "markdown",
   "metadata": {},
   "source": [
    "The data in twitter_combined_clean_df is now ready to be stored and used for analytics. Now we can store the data into 'twitter_archive_master.csv' file."
   ]
  },
  {
   "cell_type": "code",
   "execution_count": 232,
   "metadata": {},
   "outputs": [],
   "source": [
    "twitter_combined_clean_df.to_csv('twitter_archive_master.csv', index = False)"
   ]
  },
  {
   "cell_type": "code",
   "execution_count": 233,
   "metadata": {},
   "outputs": [
    {
     "name": "stdout",
     "output_type": "stream",
     "text": [
      "twitter-archive-enhanced-2.csv  twitter_archive_master.csv\r\n"
     ]
    }
   ],
   "source": [
    "ls *.csv"
   ]
  },
  {
   "cell_type": "markdown",
   "metadata": {},
   "source": [
    "## Analyze and Visualize Data"
   ]
  },
  {
   "cell_type": "markdown",
   "metadata": {},
   "source": [
    "#### What is the correlation between favorites and retweets?"
   ]
  },
  {
   "cell_type": "code",
   "execution_count": 234,
   "metadata": {},
   "outputs": [
    {
     "name": "stderr",
     "output_type": "stream",
     "text": [
      "/Users/bijayshrestha/opt/anaconda3/envs/udacity/lib/python3.7/site-packages/seaborn/regression.py:573: UserWarning: The `size` parameter has been renamed to `height`; please update your code.\n",
      "  warnings.warn(msg, UserWarning)\n"
     ]
    },
    {
     "data": {
      "image/png": "[encoded data removed]",
      "text/plain": [
       "<Figure size 468x360 with 1 Axes>"
      ]
     },
     "metadata": {
      "needs_background": "light"
     },
     "output_type": "display_data"
    }
   ],
   "source": [
    "# Plot scatterplot of favorite vs retweet count\n",
    "sns.lmplot(x=\"retweet_count\", \n",
    "           y=\"favorite_count\", \n",
    "           data=twitter_combined_clean_df,\n",
    "           size = 5,\n",
    "           aspect=1.3,\n",
    "           scatter_kws={'alpha':1/5})\n",
    "plt.title('Favorites vs. Retweets Count')\n",
    "plt.xlabel('Retweet Count')\n",
    "plt.ylabel('Favorite Count');"
   ]
  },
  {
   "cell_type": "markdown",
   "metadata": {},
   "source": [
    "The figure above shows that favorites and retweets are highly positively correlated. For about every 4 favorites, there is 1 retweet. Majority of the data falls under 40,000 favorites and 12,000 retweets."
   ]
  },
  {
   "cell_type": "markdown",
   "metadata": {},
   "source": [
    "#### What is the breakdown of the source?"
   ]
  },
  {
   "cell_type": "code",
   "execution_count": 235,
   "metadata": {},
   "outputs": [
    {
     "data": {
      "text/plain": [
       "Twitter for iPhone     1943\n",
       "Vine - Make a Scene      91\n",
       "Twitter Web Client       31\n",
       "TweetDeck                10\n",
       "Name: source, dtype: int64"
      ]
     },
     "execution_count": 235,
     "metadata": {},
     "output_type": "execute_result"
    }
   ],
   "source": [
    "twitter_combined_clean_df['source'].value_counts()"
   ]
  },
  {
   "cell_type": "code",
   "execution_count": 236,
   "metadata": {},
   "outputs": [
    {
     "data": {
      "image/png": "[encoded data removed]",
      "text/plain": [
       "<Figure size 576x360 with 1 Axes>"
      ]
     },
     "metadata": {
      "needs_background": "light"
     },
     "output_type": "display_data"
    }
   ],
   "source": [
    "fig = plt.figure(figsize=[8, 5])\n",
    "sns.countplot(data=twitter_combined_clean_df, x='source')\n",
    "plt.title('Tweet Sources', size=15)\n",
    "plt.savefig('most_used_twitter_source');"
   ]
  },
  {
   "cell_type": "markdown",
   "metadata": {},
   "source": [
    "The figure above shows that the most of the tweets come from iphones, followed by vine-make a scene, and twitter web cleint. The least number of tweets come from tweetdeck."
   ]
  },
  {
   "cell_type": "markdown",
   "metadata": {},
   "source": [
    "#### What is the monthly number of tweets?"
   ]
  },
  {
   "cell_type": "code",
   "execution_count": 237,
   "metadata": {},
   "outputs": [
    {
     "data": {
      "text/plain": [
       "2015-11    294\n",
       "2015-12    369\n",
       "2016-01    181\n",
       "2016-02    119\n",
       "2016-03    129\n",
       "2016-04     58\n",
       "2016-05     58\n",
       "2016-06     89\n",
       "2016-07     94\n",
       "2016-08     61\n",
       "2016-09     68\n",
       "2016-10     71\n",
       "2016-11     54\n",
       "2016-12     56\n",
       "2017-01     68\n",
       "2017-02     68\n",
       "2017-03     52\n",
       "2017-04     42\n",
       "2017-05     43\n",
       "2017-06     48\n",
       "2017-07     51\n",
       "2017-08      2\n",
       "Name: timestamp, dtype: int64"
      ]
     },
     "execution_count": 237,
     "metadata": {},
     "output_type": "execute_result"
    }
   ],
   "source": [
    "twitter_combined_clean_df['timestamp'].apply(lambda x: x.strftime('%Y-%m')).value_counts().sort_index()"
   ]
  },
  {
   "cell_type": "code",
   "execution_count": 238,
   "metadata": {},
   "outputs": [
    {
     "data": {
      "image/png": "[encoded data removed]",
      "text/plain": [
       "<Figure size 576x360 with 1 Axes>"
      ]
     },
     "metadata": {
      "needs_background": "light"
     },
     "output_type": "display_data"
    }
   ],
   "source": [
    "fig = plt.figure(figsize=[8, 5])\n",
    "data = twitter_combined_clean_df.tweet_id.groupby([twitter_combined_clean_df[\"timestamp\"].dt.year, twitter_combined_clean_df[\"timestamp\"].dt.month]).count()\n",
    "ax = data.plot(kind ='line', title='WeRateDogs tweet trend over time')\n",
    "ax.set_xlabel(\"(Year, Month)\")\n",
    "ax.set_ylabel(\"Number of Tweets\")\n",
    "ax.set_ylim(0, )\n",
    "plt.savefig('tweet_trend')"
   ]
  },
  {
   "cell_type": "markdown",
   "metadata": {},
   "source": [
    "The above line graph shows that the tweets were higher in the beginning and slowed down rapidly after. December 2015 had the highest number of tweets after which the number of tweets started to decline rapidly until April 2016. The tweets frequency started to pick up slightly after that but then started to decline at a slower rate. Overall the number of tweets have a downward trend with a steep decline until April 2016 and slower decline after that."
   ]
  },
  {
   "cell_type": "markdown",
   "metadata": {},
   "source": [
    "#### What are the retweets and favorites counts over time?"
   ]
  },
  {
   "cell_type": "code",
   "execution_count": 239,
   "metadata": {},
   "outputs": [
    {
     "data": {
      "image/png": "[encoded data removed]",
      "text/plain": [
       "<Figure size 576x360 with 1 Axes>"
      ]
     },
     "metadata": {
      "needs_background": "light"
     },
     "output_type": "display_data"
    }
   ],
   "source": [
    "fig = plt.figure(figsize=[8, 5])\n",
    "twitter_combined_clean_df.retweet_count.groupby([twitter_combined_clean_df['timestamp'].dt.year, twitter_combined_clean_df['timestamp'].dt.month]).mean().plot(kind = 'line')\n",
    "twitter_combined_clean_df.favorite_count.groupby([twitter_combined_clean_df['timestamp'].dt.year, twitter_combined_clean_df['timestamp'].dt.month]).mean().plot(kind = 'line')\n",
    "plt.title('Retweets and Favorites over time', size =15)\n",
    "plt.ylabel('Number of Tweets')\n",
    "plt.xlabel('Time (Year, Month)')\n",
    "plt.legend(('Retweet Count', 'Favorite Count'), fontsize=12)\n",
    "plt.savefig('ret_fav');"
   ]
  },
  {
   "cell_type": "markdown",
   "metadata": {},
   "source": [
    "The above graph shows that both the number of favorites and retweets have grown over the time. The favorite counts are higher than that of retweet counts. The growth rate of retweets is gradual over the years. However, the number of favorites have grown heavily after a steep decline in mid 2016."
   ]
  },
  {
   "cell_type": "markdown",
   "metadata": {},
   "source": [
    "#### What is the breakdown of the dog_stage?"
   ]
  },
  {
   "cell_type": "code",
   "execution_count": 260,
   "metadata": {},
   "outputs": [
    {
     "data": {
      "text/plain": [
       "pupper      220\n",
       "doggo        72\n",
       "puppo        23\n",
       "multiple     11\n",
       "floofer       9\n",
       "Name: dog_stage, dtype: int64"
      ]
     },
     "execution_count": 260,
     "metadata": {},
     "output_type": "execute_result"
    }
   ],
   "source": [
    "test1 = twitter_combined_clean_df['dog_stage'] != ''\n",
    "twitter_combined_clean_df[test1]['dog_stage'].value_counts()"
   ]
  },
  {
   "cell_type": "code",
   "execution_count": 261,
   "metadata": {},
   "outputs": [
    {
     "data": {
      "image/png": "[encoded data removed]",
      "text/plain": [
       "<Figure size 576x360 with 1 Axes>"
      ]
     },
     "metadata": {
      "needs_background": "light"
     },
     "output_type": "display_data"
    }
   ],
   "source": [
    "fig = plt.figure(figsize=[8, 5])\n",
    "sns.countplot(data=twitter_combined_clean_df[test1], x='dog_stage')\n",
    "plt.title('Breakdown of Dog stages', size=15)\n",
    "plt.xlabel('Dog Stage')\n",
    "plt.savefig('dog_stages');"
   ]
  },
  {
   "cell_type": "markdown",
   "metadata": {},
   "source": [
    "The above bar shows that pupper was the highest reported with 220 counts, followed by doggo with 72 counts, puppo with 23 counts, and multiple with 11 counts. Floofer was the least reported with 4 counts."
   ]
  },
  {
   "cell_type": "code",
   "execution_count": null,
   "metadata": {},
   "outputs": [],
   "source": []
  }
 ],
 "metadata": {
  "kernelspec": {
   "display_name": "Python 3",
   "language": "python",
   "name": "python3"
  },
  "language_info": {
   "codemirror_mode": {
    "name": "ipython",
    "version": 3
   },
   "file_extension": ".py",
   "mimetype": "text/x-python",
   "name": "python",
   "nbconvert_exporter": "python",
   "pygments_lexer": "ipython3",
   "version": "3.7.7"
  }
 },
 "nbformat": 4,
 "nbformat_minor": 4
}
